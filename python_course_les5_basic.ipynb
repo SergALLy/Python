{
 "cells": [
  {
   "cell_type": "markdown",
   "metadata": {},
   "source": [
    "# Урок 5. Работа с функциями в Python"
   ]
  },
  {
   "cell_type": "markdown",
   "metadata": {},
   "source": [
    "Добро пожаловать на пятый урок по программированию на Python! Сегодня мы научимся писать собственные функции. "
   ]
  },
  {
   "cell_type": "markdown",
   "metadata": {},
   "source": [
    "**Функции** являются одной из основных концепций в программировании, позволяя разбивать код на логические блоки, повышать его читаемость, повторно использовать код и улучшать его организацию. \n",
    "\n",
    "В этом уроке мы подробно рассмотрим следующие темы:\n",
    "\n",
    "1. Что такое функции.\n",
    "2. Объявление и вызов функций.\n",
    "3. Оператор `return`.\n",
    "4. Именованные аргументы.\n",
    "5. Функции с произвольным числом параметров.\n",
    "6. Рекурсивные функции.\n",
    "7. Анонимные функции (лямбда-функции).\n",
    "8. Области видимости (`global`, `nonlocal`).\n",
    "9. Вложенные функции.\n",
    "10. Декораторы функций.\n",
    "11. Передача аргументов декораторам."
   ]
  },
  {
   "cell_type": "markdown",
   "metadata": {},
   "source": [
    "## 1. Что такое функции\n",
    "\n",
    "### Определение\n",
    "\n",
    "**Функция** — это именованный блок кода, который выполняет определенную задачу и может быть вызван из других частей программы. Функции помогают:\n",
    "\n",
    "- **Разделить программу на логические части**, делая код более организованным и структурированным.\n",
    "- **Повысить повторное использование кода**, избегая дублирования.\n",
    "- **Упростить тестирование и отладку**, поскольку функции могут быть протестированы независимо.\n",
    "- **Улучшить читаемость кода**, делая его более понятным и легким для сопровождения.\n",
    "\n",
    "### Пример из реальной жизни\n",
    "\n",
    "Представьте себе, что вы пишете книгу рецептов. Вместо того чтобы каждый раз подробно описывать, как приготовить тесто для пиццы, вы можете написать отдельный рецепт \"Приготовление теста\", а затем ссылаться на него в других рецептах. Аналогично, функции позволяют выделить общий код и использовать его в разных местах программы."
   ]
  },
  {
   "cell_type": "markdown",
   "metadata": {},
   "source": [
    "## 2. Объявление и вызов функций\n",
    "\n",
    "### Объявление функции\n",
    "\n",
    "В Python функция объявляется с помощью ключевого слова `def`, за которым следует имя функции, круглые скобки с параметрами (если они требуются) и двоеточие. Тело функции начинается на следующей строке с отступом.\n",
    "\n",
    "**Синтаксис:**\n",
    "\n",
    "```python\n",
    "def function_name(parameters):\n",
    "    # Тело функции\n",
    "    instruction1\n",
    "    instruction2\n",
    "    ...\n",
    "```\n",
    "\n",
    "**Правила именования функций:**\n",
    "\n",
    "- Имя функции должно начинаться с буквы или символа подчеркивания.\n",
    "- Может содержать буквы, цифры и символы подчеркивания.\n",
    "- Регистр имеет значение (`myFunction` и `myfunction` — разные имена).\n",
    "- Избегайте использования встроенных имен Python (например, `print`, `list`).\n",
    "\n",
    "**Пример:**"
   ]
  },
  {
   "cell_type": "code",
   "execution_count": null,
   "metadata": {},
   "outputs": [],
   "source": [
    "def greeting():\n",
    "    print(\"Здравствуйте!\")"
   ]
  },
  {
   "cell_type": "markdown",
   "metadata": {},
   "source": [
    "### Вызов функции\n",
    "\n",
    "Чтобы вызвать функцию, укажите её имя и передайте аргументы (если они требуются) в круглых скобках.\n",
    "\n",
    "**Пример:**"
   ]
  },
  {
   "cell_type": "code",
   "execution_count": null,
   "metadata": {},
   "outputs": [],
   "source": [
    "greeting()"
   ]
  },
  {
   "cell_type": "markdown",
   "metadata": {},
   "source": [
    "### Параметры и аргументы\n",
    "\n",
    "- **Параметры** — это переменные, указанные в определении функции.\n",
    "- **Аргументы** — это значения, переданные функции при её вызове.\n",
    "\n",
    "**Пример функции с параметрами:**"
   ]
  },
  {
   "cell_type": "code",
   "execution_count": null,
   "metadata": {},
   "outputs": [],
   "source": [
    "def greeting(name):\n",
    "    print(f\"Здравствуйте, {name}!\")\n",
    "\n",
    "greeting(\"Иван\")"
   ]
  },
  {
   "cell_type": "markdown",
   "metadata": {},
   "source": [
    "## 3. Оператор `return`\n",
    "\n",
    "### Назначение оператора `return`\n",
    "\n",
    "Оператор `return` используется для завершения выполнения функции и возврата значения в точку вызова функции. Он позволяет функции передать результат своих вычислений обратно в основную программу или другую функцию.\n",
    "\n",
    "### Синтаксис:\n",
    "\n",
    "```python\n",
    "def function_name(parameters):\n",
    "    # Тело функции\n",
    "    ...\n",
    "    return value\n",
    "```\n",
    "\n",
    "Если оператор `return` отсутствует или указан без значения (`return`), функция возвращает значение `None`.\n",
    "\n",
    "### Пример функции с возвратом значения:\n"
   ]
  },
  {
   "cell_type": "code",
   "execution_count": null,
   "metadata": {},
   "outputs": [],
   "source": [
    "def add(a, b):\n",
    "    result = a + b\n",
    "    return result\n",
    "\n",
    "# Использование функции\n",
    "sum_result = add(3, 5)\n",
    "print(sum_result) "
   ]
  },
  {
   "cell_type": "markdown",
   "metadata": {},
   "source": [
    "### Возврат нескольких значений\n",
    "\n",
    "Функция может возвращать несколько значений\n",
    "\n",
    "**Пример:**"
   ]
  },
  {
   "cell_type": "code",
   "execution_count": null,
   "metadata": {},
   "outputs": [],
   "source": [
    "def calculations(a, b):\n",
    "    sum_result = a + b\n",
    "    difference = a - b\n",
    "    product = a * b\n",
    "    quotient = a / b\n",
    "    return sum_result, difference, product, quotient\n",
    "\n",
    "s, d, p, q = calculations(10, 5)\n",
    "print(f\"Сумма: {s}, Разность: {d}, Произведение: {p}, Частное: {q}\")"
   ]
  },
  {
   "cell_type": "markdown",
   "metadata": {},
   "source": [
    "### Примечание\n",
    "\n",
    "- После выполнения оператора `return` функция завершается, и последующие инструкции не выполняются.\n",
    "- Можно использовать `return` без значения для преждевременного выхода из функции."
   ]
  },
  {
   "cell_type": "markdown",
   "metadata": {},
   "source": [
    "**Пример преждевременного выхода:**"
   ]
  },
  {
   "cell_type": "code",
   "execution_count": null,
   "metadata": {},
   "outputs": [],
   "source": [
    "def check_positive(number):\n",
    "    if number < 0:\n",
    "        print(\"Отрицательное число\")\n",
    "        return\n",
    "    print(\"Положительное число\")\n",
    "\n",
    "check_positive(-5)"
   ]
  },
  {
   "cell_type": "markdown",
   "metadata": {},
   "source": [
    "## 4. Именованные аргументы\n",
    "\n",
    "### Позиционные и именованные аргументы\n",
    "\n",
    "- **Позиционные аргументы**: значения передаются функции в том порядке, в котором указаны параметры в определении функции.\n",
    "- **Именованные аргументы**: значения передаются с указанием имени параметра, ***независимо от порядка***.\n",
    "\n",
    "**Пример использования позиционных и именованных аргументов:**"
   ]
  },
  {
   "cell_type": "code",
   "execution_count": null,
   "metadata": {},
   "outputs": [],
   "source": [
    "def info(name, age, city):\n",
    "    print(f\"Имя: {name}, Возраст: {age}, Город: {city}\")\n",
    "\n",
    "# Позиционные аргументы\n",
    "info(\"Иван\", 25, \"Москва\")\n",
    "\n",
    "# Именованные аргументы\n",
    "info(city=\"Санкт-Петербург\", name=\"Анна\", age=30)"
   ]
  },
  {
   "cell_type": "markdown",
   "metadata": {},
   "source": [
    "### Аргументы по умолчанию\n",
    "\n",
    "При объявлении функции можно задавать значения параметров по умолчанию. Если аргумент не передан при вызове функции, будет использовано значение по умолчанию.\n",
    "\n",
    "**Синтаксис:**\n",
    "\n",
    "```python\n",
    "def function_name(parameter1=default_value1, parameter2=default_value2):\n",
    "    # Тело функции\n",
    "    ...\n",
    "```\n",
    "\n",
    "**Пример:**"
   ]
  },
  {
   "cell_type": "code",
   "execution_count": null,
   "metadata": {},
   "outputs": [],
   "source": [
    "def greeting(name=\"Гость\", message=\"Добро пожаловать!\"):\n",
    "    print(f\"{message}, {name}!\")\n",
    "\n",
    "greeting() \n",
    "greeting(\"Мария\") \n",
    "greeting(\"Алексей\", \"Здравствуйте\") "
   ]
  },
  {
   "cell_type": "markdown",
   "metadata": {},
   "source": [
    "### Правила использования аргументов\n",
    "\n",
    "- Параметры с значениями по умолчанию должны быть указаны **после** параметров без значений по умолчанию.\n",
    "- При смешивании позиционных и именованных аргументов, позиционные аргументы должны предшествовать именованным.\n",
    "\n",
    "**Некорректный пример:**\n",
    "\n",
    "```python\n",
    "def function(a=1, b):\n",
    "    pass\n",
    "# Ошибка: параметры с значениями по умолчанию должны идти после параметров без значений по умолчанию\n",
    "```\n",
    "\n",
    "---\n",
    "\n",
    "## 5. Функции с произвольным числом параметров\n",
    "\n",
    "Иногда требуется, чтобы функция могла принимать произвольное количество аргументов. Для этого используются специальные синтаксические конструкции `*args` и `**kwargs`.\n",
    "\n",
    "### Позиционные аргументы `*args`\n",
    "\n",
    "- **`*args`** позволяет функции принимать любое количество позиционных аргументов.\n",
    "- Внутри функции `args` — это кортеж, содержащий все переданные дополнительные позиционные аргументы.\n",
    "\n",
    "**Синтаксис:**\n",
    "\n",
    "```python\n",
    "def function_name(*args):\n",
    "    # args — кортеж дополнительных аргументов\n",
    "    ...\n",
    "```\n",
    "\n",
    "**Пример:**"
   ]
  },
  {
   "cell_type": "code",
   "execution_count": null,
   "metadata": {},
   "outputs": [],
   "source": [
    "def add_numbers(*args):\n",
    "    result = 0\n",
    "    for number in args:\n",
    "        result += number\n",
    "    return result\n",
    "\n",
    "print(add_numbers(1, 2, 3))    \n",
    "print(add_numbers(4, 5, 6, 7))     \n",
    "print(add_numbers())              "
   ]
  },
  {
   "cell_type": "markdown",
   "metadata": {},
   "source": [
    "### Именованные аргументы `**kwargs`\n",
    "\n",
    "- **`**kwargs`** позволяет функции принимать произвольное количество именованных аргументов.\n",
    "- Внутри функции `kwargs` — это словарь, содержащий пары ключ-значение для всех переданных дополнительных именованных аргументов.\n",
    "\n",
    "**Синтаксис:**\n",
    "\n",
    "```python\n",
    "def function_name(**kwargs):\n",
    "    # kwargs — словарь дополнительных именованных аргументов\n",
    "    ...\n",
    "```\n",
    "\n",
    "**Пример:**"
   ]
  },
  {
   "cell_type": "code",
   "execution_count": null,
   "metadata": {},
   "outputs": [],
   "source": [
    "def info(**kwargs):\n",
    "    for key, value in kwargs.items():\n",
    "        print(f\"{key}: {value}\")\n",
    "\n",
    "info(name=\"Мария\", age=25, city=\"Москва\")"
   ]
  },
  {
   "cell_type": "markdown",
   "metadata": {},
   "source": [
    "### Комбинирование параметров\n",
    "\n",
    "При объявлении функции параметры должны быть расположены в следующем порядке:\n",
    "\n",
    "1. Позиционные параметры (без значений по умолчанию)\n",
    "2. Параметры со значениями по умолчанию\n",
    "3. `*args`\n",
    "4. Параметры только для именованных аргументов (начиная с `*`)\n",
    "5. `**kwargs`\n",
    "\n",
    "**Пример:**"
   ]
  },
  {
   "cell_type": "code",
   "execution_count": null,
   "metadata": {},
   "outputs": [],
   "source": [
    "def function(a, b=2, *args, c=3, **kwargs):\n",
    "    print(\"a:\", a)\n",
    "    print(\"b:\", b)\n",
    "    print(\"args:\", args)\n",
    "    print(\"c:\", c)\n",
    "    print(\"kwargs:\", kwargs)\n",
    "\n",
    "function(1, 4, 5, 6, c=7, d=8, e=9)"
   ]
  },
  {
   "cell_type": "markdown",
   "metadata": {},
   "source": [
    "## 6. Рекурсивные функции\n",
    "\n",
    "### Что такое рекурсия\n",
    "\n",
    "**Рекурсия** — это способность функции вызывать саму себя для решения подзадач, сходных с исходной задачей. Рекурсия состоит из двух основных частей:\n",
    "\n",
    "1. **Базовый случай**: условие, при котором функция прекращает вызывать саму себя.\n",
    "2. **Рекурсивный случай**: часть функции, где она вызывает саму себя с изменёнными параметрами.\n",
    "\n",
    "### Важность базового случая\n",
    "\n",
    "Без базового случая рекурсия приведёт к бесконечному вызову функции и переполнению стека вызовов, что вызовет ошибку `RecursionError`.\n",
    "\n",
    "### Пример: Вычисление факториала числа\n",
    "\n",
    "**Факториал числа `n`** (`n!`) — произведение всех натуральных чисел от 1 до `n`.\n",
    "\n",
    "**Рекурсивное определение:**\n",
    "\n",
    "- `n! = n * (n - 1)!`\n",
    "- Базовый случай: `0! = 1` или `1! = 1`\n",
    "\n",
    "**Реализация:**"
   ]
  },
  {
   "cell_type": "code",
   "execution_count": null,
   "metadata": {},
   "outputs": [],
   "source": [
    "def factorial(n):\n",
    "    if n < 0:\n",
    "        return \"Факториал не определен для отрицательных чисел\"\n",
    "    elif n == 0 or n == 1:\n",
    "        return 1\n",
    "    else:\n",
    "        return n * factorial(n - 1)\n",
    "\n",
    "print(factorial(5))  "
   ]
  },
  {
   "cell_type": "markdown",
   "metadata": {},
   "source": [
    "**Пояснение:**\n",
    "\n",
    "- **Базовый случай**: если `n` равно 0 или 1, функция возвращает 1.\n",
    "- **Рекурсивный случай**: функция вызывает саму себя с параметром `n - 1`.\n",
    "\n",
    "### Пример: Числа Фибоначчи\n",
    "\n",
    "**Последовательность Фибоначчи**: каждое число является суммой двух предыдущих.\n",
    "\n",
    "- `F(0) = 0`\n",
    "- `F(1) = 1`\n",
    "- `F(n) = F(n - 1) + F(n - 2)`\n",
    "\n",
    "**Реализация:**"
   ]
  },
  {
   "cell_type": "code",
   "execution_count": null,
   "metadata": {},
   "outputs": [],
   "source": [
    "def fibonacci(n):\n",
    "    if n < 0:\n",
    "        return \"Некорректное значение n\"\n",
    "    elif n == 0:\n",
    "        return 0\n",
    "    elif n == 1:\n",
    "        return 1\n",
    "    else:\n",
    "        return fibonacci(n - 1) + fibonacci(n - 2)\n",
    "\n",
    "print(fibonacci(6)) "
   ]
  },
  {
   "cell_type": "markdown",
   "metadata": {},
   "source": [
    "## 7. Анонимные функции (лямбда-функции)\n",
    "\n",
    "### Что такое лямбда-функции\n",
    "\n",
    "**Лямбда-функции** (анонимные функции) — это небольшие функции, определяемые без имени с помощью ключевого слова `lambda`. Они могут содержать только одно выражение и автоматически возвращают его результат.\n",
    "\n",
    "### Синтаксис\n",
    "\n",
    "```python\n",
    "lambda arguments: expression\n",
    "```\n",
    "\n",
    "### Пример использования\n",
    "\n",
    "**Примеры:**"
   ]
  },
  {
   "cell_type": "code",
   "execution_count": null,
   "metadata": {},
   "outputs": [],
   "source": [
    "# Функция для возведения числа в квадрат\n",
    "square = lambda x: x ** 2\n",
    "\n",
    "print(square(4)) \n",
    "\n",
    "# Функция для вычисления суммы двух чисел\n",
    "add = lambda a, b: a + b\n",
    "\n",
    "print(add(3, 5)) "
   ]
  },
  {
   "cell_type": "markdown",
   "metadata": {},
   "source": [
    "### Использование с встроенными функциями\n",
    "\n",
    "Лямбда-функции часто используются с функциями высшего порядка, такими как `map()`, `filter()`, `reduce()`.\n",
    "\n",
    "- **`map(function, iterable)`**: применяет функцию к каждому элементу итерации.\n",
    "- **`filter(function, iterable)`**: отбирает элементы, для которых функция возвращает `True`.\n",
    "- **`reduce(function, iterable)`**: сводит итерацию к единому значению (требует импорта из модуля `functools`).\n",
    "\n",
    "**Пример с `map()`:**\n",
    "\n"
   ]
  },
  {
   "cell_type": "code",
   "execution_count": null,
   "metadata": {},
   "outputs": [],
   "source": [
    "numbers = [1, 2, 3, 4, 5]\n",
    "squares = list(map(lambda x: x ** 2, numbers))\n",
    "print(squares)  "
   ]
  },
  {
   "cell_type": "markdown",
   "metadata": {},
   "source": [
    "**Пример с `filter()`:**"
   ]
  },
  {
   "cell_type": "code",
   "execution_count": null,
   "metadata": {},
   "outputs": [],
   "source": [
    "evens = list(filter(lambda x: x % 2 == 0, numbers))\n",
    "print(evens) "
   ]
  },
  {
   "cell_type": "markdown",
   "metadata": {},
   "source": [
    "**Пример с `reduce()`:**"
   ]
  },
  {
   "cell_type": "code",
   "execution_count": null,
   "metadata": {},
   "outputs": [],
   "source": [
    "from functools import reduce\n",
    "\n",
    "sum_numbers = reduce(lambda x, y: x + y, numbers)\n",
    "print(sum_numbers) "
   ]
  },
  {
   "cell_type": "markdown",
   "metadata": {},
   "source": [
    "### Ограничения лямбда-функций\n",
    "\n",
    "- Лямбда-функции могут содержать только одно выражение.\n",
    "- Не поддерживают многострочные инструкции и выражения.\n",
    "- Часто используются для коротких функций, где объявление полноценной функции было бы избыточным.\n",
    "\n",
    "---\n",
    "\n",
    "## 8. Области видимости (`global`, `nonlocal`)\n",
    "\n",
    "### Понятие области видимости\n",
    "\n",
    "**Область видимости** — это часть программы, в которой определена переменная и доступна для использования.\n",
    "\n",
    "- **Локальная область видимости**: внутри функции или блока кода.\n",
    "- **Глобальная область видимости**: на уровне основной программы.\n",
    "\n",
    "### Локальные и глобальные переменные\n",
    "\n",
    "- **Локальные переменные**: определены внутри функции и доступны только внутри неё.\n",
    "- **Глобальные переменные**: определены вне функций и доступны во всей программе.\n",
    "\n",
    "**Пример:**\n"
   ]
  },
  {
   "cell_type": "code",
   "execution_count": null,
   "metadata": {},
   "outputs": [],
   "source": [
    "x = 10  # Глобальная переменная\n",
    "\n",
    "def my_function():\n",
    "    x = 5  # Локальная переменная\n",
    "    print(\"Внутри функции x =\", x)\n",
    "\n",
    "my_function()             # Вывод: Внутри функции x = 5\n",
    "print(\"Вне функции x =\", x)  # Вывод: Вне функции x = 10"
   ]
  },
  {
   "cell_type": "markdown",
   "metadata": {},
   "source": [
    "### Ключевое слово `global`\n",
    "\n",
    "Используется для изменения глобальной переменной внутри функции.\n",
    "\n",
    "**Синтаксис:**\n",
    "\n",
    "```python\n",
    "def my_function():\n",
    "    global variable_name\n",
    "    # Теперь изменения variable_name будут влиять на глобальную переменную\n",
    "```\n",
    "\n",
    "**Пример:**"
   ]
  },
  {
   "cell_type": "code",
   "execution_count": null,
   "metadata": {},
   "outputs": [],
   "source": [
    "x = 10\n",
    "\n",
    "def my_function():\n",
    "    global x\n",
    "    x = 5\n",
    "    print(\"Внутри функции x =\", x)\n",
    "\n",
    "my_function()             \n",
    "print(\"Вне функции x =\", x) "
   ]
  },
  {
   "cell_type": "markdown",
   "metadata": {},
   "source": [
    "### Ключевое слово `nonlocal`\n",
    "\n",
    "Используется внутри вложенных функций для изменения переменной, определённой во внешней (но не глобальной) области видимости.\n",
    "\n",
    "**Синтаксис:**\n",
    "\n",
    "```python\n",
    "def outer_function():\n",
    "    x = 5\n",
    "    def inner_function():\n",
    "        nonlocal x\n",
    "        x = 10\n",
    "    inner_function()\n",
    "    print(\"После вызова внутренней функции x =\", x)\n",
    "```\n",
    "\n",
    "**Пример:**"
   ]
  },
  {
   "cell_type": "code",
   "execution_count": null,
   "metadata": {},
   "outputs": [],
   "source": [
    "def outer_function():\n",
    "    message = \"Привет\"\n",
    "    def inner_function():\n",
    "        nonlocal message\n",
    "        message = \"Пока\"\n",
    "    inner_function()\n",
    "    print(message)\n",
    "\n",
    "outer_function() "
   ]
  },
  {
   "cell_type": "markdown",
   "metadata": {},
   "source": [
    "\n",
    "### Правила LEGB\n",
    "\n",
    "- **L (Local)**: Локальная область видимости (внутри функции).\n",
    "- **E (Enclosing)**: Область видимости охватывающих функций (для вложенных функций).\n",
    "- **G (Global)**: Глобальная область видимости (на уровне модуля).\n",
    "- **B (Built-in)**: Встроенная область видимости (встроенные функции Python).\n",
    "\n",
    "Python ищет переменные в порядке LEGB.\n",
    "\n",
    "---\n",
    "\n",
    "## 9. Вложенные функции\n",
    "\n",
    "### Что такое вложенные функции\n",
    "\n",
    "**Вложенные функции** — это функции, определённые внутри других функций. Они могут использовать переменные внешней функции и создавать замыкания.\n",
    "\n",
    "### Пример использования\n",
    "\n",
    "**Пример 1:**"
   ]
  },
  {
   "cell_type": "code",
   "execution_count": null,
   "metadata": {},
   "outputs": [],
   "source": [
    "def outer_function(text):\n",
    "    def inner_function():\n",
    "        print(text)\n",
    "    inner_function()\n",
    "\n",
    "outer_function(\"Здравствуйте!\") "
   ]
  },
  {
   "cell_type": "markdown",
   "metadata": {},
   "source": [
    "\n",
    "### Замыкания\n",
    "\n",
    "**Замыкание** — это функция, которая запоминает своё окружение (контекст), в котором была создана, даже если этот контекст уже недоступен.\n",
    "\n",
    "**Пример замыкания:**"
   ]
  },
  {
   "cell_type": "code",
   "execution_count": null,
   "metadata": {},
   "outputs": [],
   "source": [
    "def multiplier(factor):\n",
    "    def multiply(number):\n",
    "        return number * factor\n",
    "    return multiply\n",
    "\n",
    "multiply_by_3 = multiplier(3)\n",
    "print(multiply_by_3(5)) "
   ]
  },
  {
   "cell_type": "markdown",
   "metadata": {},
   "source": [
    "**Пояснение:**\n",
    "\n",
    "- Функция `multiplier` возвращает вложенную функцию `multiply`.\n",
    "- `multiply` запоминает значение `factor` из внешней функции.\n",
    "- Получается замыкание, которое можно использовать позже.\n",
    "\n",
    "---\n",
    "\n",
    "## 10. Декораторы функций\n",
    "\n",
    "### Что такое декораторы\n",
    "\n",
    "**Декораторы** — это функции, которые принимают другую функцию в качестве аргумента и возвращают новую функцию, расширяя функциональность исходной функции без изменения её кода.\n",
    "\n",
    "### Зачем нужны декораторы\n",
    "\n",
    "- **Добавление функциональности**: позволяют добавить дополнительное поведение к существующим функциям.\n",
    "- **Повторное использование кода**: можно применить один и тот же декоратор к разным функциям.\n",
    "- **Читаемость кода**: повышают читаемость и структурированность.\n",
    "\n",
    "### Создание простого декоратора\n",
    "\n",
    "**Синтаксис:**\n",
    "\n",
    "```python\n",
    "def decorator(function):\n",
    "    def wrapper(*args, **kwargs):\n",
    "        # Действия перед вызовом функции\n",
    "        result = function(*args, **kwargs)\n",
    "        # Действия после вызова функции\n",
    "        return result\n",
    "    return wrapper\n",
    "```"
   ]
  },
  {
   "cell_type": "markdown",
   "metadata": {},
   "source": [
    "\n",
    "### Пример использования\n",
    "\n",
    "**Пример:**"
   ]
  },
  {
   "cell_type": "code",
   "execution_count": 1,
   "metadata": {},
   "outputs": [
    {
     "name": "stdout",
     "output_type": "stream",
     "text": [
      "Перед выполнением функции\n",
      "Привет, мир!\n",
      "После выполнения функции\n"
     ]
    }
   ],
   "source": [
    "def decorator(function):\n",
    "    def wrapper():\n",
    "        print(\"Перед выполнением функции\")\n",
    "        function()\n",
    "        print(\"После выполнения функции\")\n",
    "    return wrapper\n",
    "\n",
    "@decorator\n",
    "def say_hello():\n",
    "    print(\"Привет, мир!\")\n",
    "\n",
    "say_hello()"
   ]
  },
  {
   "cell_type": "markdown",
   "metadata": {},
   "source": [
    "**Пояснение:**\n",
    "\n",
    "- Декоратор `decorator` принимает функцию `say_hello` и возвращает новую функцию `wrapper`.\n",
    "- Используется синтаксис `@decorator` для применения декоратора.\n",
    "- При вызове `say_hello()` фактически вызывается функция `wrapper`."
   ]
  },
  {
   "cell_type": "markdown",
   "metadata": {},
   "source": [
    "\n",
    "### Декоратор с аргументами функции\n",
    "\n",
    "Если декорируемая функция принимает аргументы, обертка должна принимать `*args` и `**kwargs`.\n",
    "\n",
    "**Пример:**"
   ]
  },
  {
   "cell_type": "code",
   "execution_count": null,
   "metadata": {},
   "outputs": [],
   "source": [
    "def decorator(function):\n",
    "    def wrapper(*args, **kwargs):\n",
    "        print(\"Аргументы функции:\", args, kwargs)\n",
    "        result = function(*args, **kwargs)\n",
    "        return result\n",
    "    return wrapper\n",
    "\n",
    "@decorator\n",
    "def add(a, b):\n",
    "    return a + b\n",
    "\n",
    "result = add(2, 3)\n",
    "print(\"Результат:\", result)"
   ]
  },
  {
   "cell_type": "markdown",
   "metadata": {},
   "source": [
    "### Несколько декораторов\n",
    "\n",
    "Можно применять несколько декораторов к одной функции.\n",
    "\n",
    "**Пример:**\n"
   ]
  },
  {
   "cell_type": "code",
   "execution_count": null,
   "metadata": {},
   "outputs": [],
   "source": [
    "def decorator1(function):\n",
    "    def wrapper():\n",
    "        print(\"Декоратор 1\")\n",
    "        function()\n",
    "    return wrapper\n",
    "\n",
    "def decorator2(function):\n",
    "    def wrapper():\n",
    "        print(\"Декоратор 2\")\n",
    "        function()\n",
    "    return wrapper\n",
    "\n",
    "@decorator1\n",
    "@decorator2\n",
    "def my_function():\n",
    "    print(\"Исходная функция\")\n",
    "\n",
    "my_function()"
   ]
  },
  {
   "cell_type": "markdown",
   "metadata": {},
   "source": [
    "\n",
    "**Порядок применения декораторов:**\n",
    "\n",
    "- Декораторы применяются снизу вверх.\n",
    "- В данном примере `my_function` сначала оборачивается декоратором `decorator2`, затем результат оборачивается декоратором `decorator1`.\n",
    "\n",
    "---\n",
    "\n",
    "## 11. Передача аргументов декораторам\n",
    "\n",
    "Декораторы могут принимать собственные аргументы. Для этого требуется вложить декоратор в дополнительную функцию.\n",
    "\n",
    "### Синтаксис\n",
    "\n",
    "```python\n",
    "def decorator_with_arguments(argument):\n",
    "    def decorator(function):\n",
    "        def wrapper(*args, **kwargs):\n",
    "            # Использование аргумента декоратора\n",
    "            ...\n",
    "            result = function(*args, **kwargs)\n",
    "            return result\n",
    "        return wrapper\n",
    "    return decorator\n",
    "```\n",
    "\n",
    "### Пример использования\n",
    "\n",
    "**Пример:**"
   ]
  },
  {
   "cell_type": "code",
   "execution_count": null,
   "metadata": {},
   "outputs": [],
   "source": [
    "def repeat(n):\n",
    "    def decorator(function):\n",
    "        def wrapper(*args, **kwargs):\n",
    "            for _ in range(n):\n",
    "                function(*args, **kwargs)\n",
    "        return wrapper\n",
    "    return decorator\n",
    "\n",
    "@repeat(3)\n",
    "def say_hello(name):\n",
    "    print(f\"Привет, {name}!\")\n",
    "\n",
    "say_hello(\"Анна\")"
   ]
  },
  {
   "cell_type": "markdown",
   "metadata": {},
   "source": [
    "\n",
    "**Пояснение:**\n",
    "\n",
    "- Декоратор `repeat` принимает аргумент `n`.\n",
    "- Возвращает декоратор, который оборачивает функцию `say_hello`.\n",
    "- При вызове `say_hello(\"Анна\")` функция вызывается `n` раз."
   ]
  },
  {
   "cell_type": "markdown",
   "metadata": {},
   "source": [
    "# Задания для закрепления материала"
   ]
  },
  {
   "cell_type": "markdown",
   "metadata": {},
   "source": [
    "# Задание 1: Простейшая функция\n",
    "\n",
    "**Описание**: Напишите функцию `greeting()`, которая выводит на экран сообщение \"Привет, мир!\".\n",
    "\n",
    "**Подсказка**: Определите функцию без параметров и используйте `print()` внутри неё."
   ]
  },
  {
   "cell_type": "code",
   "execution_count": 2,
   "metadata": {},
   "outputs": [
    {
     "name": "stdout",
     "output_type": "stream",
     "text": [
      "Hello world!\n"
     ]
    }
   ],
   "source": [
    "def greeting():\n",
    "    print('Hello world!')\n",
    "\n",
    "greeting()"
   ]
  },
  {
   "cell_type": "markdown",
   "metadata": {},
   "source": [
    "# Задание 2: Функция с параметром\n",
    "\n",
    "**Описание**: Создайте функцию `square(number)`, которая возвращает квадрат переданного числа.\n",
    "\n",
    "**Подсказка**: Используйте оператор `return` для возврата результата."
   ]
  },
  {
   "cell_type": "code",
   "execution_count": 1,
   "metadata": {},
   "outputs": [
    {
     "name": "stdout",
     "output_type": "stream",
     "text": [
      "25\n"
     ]
    }
   ],
   "source": [
    "def square(number):\n",
    "    return number**2\n",
    "\n",
    "print(square(5))"
   ]
  },
  {
   "cell_type": "markdown",
   "metadata": {},
   "source": [
    "# Задание 3: Функция с аргументом по умолчанию\n",
    "\n",
    "**Описание**: Напишите функцию `greeting(name=\"Гость\")`, которая выводит приветствие с указанным именем.\n",
    "\n",
    "**Подсказка**: Задайте параметру `name` значение по умолчанию."
   ]
  },
  {
   "cell_type": "code",
   "execution_count": 4,
   "metadata": {},
   "outputs": [
    {
     "name": "stdout",
     "output_type": "stream",
     "text": [
      "Привет, Sasha!\n",
      "Привет, Гость!\n"
     ]
    }
   ],
   "source": [
    "def greeting(name = 'Гость'):\n",
    "    print(f'Привет, {name}!')\n",
    "\n",
    "greeting(\"Sasha\")\n",
    "greeting()"
   ]
  },
  {
   "cell_type": "markdown",
   "metadata": {},
   "source": [
    "# Задание 4: Использование `*args`\n",
    "\n",
    "**Описание**: Создайте функцию `add_numbers(*numbers)`, которая возвращает сумму переданных ей чисел.\n",
    "\n",
    "**Подсказка**: Используйте цикл `for` для перебора `numbers`."
   ]
  },
  {
   "cell_type": "code",
   "execution_count": 5,
   "metadata": {},
   "outputs": [
    {
     "name": "stdout",
     "output_type": "stream",
     "text": [
      "6\n",
      "45\n"
     ]
    }
   ],
   "source": [
    "def add_numbers(*numbers):\n",
    "    s = 0\n",
    "    for i in numbers:\n",
    "        s+=i\n",
    "    return s\n",
    "\n",
    "print(add_numbers(1,2,3))\n",
    "print(add_numbers(1,2,3,4,5,6,7,8,9))"
   ]
  },
  {
   "cell_type": "markdown",
   "metadata": {},
   "source": [
    "# Задание 5: Использование `**kwargs`\n",
    "\n",
    "**Описание**: Напишите функцию `info(**data)`, которая выводит переданные ей именованные аргументы в формате `ключ: значение`.\n",
    "\n",
    "**Подсказка**: Используйте метод `.items()` для словаря `data`."
   ]
  },
  {
   "cell_type": "code",
   "execution_count": 6,
   "metadata": {},
   "outputs": [
    {
     "name": "stdout",
     "output_type": "stream",
     "text": [
      "name: Petr\n",
      "age: 8\n",
      "city: Moscow\n",
      "---------------------\n",
      "cat: кот\n",
      "milk: молоко\n"
     ]
    }
   ],
   "source": [
    "def info(**data):\n",
    "    for key, val in data.items():\n",
    "        print(f'{key}: {val}')\n",
    "\n",
    "info(name = 'Petr', age = 8, city = 'Moscow')\n",
    "print('---------------------')\n",
    "info(cat = 'кот', milk = 'молоко')"
   ]
  },
  {
   "cell_type": "markdown",
   "metadata": {},
   "source": [
    "# Задание 6: Рекурсивная функция\n",
    "\n",
    "**Описание**: Реализуйте рекурсивную функцию `factorial(n)`, которая вычисляет факториал числа `n`.\n",
    "\n",
    "**Подсказка**: Используйте условие остановки рекурсии."
   ]
  },
  {
   "cell_type": "code",
   "execution_count": 16,
   "metadata": {},
   "outputs": [
    {
     "name": "stdout",
     "output_type": "stream",
     "text": [
      "120\n"
     ]
    }
   ],
   "source": [
    "def fac(n):\n",
    "    if n<0: return None\n",
    "    if n<=1: return n\n",
    "    return n*fac(n-1)\n",
    "\n",
    "print(fac(5))"
   ]
  },
  {
   "cell_type": "markdown",
   "metadata": {},
   "source": [
    "# Задание 7: Лямбда-функция\n",
    "\n",
    "**Описание**: Создайте лямбда-функцию для вычисления куба числа. Примените её к числу 3.\n",
    "\n",
    "**Подсказка**: Используйте синтаксис `lambda`."
   ]
  },
  {
   "cell_type": "code",
   "execution_count": 18,
   "metadata": {},
   "outputs": [
    {
     "name": "stdout",
     "output_type": "stream",
     "text": [
      "27\n"
     ]
    }
   ],
   "source": [
    "cube = lambda a: a**3\n",
    "\n",
    "c = cube(3)\n",
    "print(c)"
   ]
  },
  {
   "cell_type": "markdown",
   "metadata": {},
   "source": [
    "# Задание 8: Глобальная переменная\n",
    "\n",
    "**Описание**: Объявите глобальную переменную `counter` со значением 0. Напишите функцию `increase()`, которая увеличивает `counter` на 1.\n",
    "\n",
    "**Подсказка**: Используйте ключевое слово `global`."
   ]
  },
  {
   "cell_type": "code",
   "execution_count": 19,
   "metadata": {},
   "outputs": [
    {
     "name": "stdout",
     "output_type": "stream",
     "text": [
      "0\n",
      "5\n"
     ]
    }
   ],
   "source": [
    "counter = 0\n",
    "\n",
    "def increase():\n",
    "    global counter\n",
    "    counter+=1\n",
    "\n",
    "print(counter)\n",
    "for _ in range(5):\n",
    "    increase()\n",
    "print(counter)"
   ]
  },
  {
   "cell_type": "markdown",
   "metadata": {},
   "source": [
    "# Задание 9: Вложенная функция\n",
    "\n",
    "**Описание**: Создайте функцию `outer(text)`, внутри которой определена функция `inner()`, выводящая `text` на экран. Вызовите `inner()` внутри `outer()`.\n",
    "\n",
    "**Подсказка**: Используйте вложение функций."
   ]
  },
  {
   "cell_type": "code",
   "execution_count": 22,
   "metadata": {},
   "outputs": [
    {
     "name": "stdout",
     "output_type": "stream",
     "text": [
      "Бла бла бла\n"
     ]
    }
   ],
   "source": [
    "def outer(text):\n",
    "    def inner():\n",
    "        print(text)\n",
    "    inner()\n",
    "\n",
    "outer('Бла бла бла')"
   ]
  },
  {
   "cell_type": "markdown",
   "metadata": {},
   "source": [
    "# Задание 10: Декоратор без аргументов\n",
    "\n",
    "**Описание**: Напишите декоратор `decorator`, который перед выполнением функции выводит сообщение \"Начало\", а после выполнения — \"Конец\". Примените его к функции `my_function()`.\n",
    "\n",
    "**Подсказка**: Используйте синтаксис декораторов `@`."
   ]
  },
  {
   "cell_type": "code",
   "execution_count": 34,
   "metadata": {},
   "outputs": [
    {
     "name": "stdout",
     "output_type": "stream",
     "text": [
      "Start\n",
      "Middle\n",
      "End\n"
     ]
    }
   ],
   "source": [
    "def decorator(function):\n",
    "    def wrapper():\n",
    "        print(\"Start\")\n",
    "        function()\n",
    "        print('End')\n",
    "    return wrapper\n",
    "\n",
    "@decorator\n",
    "def my_function():\n",
    "    print('Middle')\n",
    "\n",
    "my_function()\n"
   ]
  },
  {
   "cell_type": "markdown",
   "metadata": {},
   "source": [
    "# Задание 11: Функция с условием\n",
    "\n",
    "**Описание**: Создайте функцию `is_even(number)`, которая возвращает `True`, если число чётное, и `False` в противном случае.\n",
    "\n",
    "**Подсказка**: Используйте оператор `if`."
   ]
  },
  {
   "cell_type": "code",
   "execution_count": 37,
   "metadata": {},
   "outputs": [
    {
     "name": "stdout",
     "output_type": "stream",
     "text": [
      "True\n",
      "False\n",
      "True\n",
      "False\n"
     ]
    }
   ],
   "source": [
    "def is_even(number):\n",
    "    return (number%2 == 0)\n",
    "\n",
    "def is_even2(number):\n",
    "    if number%2 == 0:\n",
    "        return True\n",
    "    else: \n",
    "        return False\n",
    "\n",
    "print(is_even(2))\n",
    "print(is_even(3))\n",
    "print(is_even2(2))\n",
    "print(is_even2(3))"
   ]
  },
  {
   "cell_type": "markdown",
   "metadata": {},
   "source": [
    "# Задание 12: Функция с циклом\n",
    "\n",
    "**Описание**: Напишите функцию `print_numbers(n)`, которая выводит числа от 1 до `n`.\n",
    "\n",
    "**Подсказка**: Используйте цикл `for`."
   ]
  },
  {
   "cell_type": "code",
   "execution_count": 40,
   "metadata": {},
   "outputs": [
    {
     "name": "stdout",
     "output_type": "stream",
     "text": [
      "0\n",
      "1\n",
      "2\n",
      "3\n",
      "4\n"
     ]
    }
   ],
   "source": [
    "def print_numbers(n):\n",
    "    for i in range(n):\n",
    "        print(i)\n",
    "\n",
    "print_numbers(5)"
   ]
  },
  {
   "cell_type": "markdown",
   "metadata": {},
   "source": [
    "# Задание 13: Анонимная функция в `map()`\n",
    "\n",
    "**Описание**: Используйте `map()` и лямбда-функцию, чтобы получить список квадратов чисел от 1 до 5.\n",
    "\n",
    "**Подсказка**: Передайте лямбда-функцию и список в `map()`."
   ]
  },
  {
   "cell_type": "code",
   "execution_count": 48,
   "metadata": {},
   "outputs": [
    {
     "name": "stdout",
     "output_type": "stream",
     "text": [
      "[1, 4, 9, 16, 25]\n"
     ]
    }
   ],
   "source": [
    "a = list(map(lambda x: x**2, [1,2,3,4,5]))\n",
    "print(a)"
   ]
  },
  {
   "cell_type": "markdown",
   "metadata": {},
   "source": [
    "# Задание 14: Использование `nonlocal`\n",
    "\n",
    "**Описание**: Создайте функцию `outer()`, внутри которой объявите переменную `x = 5` и функцию `inner()`, которая изменяет `x` на 10. Вызовите `inner()` и выведите `x`.\n",
    "\n",
    "**Подсказка**: Используйте ключевое слово `nonlocal`."
   ]
  },
  {
   "cell_type": "code",
   "execution_count": 52,
   "metadata": {},
   "outputs": [
    {
     "name": "stdout",
     "output_type": "stream",
     "text": [
      "10\n"
     ]
    }
   ],
   "source": [
    "def outer():\n",
    "    x=5\n",
    "    def inner():\n",
    "        nonlocal x\n",
    "        x = 10\n",
    "    inner()\n",
    "    print(x)\n",
    "\n",
    "outer()"
   ]
  },
  {
   "cell_type": "markdown",
   "metadata": {},
   "source": [
    "# Задание 15: Функция с произвольными аргументами и условием\n",
    "\n",
    "**Описание**: Напишите функцию `find_max(*numbers)`, которая возвращает наибольшее из переданных ей чисел.\n",
    "\n",
    "**Подсказка**: Используйте функцию `max()` или цикл `for`."
   ]
  },
  {
   "cell_type": "code",
   "execution_count": 51,
   "metadata": {},
   "outputs": [
    {
     "name": "stdout",
     "output_type": "stream",
     "text": [
      "8\n"
     ]
    }
   ],
   "source": [
    "def find_max(*numbers):\n",
    "    return max(numbers)\n",
    "\n",
    "print(find_max(1,2,3,8,1,4,-1))"
   ]
  }
 ],
 "metadata": {
  "kernelspec": {
   "display_name": "Python 3",
   "language": "python",
   "name": "python3"
  },
  "language_info": {
   "codemirror_mode": {
    "name": "ipython",
    "version": 3
   },
   "file_extension": ".py",
   "mimetype": "text/x-python",
   "name": "python",
   "nbconvert_exporter": "python",
   "pygments_lexer": "ipython3",
   "version": "3.12.6"
  }
 },
 "nbformat": 4,
 "nbformat_minor": 2
}
