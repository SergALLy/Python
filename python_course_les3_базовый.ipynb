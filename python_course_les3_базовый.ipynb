{
 "cells": [
  {
   "cell_type": "markdown",
   "metadata": {},
   "source": [
    "# Урок по работе с модулями в Python\n",
    "\n",
    "## Введение\n",
    "\n",
    "В этом уроке мы подробно рассмотрим следующие темы:\n",
    "\n",
    "1. **Работа с модулями в Python**:\n",
    "   - Понятие модулей и их роль в Python.\n",
    "   - Импорт встроенных модулей (например, `math`).\n",
    "   - Использование функций и констант из модулей.\n",
    "   - Различные способы импорта модулей.\n",
    "   - Другие полезные модули.\n"
   ]
  },
  {
   "cell_type": "markdown",
   "metadata": {},
   "source": [
    "\n",
    "\n",
    "## 1.1. Что такое модуль в Python?\n",
    "\n",
    "**Модуль** в Python — это файл с расширением `.py`, который содержит определения функций, классов и переменных. Модули позволяют организовывать код в логические блоки, которые можно повторно использовать в различных программах.\n",
    "\n",
    "### Преимущества использования модулей:\n",
    "\n",
    "- **Повторное использование кода**: Один и тот же модуль можно использовать в нескольких программах.\n",
    "- **Организация кода**: Разделение кода на модули улучшает читаемость и структуру программы.\n",
    "- **Избежание конфликтов имен**: Модули создают своё пространство имён, что помогает избежать конфликтов между именами функций и переменных.\n",
    "\n",
    "## 1.2. Импорт модулей\n",
    "\n",
    "Чтобы использовать функции и переменные из модуля, его нужно **импортировать**.\n",
    "\n",
    "### Синтаксис импорта модуля:\n",
    "\n",
    "```python\n",
    "import имя_модуля\n",
    "```\n",
    "\n",
    "После импорта можно использовать функции и переменные из модуля, обращаясь к ним через точку:\n",
    "\n",
    "```python\n",
    "имя_модуля.имя_функции(аргументы)\n",
    "```\n",
    "\n",
    "## 1.3. Пример - Модуль `math`\n",
    "\n",
    "Модуль `math` — это встроенный модуль Python, который предоставляет доступ к математическим функциям и константам.\n",
    "\n",
    "### Как импортировать модуль `math`:"
   ]
  },
  {
   "cell_type": "code",
   "execution_count": null,
   "metadata": {},
   "outputs": [],
   "source": [
    "import math"
   ]
  },
  {
   "cell_type": "markdown",
   "metadata": {},
   "source": [
    "### Пример использования модуля `math`\n",
    "\n",
    "**Задача**: Вычислить длину гипотенузы прямоугольного треугольника с катетами длиной 3 и 4.\n",
    "\n",
    "**Решение**:\n"
   ]
  },
  {
   "cell_type": "code",
   "execution_count": null,
   "metadata": {},
   "outputs": [],
   "source": [
    "import math\n",
    "\n",
    "a = 3\n",
    "b = 4\n",
    "\n",
    "c = math.sqrt(a**2 + b**2)\n",
    "print(f\"Длина гипотенузы: {c}\")  # Вывод: Длина гипотенузы: 5.0"
   ]
  },
  {
   "cell_type": "markdown",
   "metadata": {},
   "source": [
    "**Пояснение**:\n",
    "\n",
    "- Используем теорему Пифагора: c² = a² + b².\n",
    "- Возводим `a` и `b` в квадрат и суммируем.\n",
    "- Находим квадратный корень из суммы с помощью `math.sqrt()`.\n",
    "\n",
    "## 1.4. Различные способы импорта модулей\n",
    "\n",
    "### 1.4.1. Импорт всего модуля\n",
    "\n",
    "Как мы уже видели:\n",
    "\n",
    "```python\n",
    "import math\n",
    "```\n",
    "\n",
    "Доступ к функциям и константам через префикс `math.`.\n",
    "\n",
    "### 1.4.2. Импорт отдельных функций\n",
    "\n",
    "Можно импортировать только необходимые функции:\n"
   ]
  },
  {
   "cell_type": "code",
   "execution_count": null,
   "metadata": {},
   "outputs": [],
   "source": [
    "from math import sqrt, pi\n",
    "\n",
    "result = sqrt(16)\n",
    "print(result)  # Вывод: 4.0\n",
    "\n",
    "print(pi)  # Вывод: 3.141592653589793"
   ]
  },
  {
   "cell_type": "markdown",
   "metadata": {},
   "source": [
    "**Преимущество**: Не нужно писать префикс `math.` перед именем функции.\n",
    "\n",
    "### 1.4.3. Импорт с переименованием\n",
    "\n",
    "Можно переименовать модуль или функцию при импорте:\n",
    "\n",
    "- Переименование модуля:\n"
   ]
  },
  {
   "cell_type": "code",
   "execution_count": null,
   "metadata": {},
   "outputs": [],
   "source": [
    "import math as m\n",
    "\n",
    "result = m.sqrt(25)\n",
    "print(result)  # Вывод: 5.0"
   ]
  },
  {
   "cell_type": "markdown",
   "metadata": {},
   "source": [
    "**Преимущество**: Не нужно писать полный префикс `math.` перед именем функции, `m.` написать намного быстрее. Удобно, когда в коде много раз нужно использовать функции какого-либо модуля.\n",
    "\n",
    "- Переименование функции:\n",
    "\n",
    "\n"
   ]
  },
  {
   "cell_type": "code",
   "execution_count": null,
   "metadata": {},
   "outputs": [],
   "source": [
    "from math import sqrt as s\n",
    "\n",
    "result = s(36)\n",
    "print(result)  # Вывод: 6.0"
   ]
  },
  {
   "cell_type": "markdown",
   "metadata": {},
   "source": [
    "\n",
    "### 1.4.4. Импорт всех функций из модуля\n",
    "\n",
    "**Внимание**: Этот способ не рекомендуется, так как может привести к конфликту имён.\n",
    "\n",
    "```python\n",
    "from math import *\n",
    "\n",
    "print(sin(pi / 2))  # Вывод: 1.0\n",
    "```\n",
    "\n",
    "**Недостаток**: В пространство имён текущей программы попадают все имена из модуля `math`, что может перекрыть существующие имена."
   ]
  },
  {
   "cell_type": "markdown",
   "metadata": {},
   "source": [
    "## 2. Полезные встроенные модули \n",
    "\n",
    "## 2.1. Модуль `math`\n",
    "\n",
    "Модуль `math` предоставляет математические функции для работы с числами с плавающей точкой.\n",
    "\n",
    "### Основные функции:\n",
    "\n",
    "- **`math.sqrt(x)`**: Возвращает квадратный корень из `x`.\n",
    "- **`math.pow(x, y)`**: Возводит число `x` в степень `y`.\n",
    "- **`math.exp(x)`**: Возвращает экспоненту `e**x`.\n",
    "- **`math.log(x, base)`**: Логарифм числа `x` по основанию `base`. Если `base` не указано, вычисляет натуральный логарифм.\n",
    "- **`math.sin(x)`**, **`math.cos(x)`**, **`math.tan(x)`**: Тригонометрические функции (угол в радианах).\n",
    "- **`math.factorial(x)`**: Возвращает факториал числа `x` (целое неотрицательное число).\n",
    "\n",
    "### Константы:\n",
    "\n",
    "- **`math.pi`**: Число π (3.1415...).\n",
    "- **`math.e`**: Основание натурального логарифма (2.7182...)."
   ]
  },
  {
   "cell_type": "code",
   "execution_count": null,
   "metadata": {},
   "outputs": [],
   "source": [
    "import math\n",
    "\n",
    "print(math.sqrt(16))        # 4.0\n",
    "print(math.sin(math.pi / 2))  # 1.0\n",
    "print(math.factorial(5))    # 120"
   ]
  },
  {
   "cell_type": "markdown",
   "metadata": {},
   "source": [
    "## 2.2 Модуль `random`\n",
    "\n",
    "Модуль `random` используется для генерации случайных чисел и выполнения случайных операций.\n",
    "\n",
    "### Основные функции:\n",
    "\n",
    "- **`random.random()`**: Возвращает случайное число с плавающей точкой от 0.0 до 1.0.\n",
    "- **`random.randint(a, b)`**: Возвращает случайное целое число `N`, где `a <= N <= b`.\n",
    "- **`random.choice(sequence)`**: Возвращает случайный элемент из непустой последовательности.\n",
    "- **`random.shuffle(sequence)`**: Перемешивает последовательность на месте.\n",
    "- **`random.sample(sequence, k)`**: Возвращает список из `k` уникальных элементов, выбранных из последовательности.\n",
    "\n",
    "### Пример использования:"
   ]
  },
  {
   "cell_type": "code",
   "execution_count": null,
   "metadata": {},
   "outputs": [],
   "source": [
    "import random\n",
    "\n",
    "print(random.random())             # Например, 0.6394267984578837\n",
    "print(random.randint(1, 10))       # Например, 7\n",
    "print(random.choice(['a', 'b', 'c']))  # Например, 'b'\n",
    "\n",
    "numbers = [1, 2, 3, 4, 5]\n",
    "random.shuffle(numbers)\n",
    "print(numbers)  # Например, [3, 1, 5, 2, 4]"
   ]
  },
  {
   "cell_type": "markdown",
   "metadata": {},
   "source": [
    "## 2.3. Модуль `datetime`\n",
    "\n",
    "Модуль `datetime` используется для работы с датой и временем.\n",
    "\n",
    "### Основные классы и функции:\n",
    "\n",
    "- **`datetime.datetime.now()`**: Возвращает текущие дату и время.\n",
    "- **`datetime.datetime.strptime(date_string, format)`**: Преобразует строку в объект `datetime` по заданному формату.\n",
    "- **`datetime.datetime.strftime(format)`**: Преобразует объект `datetime` в строку по заданному формату.\n",
    "- **`datetime.timedelta`**: Разница между двумя датами или временем.\n",
    "\n",
    "### Пример использования:"
   ]
  },
  {
   "cell_type": "code",
   "execution_count": 1,
   "metadata": {},
   "outputs": [
    {
     "name": "stdout",
     "output_type": "stream",
     "text": [
      "2025-10-03 20:59:45.628889\n",
      "03.10.2025\n",
      "2025-10-08 20:59:45.628889\n"
     ]
    }
   ],
   "source": [
    "import datetime\n",
    "\n",
    "now = datetime.datetime.now()\n",
    "print(now)  # Например, 2023-10-01 12:34:56.789123\n",
    "\n",
    "formatted_date = now.strftime(\"%d.%m.%Y\")\n",
    "print(formatted_date)  # Например, 01.10.2023\n",
    "\n",
    "# Добавление 5 дней к текущей дате\n",
    "future_date = now + datetime.timedelta(days=5)\n",
    "print(future_date)"
   ]
  },
  {
   "cell_type": "markdown",
   "metadata": {},
   "source": [
    "## 2.4. Модуль `os`\n",
    "\n",
    "Модуль `os` предоставляет функции для взаимодействия с операционной системой.\n",
    "\n",
    "### Основные функции:\n",
    "\n",
    "- **`os.getcwd()`**: Возвращает текущую рабочую директорию.\n",
    "- **`os.listdir(path)`**: Возвращает список файлов и директорий в указанном пути.\n",
    "- **`os.mkdir(path)`**: Создаёт новую директорию по указанному пути.\n",
    "- **`os.remove(path)`**: Удаляет файл по указанному пути.\n",
    "- **`os.rename(src, dst)`**: Переименовывает файл или директорию.\n",
    "- **`os.path.join(path, *paths)`**: Объединяет компоненты пути.\n",
    "\n",
    "### Пример использования:"
   ]
  },
  {
   "cell_type": "code",
   "execution_count": null,
   "metadata": {},
   "outputs": [],
   "source": [
    "import os\n",
    "\n",
    "current_dir = os.getcwd()\n",
    "print(\"Текущая директория:\", current_dir)\n",
    "\n",
    "files = os.listdir('.')\n",
    "print(\"Файлы и директории в текущей директории:\", files)\n",
    "\n",
    "# Создание новой директории\n",
    "os.mkdir('new_folder')"
   ]
  },
  {
   "cell_type": "markdown",
   "metadata": {},
   "source": [
    "## 2.5. Модуль `sys`\n",
    "\n",
    "Модуль `sys` предоставляет доступ к некоторым переменным и функциям, взаимодействующим с интерпретатором Python.\n",
    "\n",
    "### Основные функции и переменные:\n",
    "\n",
    "- **`sys.argv`**: Список аргументов командной строки.\n",
    "- **`sys.exit([arg])`**: Завершает работу программы, optionally passing a status code.\n",
    "- **`sys.path`**: Список путей поиска модулей.\n",
    "- **`sys.platform`**: Информация о платформе, на которой запущен интерпретатор.\n",
    "- **`sys.version`**: Информация о версии Python.\n",
    "\n",
    "### Пример использования:"
   ]
  },
  {
   "cell_type": "code",
   "execution_count": null,
   "metadata": {},
   "outputs": [],
   "source": [
    "import sys\n",
    "\n",
    "print(\"Аргументы командной строки:\", sys.argv)\n",
    "print(\"Версия Python:\", sys.version)\n",
    "print(\"Платформа:\", sys.platform)"
   ]
  },
  {
   "cell_type": "markdown",
   "metadata": {},
   "source": [
    "## 2.6. Модуль `time`\n",
    "\n",
    "Модуль `time` предоставляет функции для работы с временем.\n",
    "\n",
    "### Основные функции:\n",
    "\n",
    "- **`time.time()`**: Возвращает текущее время в секундах с начала эпохи (обычно с 1 января 1970 года).\n",
    "- **`time.sleep(seconds)`**: Приостанавливает выполнение программы на указанное количество секунд.\n",
    "- **`time.localtime([secs])`**: Преобразует время в формате секунд в структуру `struct_time` местного времени.\n",
    "- **`time.strftime(format[, t])`**: Преобразует структуру времени в строку по заданному формату.\n",
    "\n",
    "### Пример использования:"
   ]
  },
  {
   "cell_type": "code",
   "execution_count": null,
   "metadata": {},
   "outputs": [],
   "source": [
    "import time\n",
    "\n",
    "current_time = time.time()\n",
    "print(\"Текущее время в секундах с начала эпохи:\", current_time)\n",
    "\n",
    "# Пауза на 2 секунды\n",
    "print(\"Ожидание 2 секунды...\")\n",
    "time.sleep(2)\n",
    "print(\"Продолжаем выполнение\")\n",
    "\n",
    "# Форматирование текущего времени\n",
    "formatted_time = time.strftime(\"%H:%M:%S\", time.localtime())\n",
    "print(\"Текущее время:\", formatted_time)"
   ]
  },
  {
   "cell_type": "markdown",
   "metadata": {},
   "source": [
    "## 2.7. Модуль `re`\n",
    "\n",
    "Модуль `re` предоставляет функции для работы с регулярными выражениями.\n",
    "\n",
    "### Основные функции:\n",
    "\n",
    "- **`re.match(pattern, string)`**: Проверяет, соответствует ли начало строки шаблону.\n",
    "- **`re.search(pattern, string)`**: Ищет первое совпадение шаблона в строке.\n",
    "- **`re.findall(pattern, string)`**: Находит все совпадения шаблона в строке и возвращает их в виде списка.\n",
    "- **`re.sub(pattern, repl, string)`**: Заменяет все совпадения шаблона в строке на `repl`.\n",
    "\n",
    "### Пример использования:"
   ]
  },
  {
   "cell_type": "code",
   "execution_count": null,
   "metadata": {},
   "outputs": [],
   "source": [
    "import re\n",
    "\n",
    "text = \"Python - это замечательный язык программирования.\"\n",
    "\n",
    "# Поиск слова \"Python\"\n",
    "match = re.search(r\"Python\", text)\n",
    "if match:\n",
    "    print(\"Найдено:\", match.group())\n",
    "\n",
    "# Поиск всех гласных букв\n",
    "vowels = re.findall(r\"[аеёиоуыэюя]\", text, re.IGNORECASE)\n",
    "print(\"Гласные буквы:\", vowels)\n",
    "\n",
    "# Замена всех пробелов на тире\n",
    "new_text = re.sub(r\"\\s\", \"-\", text)\n",
    "print(\"Изменённый текст:\", new_text)"
   ]
  },
  {
   "cell_type": "markdown",
   "metadata": {},
   "source": [
    "## 2.8. Модуль `itertools`\n",
    "\n",
    "Модуль `itertools` предоставляет различные итераторы для эффективного перебора данных.\n",
    "\n",
    "### Основные функции:\n",
    "\n",
    "- **`itertools.count(start=0, step=1)`**: Бесконечный итератор, возвращающий числа, начиная с `start`, с шагом `step`.\n",
    "- **`itertools.cycle(iterable)`**: Бесконечно повторяет элементы `iterable`.\n",
    "- **`itertools.repeat(object, times)`**: Повторяет объект `object` `times` раз.\n",
    "- **`itertools.permutations(iterable, r=None)`**: Возвращает все возможные перестановки элементов.\n",
    "- **`itertools.combinations(iterable, r)`**: Возвращает все возможные комбинации `r` элементов.\n",
    "\n",
    "### Пример использования:\n"
   ]
  },
  {
   "cell_type": "code",
   "execution_count": 2,
   "metadata": {},
   "outputs": [
    {
     "name": "stdout",
     "output_type": "stream",
     "text": [
      "(1, 2, 3)\n",
      "(1, 3, 2)\n",
      "(2, 1, 3)\n",
      "(2, 3, 1)\n",
      "(3, 1, 2)\n",
      "(3, 2, 1)\n",
      "(1, 2)\n",
      "(1, 3)\n",
      "(1, 4)\n",
      "(2, 3)\n",
      "(2, 4)\n",
      "(3, 4)\n"
     ]
    }
   ],
   "source": [
    "import itertools\n",
    "\n",
    "# Перестановки\n",
    "for p in itertools.permutations([1, 2, 3]):\n",
    "    print(p)\n",
    "\n",
    "# Комбинации\n",
    "for c in itertools.combinations([1, 2, 3, 4], 2):\n",
    "    print(c)"
   ]
  },
  {
   "cell_type": "markdown",
   "metadata": {},
   "source": [
    "## 2.9. Модуль `statistics`\n",
    "\n",
    "Модуль `statistics` предоставляет функции для статистических вычислений с числовыми данными.\n",
    "\n",
    "### Основные функции:\n",
    "\n",
    "- **`statistics.mean(data)`**: Среднее арифметическое.\n",
    "- **`statistics.median(data)`**: Медиана данных.\n",
    "- **`statistics.mode(data)`**: Мода (наиболее часто встречающееся значение).\n",
    "- **`statistics.stdev(data)`**: Стандартное отклонение.\n",
    "\n",
    "### Пример использования:"
   ]
  },
  {
   "cell_type": "code",
   "execution_count": null,
   "metadata": {},
   "outputs": [],
   "source": [
    "import statistics\n",
    "\n",
    "data = [1, 2, 2, 3, 4]\n",
    "\n",
    "print(\"Среднее:\", statistics.mean(data))        # 2.4\n",
    "print(\"Медиана:\", statistics.median(data))      # 2\n",
    "print(\"Мода:\", statistics.mode(data))           # 2\n",
    "print(\"Стандартное отклонение:\", statistics.stdev(data))"
   ]
  },
  {
   "cell_type": "markdown",
   "metadata": {},
   "source": [
    "\n",
    "**Полезные ссылки:**\n",
    "\n",
    "- [Официальная документация Python](https://docs.python.org/3/library/)\n",
    "- [Руководство по модулям и пакетам](https://docs.python.org/3/tutorial/modules.html)"
   ]
  },
  {
   "cell_type": "markdown",
   "metadata": {},
   "source": [
    "# Задания для закрепления материала"
   ]
  },
  {
   "cell_type": "markdown",
   "metadata": {},
   "source": [
    "Код пишется в ячейках где видите строчку \n",
    "\n",
    "```python\n",
    "#TODO\n",
    "```\n",
    "Сам комментарий удаляем и пишем решение"
   ]
  },
  {
   "cell_type": "markdown",
   "metadata": {},
   "source": [
    "## Задание 1: Вычисление квадратного корня\n",
    "\n",
    "- **Описание**: Запросите у пользователя число и выведите его квадратный корень.\n",
    "- **Подсказка**: Используйте `math.sqrt()`."
   ]
  },
  {
   "cell_type": "code",
   "execution_count": 3,
   "metadata": {},
   "outputs": [
    {
     "name": "stdout",
     "output_type": "stream",
     "text": [
      "Корень числа 4 равен 2.0\n"
     ]
    }
   ],
   "source": [
    "from math import sqrt\n",
    "\n",
    "a = int(input('Введите целое число:'))\n",
    "\n",
    "print(f'Корень числа {a} равен {sqrt(a)}')"
   ]
  },
  {
   "cell_type": "markdown",
   "metadata": {},
   "source": [
    "## Задание 2: Перемешивание списка\n",
    "\n",
    "- **Описание**: Дан список чисел `[1, 2, 3, 4, 5]`. Перемешайте его и выведите результат.\n",
    "- **Подсказка**: Используйте `random.shuffle()`."
   ]
  },
  {
   "cell_type": "code",
   "execution_count": 5,
   "metadata": {},
   "outputs": [
    {
     "name": "stdout",
     "output_type": "stream",
     "text": [
      "Перемешанный список: [4, 1, 3, 5, 2]\n"
     ]
    }
   ],
   "source": [
    "from random import shuffle\n",
    "l = [1, 2, 3, 4, 5]\n",
    "shuffle(l)\n",
    "print('Перемешанный список:', l)"
   ]
  },
  {
   "cell_type": "markdown",
   "metadata": {},
   "source": [
    "## Задание 3: Текущая дата и время\n",
    "\n",
    "- **Описание**: Выведите текущую дату и время в формате `DD.MM.YYYY HH:MM:SS`.\n",
    "- **Подсказка**: Используйте `datetime.datetime.now()` и `strftime()`."
   ]
  },
  {
   "cell_type": "code",
   "execution_count": 24,
   "metadata": {},
   "outputs": [
    {
     "name": "stdout",
     "output_type": "stream",
     "text": [
      "03.10.2025 21:10:54\n"
     ]
    }
   ],
   "source": [
    "import datetime as dt\n",
    "\n",
    "d = dt.datetime.now()\n",
    "s = d.strftime(\"%d.%m.%Y %H:%M:%S\")\n",
    "\n",
    "print(s)\n"
   ]
  },
  {
   "cell_type": "markdown",
   "metadata": {},
   "source": [
    "## Задание 4: Проверка на простое число\n",
    "\n",
    "- **Описание**: Запросите у пользователя целое число и определите, является ли оно простым.\n",
    "- **Подсказка**: Используйте цикл `for`, условие `if`, и функцию `math.sqrt()` для оптимизации перебора делителей."
   ]
  },
  {
   "cell_type": "code",
   "execution_count": 30,
   "metadata": {},
   "outputs": [
    {
     "name": "stdout",
     "output_type": "stream",
     "text": [
      "Число 45 не является простым\n"
     ]
    }
   ],
   "source": [
    "from math import sqrt\n",
    "\n",
    "a = int(input('Введите целое число:'))\n",
    "for j in range(2, int(sqrt(a))+1):\n",
    "    if a%j == 0: \n",
    "        print(f'Число {a} не является простым')\n",
    "        break\n",
    "else: print(f'Число {a} является простым')\n"
   ]
  },
  {
   "cell_type": "markdown",
   "metadata": {},
   "source": [
    "## Задание 5: Генерация случайных чисел до определённого числа\n",
    "\n",
    "- **Описание**: Запросите у пользователя число `N`. Сгенерируйте и выведите случайное число от 1 до `N`. Если число чётное, выведите \"Чётное\", иначе \"Нечётное\".\n",
    "- **Подсказка**: Используйте `random.randint()`, условие `if`."
   ]
  },
  {
   "cell_type": "code",
   "execution_count": 35,
   "metadata": {},
   "outputs": [
    {
     "name": "stdout",
     "output_type": "stream",
     "text": [
      "Вы ввели: 100\n",
      "Число 53 является нечётным\n"
     ]
    }
   ],
   "source": [
    "from random import randint\n",
    "\n",
    "n = int(input('Введите целое число'))\n",
    "print('Вы ввели:',n)\n",
    "num = randint(1,n-1) # Так как написано до, т.е. не включая\n",
    "\n",
    "print(f'Число {num} является {'чётным' if num%2==0 else'нечётным'}')\n"
   ]
  },
  {
   "cell_type": "markdown",
   "metadata": {},
   "source": [
    "## Задание 6: Перемешивание списка строк\n",
    "\n",
    "- **Описание**: Дан список строк `['apple', 'banana', 'cherry', 'date']`. Перемешайте его и выведите элементы по одному, используя цикл `for`.\n",
    "- **Подсказка**: Используйте `random.shuffle()` и цикл `for`."
   ]
  },
  {
   "cell_type": "code",
   "execution_count": 38,
   "metadata": {},
   "outputs": [
    {
     "name": "stdout",
     "output_type": "stream",
     "text": [
      "apple; date; cherry; banana; "
     ]
    }
   ],
   "source": [
    "from random import shuffle\n",
    "\n",
    "f = ['apple', 'banana', 'cherry', 'date']\n",
    "shuffle(f)\n",
    "for i in f:\n",
    "    print(i, end = '; ')"
   ]
  },
  {
   "cell_type": "markdown",
   "metadata": {},
   "source": [
    "## Задание 7: Проверка на валидность пароля\n",
    "\n",
    "- **Описание**: Запросите у пользователя пароль и проверьте, соответствует ли он требованиям: содержит минимум 8 символов, включает буквы и цифры.\n",
    "- **Подсказка**: Используйте `re.match()` и условие `if`."
   ]
  },
  {
   "cell_type": "code",
   "execution_count": 49,
   "metadata": {},
   "outputs": [
    {
     "name": "stdout",
     "output_type": "stream",
     "text": [
      "Пароль: fghfjhgfjhf12312_jhkljhkj не соответсвует требованиям\n"
     ]
    }
   ],
   "source": [
    "from re import match\n",
    "\n",
    "p = input('Введите пароль: ')\n",
    "pat = '^[0-9a-zA-Z]{8,}$'\n",
    "if match(pat, p): print(f'Пароль: {p} соответсвует требованиям')\n",
    "else: print(f'Пароль: {p} не соответсвует требованиям')"
   ]
  },
  {
   "cell_type": "markdown",
   "metadata": {},
   "source": [
    "## Задание 8: Вывод текущей даты и времени\n",
    "\n",
    "- **Описание**: Выведите текущую дату и время. Если сейчас утро (до 12 часов), выведите \"Доброе утро!\", иначе \"Добрый день!\".\n",
    "- **Подсказка**: Используйте `datetime.datetime.now()`, условие `if`."
   ]
  },
  {
   "cell_type": "code",
   "execution_count": 56,
   "metadata": {},
   "outputs": [
    {
     "name": "stdout",
     "output_type": "stream",
     "text": [
      "Добрый день!\n"
     ]
    }
   ],
   "source": [
    "import datetime as dt\n",
    "t = dt.datetime.now()\n",
    "h = t.hour\n",
    "if h<12: print('Доброе утро!')\n",
    "else: print('Добрый день!')"
   ]
  },
  {
   "cell_type": "markdown",
   "metadata": {},
   "source": [
    "## Задание 9: Таймер обратного отсчёта\n",
    "\n",
    "- **Описание**: Запросите у пользователя количество секунд и запустите обратный отсчёт, выводя каждую секунду оставшееся время.\n",
    "- **Подсказка**: Используйте цикл `while`, `time.sleep()`."
   ]
  },
  {
   "cell_type": "code",
   "execution_count": 58,
   "metadata": {},
   "outputs": [
    {
     "name": "stdout",
     "output_type": "stream",
     "text": [
      "5\n",
      "4\n",
      "3\n",
      "2\n",
      "1\n",
      "0\n"
     ]
    }
   ],
   "source": [
    "import time\n",
    "\n",
    "n = int(input('Введите время обратного отсчёта: '))\n",
    "while (n>=0):\n",
    "    print(n)\n",
    "    time.sleep(1)\n",
    "    n-=1"
   ]
  },
  {
   "cell_type": "markdown",
   "metadata": {},
   "source": [
    "## Задание 10: Фильтрация файлов по расширению\n",
    "\n",
    "- **Описание**: Выведите все файлы с расширением `.txt` в текущей директории.\n",
    "- **Подсказка**: Используйте `os.listdir()`, условие `if`, цикл `for`."
   ]
  },
  {
   "cell_type": "code",
   "execution_count": 75,
   "metadata": {},
   "outputs": [
    {
     "name": "stdout",
     "output_type": "stream",
     "text": [
      "test1.txt\n",
      "test2.txt\n"
     ]
    }
   ],
   "source": [
    "import os, re\n",
    "\n",
    "for i in os.listdir():\n",
    "    if i.endswith('.txt'): print (i)\n",
    "\n"
   ]
  },
  {
   "cell_type": "markdown",
   "metadata": {},
   "source": [
    "## Задание 11: Вычисление среднего значения\n",
    "\n",
    "- **Описание**: Запросите у пользователя список чисел через запятую. Вычислите и выведите их среднее значение.\n",
    "- **Подсказка**: Используйте `statistics.mean()`, цикл `for` или генератор списков для преобразования ввода."
   ]
  },
  {
   "cell_type": "code",
   "execution_count": null,
   "metadata": {},
   "outputs": [
    {
     "name": "stdout",
     "output_type": "stream",
     "text": [
      "Введённый список: 1 3 1 3 3 3 1 1\n",
      "Среднее значение: 2\n"
     ]
    }
   ],
   "source": [
    "import statistics as st\n",
    "\n",
    "a = [int(i) for i in input('Введите целые числа через запятую: ').split(',')]\n",
    "print('Введённый список:', *a)\n",
    "print('Среднее значение:', st.mean(a))"
   ]
  },
  {
   "cell_type": "markdown",
   "metadata": {},
   "source": [
    "## Задание 12: Поиск слов, начинающихся с определённой буквы\n",
    "\n",
    "- **Описание**: Запросите у пользователя текст и букву. Выведите все слова из текста, начинающиеся с этой буквы.\n",
    "- **Подсказка**: Используйте `re.findall()`, цикл `for`, условие `if`."
   ]
  },
  {
   "cell_type": "code",
   "execution_count": null,
   "metadata": {},
   "outputs": [
    {
     "name": "stdout",
     "output_type": "stream",
     "text": [
      "Введённая строка: ['ghjgjg', 'gyij', 'kjllkj', 'gt', 'lk;k']\n",
      "ghjgjg\n",
      "gyij\n",
      "gt\n"
     ]
    }
   ],
   "source": [
    "import re\n",
    "str = input('Введи строку: ').split()\n",
    "s = input('Введите букву: ')\n",
    "print('Введённая строка:', str)\n",
    "for i in str:\n",
    "    if re.findall('^'+s, i): print(i)"
   ]
  },
  {
   "cell_type": "markdown",
   "metadata": {},
   "source": [
    "## Задание 13: Генерация списка случайных чисел\n",
    "\n",
    "- **Описание**: Сгенерируйте список из 5 случайных чисел от 1 до 10 и выведите их. Если число больше 5, выведите \"Большое число\", иначе \"Маленькое число\".\n",
    "- **Подсказка**: Используйте `random.randint()`, цикл `for`, условие `if`."
   ]
  },
  {
   "cell_type": "code",
   "execution_count": 82,
   "metadata": {},
   "outputs": [
    {
     "name": "stdout",
     "output_type": "stream",
     "text": [
      "Список: 3 10 8 4 6\n",
      "3 - маленькое число\n",
      "10 - большое число\n",
      "8 - большое число\n",
      "4 - маленькое число\n",
      "6 - большое число\n"
     ]
    }
   ],
   "source": [
    "import random as rd\n",
    "l = [rd.randint(1, 10) for _ in range(5)]\n",
    "print('Список:', *l)\n",
    "for i in l:\n",
    "    if i>5: print(f'{i} - большое число')\n",
    "    else: print(f'{i} - маленькое число')"
   ]
  },
  {
   "cell_type": "markdown",
   "metadata": {},
   "source": [
    "## Задание 14: Проверка регулярного выражения\n",
    "\n",
    "- **Описание**: Запросите у пользователя адрес электронной почты и проверьте, является ли он корректным (содержит `@` и `.`).\n",
    "- **Подсказка**: Используйте `re.match()`."
   ]
  },
  {
   "cell_type": "code",
   "execution_count": 90,
   "metadata": {},
   "outputs": [
    {
     "name": "stdout",
     "output_type": "stream",
     "text": [
      "Почтовый адрес gjkgkjgj@njknlkjn.jhkjadg корректный\n"
     ]
    }
   ],
   "source": [
    "import re\n",
    "str = input('Введите почтовый адрес: ')\n",
    "\n",
    "pat = '([a-zA-Z0-9._-]+@[a-zA-Z0-9._-]+\\\\.[a-zA-Z0-9_-]+)'\n",
    "\n",
    "if re.match(pat, str): print(f'Почтовый адрес {str} корректный')\n",
    "else:print(f'Почтовый адрес {str} некорректный')"
   ]
  },
  {
   "cell_type": "markdown",
   "metadata": {},
   "source": [
    "## Задание 15: Создание директории\n",
    "\n",
    "- **Описание**: Создайте новую директорию с именем `test_folder` в текущей рабочей директории.\n",
    "- **Подсказка**: Используйте `os.mkdir()`."
   ]
  },
  {
   "cell_type": "code",
   "execution_count": 85,
   "metadata": {},
   "outputs": [],
   "source": [
    "import os\n",
    "\n",
    "os.mkdir('test_folder')"
   ]
  }
 ],
 "metadata": {
  "kernelspec": {
   "display_name": "Python 3",
   "language": "python",
   "name": "python3"
  },
  "language_info": {
   "codemirror_mode": {
    "name": "ipython",
    "version": 3
   },
   "file_extension": ".py",
   "mimetype": "text/x-python",
   "name": "python",
   "nbconvert_exporter": "python",
   "pygments_lexer": "ipython3",
   "version": "3.12.6"
  }
 },
 "nbformat": 4,
 "nbformat_minor": 2
}
