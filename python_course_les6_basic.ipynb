{
 "cells": [
  {
   "cell_type": "markdown",
   "metadata": {},
   "source": [
    "# Урок по объектно-ориентированному программированию (ООП) в Python\n",
    "\n",
    "## Введение\n",
    "\n",
    "**Объектно-ориентированное программирование (ООП)** — это парадигма программирования, основанная на концепции **объектов**, которые могут содержать данные и код для обработки этих данных. ООП позволяет создавать более гибкие, модульные и масштабируемые программы.\n",
    "\n",
    "В этом уроке мы рассмотрим следующие темы:\n",
    "\n",
    "1. Создание простого класса.\n",
    "2. Создание объектов на базе класса.\n",
    "3. Метод `__init__` и `self`.\n",
    "4. Атрибуты класса и объекта.\n",
    "5. Приватные атрибуты и методы.\n",
    "6. Функция `type` и атрибут `__qualname__`."
   ]
  },
  {
   "cell_type": "markdown",
   "metadata": {},
   "source": [
    "## 1. Создание простого класса\n",
    "\n",
    "**Класс** — это шаблон или схема для создания объектов. Он определяет **атрибуты** (свойства) и **методы** (поведение), которые будут у объектов, созданных на его основе.\n",
    "\n",
    "- **Атрибуты** — переменные, хранящие состояние объекта.\n",
    "- **Методы** — функции, определенные внутри класса, которые описывают поведение объекта.\n",
    "\n",
    "### Как начать писать класс?\n",
    "\n",
    "При создании класса следует:\n",
    "\n",
    "1. **Определить цель класса**: что будет представлять класс и какие задачи решать.\n",
    "2. **Определить атрибуты**: свойства, характеризующие объект (например, имя, возраст).\n",
    "3. **Определить методы**: действия, которые объект может выполнять (например, говорить, ходить).\n",
    "\n",
    "### Общая структура класса\n",
    "```python\n",
    "class ClassName:\n",
    "    # Атрибуты класса (опционально)\n",
    "    class_attribute = value\n",
    "\n",
    "    def __init__(self, parameters):\n",
    "        # Инициализация атрибутов объекта\n",
    "        self.instance_attribute = value\n",
    "\n",
    "    # Методы класса\n",
    "    def method_name(self, parameters):\n",
    "        # Тело метода\n",
    "        pass"
   ]
  },
  {
   "cell_type": "markdown",
   "metadata": {},
   "source": [
    "- **`class ClassName:`** — определение класса с именем `ClassName`.\n",
    "- **`class_attribute`** — атрибут класса, общий для всех экземпляров.\n",
    "- **`def __init__(self, parameters):`** — конструктор класса, инициализирующий объект.\n",
    "- **`self.instance_attribute = value`** — установка атрибута объекта.\n",
    "- **`def method_name(self, parameters):`** — определение метода класса.\n",
    "\n",
    "## Создание простого класса\n",
    "\n",
    "Давайте создадим класс `Person`, который будет представлять человека.\n",
    "\n",
    "### Пример создания класса"
   ]
  },
  {
   "cell_type": "code",
   "execution_count": null,
   "metadata": {},
   "outputs": [],
   "source": [
    "class Person:\n",
    "    # Атрибут класса\n",
    "    species = \"Homo sapiens\"\n",
    "\n",
    "    def __init__(self, name, age):\n",
    "        # Атрибуты объекта\n",
    "        self.name = name\n",
    "        self.age = age"
   ]
  },
  {
   "cell_type": "markdown",
   "metadata": {},
   "source": [
    "### Разбор примера\n",
    "\n",
    "- **`class Person:`** — объявление класса `Person`.\n",
    "- **`species = \"Homo sapiens\"`** — атрибут класса, общий для всех объектов `Person`.\n",
    "- **`def __init__(self, name, age):`** — метод-конструктор для инициализации новых объектов.\n",
    "- **`self.name = name`** и **`self.age = age`** — атрибуты объекта, уникальные для каждого экземпляра.\n",
    "\n",
    "---\n",
    "\n",
    "## 2. Создание объектов на базе класса\n",
    "\n",
    "### Что такое объект?\n",
    "\n",
    "**Объект** — это экземпляр класса. Он обладает всеми свойствами и поведениями, определенными в классе.\n",
    "\n",
    "### Создание объекта\n",
    "\n",
    "Чтобы создать объект, просто вызовите класс как функцию:\n",
    "\n",
    "```python\n",
    "person1 = Person()\n",
    "```\n",
    "\n",
    "- `person1` — это объект (экземпляр) класса `Person`.\n",
    "\n",
    "### Проверка типа объекта\n",
    "\n",
    "Можно использовать функцию `type`, чтобы проверить тип объекта:"
   ]
  },
  {
   "cell_type": "code",
   "execution_count": 2,
   "metadata": {},
   "outputs": [
    {
     "name": "stdout",
     "output_type": "stream",
     "text": [
      "<class '__main__.Person'>\n"
     ]
    }
   ],
   "source": [
    "person1 = Person()\n",
    "print(type(person1))"
   ]
  },
  {
   "cell_type": "markdown",
   "metadata": {},
   "source": [
    "## 3. Метод `__init__` и `self`\n",
    "\n",
    "### Метод `__init__`\n",
    "\n",
    "Метод `__init__` — это инициализатор (конструктор) класса, который вызывается автоматически при создании нового объекта. Он используется для инициализации атрибутов объекта.\n",
    "\n",
    "**Синтаксис:**\n",
    "\n",
    "```python\n",
    "class ClassName:\n",
    "    def __init__(self, parameters):\n",
    "        # Инициализация атрибутов\n",
    "        self.attribute = value\n",
    "```\n",
    "\n",
    "- **`def __init__(self, name, age):`** — определение конструктора с параметрами `name` и `age`.\n",
    "- **`self.name = name`** — установка значения атрибута `name` для текущего объекта.\n",
    "\n",
    "### Параметр `self`\n",
    "\n",
    "- **`self`** — ссылка на текущий экземпляр объекта.\n",
    "- Используется для доступа к атрибутам и методам объекта внутри класса.\n",
    "- **Важно:** `self` всегда должен быть первым параметром методов класса.\n",
    "\n",
    "### Пример использования метода `__init__`"
   ]
  },
  {
   "cell_type": "code",
   "execution_count": 3,
   "metadata": {},
   "outputs": [],
   "source": [
    "class Person:\n",
    "    def __init__(self, name, age):\n",
    "        self.name = name  # атрибут объекта\n",
    "        self.age = age    # атрибут объекта"
   ]
  },
  {
   "cell_type": "markdown",
   "metadata": {},
   "source": [
    "Теперь при создании объекта необходимо передать значения для `name` и `age`:\n",
    "\n",
    "\n"
   ]
  },
  {
   "cell_type": "code",
   "execution_count": 4,
   "metadata": {},
   "outputs": [],
   "source": [
    "person1 = Person(\"Alice\", 24)"
   ]
  },
  {
   "cell_type": "markdown",
   "metadata": {},
   "source": [
    "### Доступ к атрибутам объекта"
   ]
  },
  {
   "cell_type": "code",
   "execution_count": 5,
   "metadata": {},
   "outputs": [
    {
     "name": "stdout",
     "output_type": "stream",
     "text": [
      "Alice\n",
      "24\n"
     ]
    }
   ],
   "source": [
    "print(person1.name)\n",
    "print(person1.age)  "
   ]
  },
  {
   "cell_type": "markdown",
   "metadata": {},
   "source": [
    "## 4. Атрибуты класса и объекта\n",
    "\n",
    "\n",
    "### Определение атрибутов\n",
    "\n",
    "- **Атрибуты класса**:\n",
    "  - Определяются на уровне класса.\n",
    "  - Общие для всех объектов класса.\n",
    "  - Пример: `species = \"Homo sapiens\"`.\n",
    "\n",
    "- **Атрибуты объекта**:\n",
    "  - Определяются внутри методов (обычно в `__init__`).\n",
    "  - Уникальны для каждого объекта.\n",
    "  - Пример: `self.name = name`.\n",
    "\n",
    "### Определение методов\n",
    "\n",
    "**Методы** — это `функции`, определенные внутри класса, которые описывают поведение объектов.\n",
    "\n",
    "- **Методы объекта**:\n",
    "  - Используют `self` для доступа к атрибутам и другим методам.\n",
    "  - Применяются к конкретному экземпляру класса.\n",
    "\n",
    "- **Методы класса**:\n",
    "  - Объявляются с декоратором `@classmethod`.\n",
    "  - Принимают параметр `cls`, ссылающийся на сам класс.\n",
    "  - Могут изменять состояние класса, но не отдельных объектов.\n",
    "\n",
    "- **Статические методы**:\n",
    "  - Объявляются с декоратором `@staticmethod`.\n",
    "  - Не принимают ни `self`, ни `cls`.\n",
    "  - Используются, когда метод логически связан с классом, но не использует его атрибуты.\n",
    "\n",
    "\n",
    "\n",
    "\n",
    "### Атрибуты объекта\n",
    "\n",
    "Атрибуты, определенные внутри метода `__init__` с использованием `self`, являются атрибутами объекта. Каждый объект имеет свои собственные значения этих атрибутов.\n",
    "\n",
    "**Пример:**\n"
   ]
  },
  {
   "cell_type": "code",
   "execution_count": 6,
   "metadata": {},
   "outputs": [
    {
     "name": "stdout",
     "output_type": "stream",
     "text": [
      "Anna\n",
      "25\n"
     ]
    }
   ],
   "source": [
    "person2 = Person(\"Anna\", 25)\n",
    "print(person2.name) \n",
    "print(person2.age)   "
   ]
  },
  {
   "cell_type": "markdown",
   "metadata": {},
   "source": [
    "### Атрибуты класса\n",
    "\n",
    "Атрибуты, определенные на уровне класса, являются общими для всех объектов класса.\n",
    "\n",
    "**Пример:**"
   ]
  },
  {
   "cell_type": "code",
   "execution_count": 7,
   "metadata": {},
   "outputs": [
    {
     "name": "stdout",
     "output_type": "stream",
     "text": [
      "Homo sapiens\n",
      "Homo sapiens\n"
     ]
    }
   ],
   "source": [
    "class Person:\n",
    "    species = \"Homo sapiens\"  # Атрибут класса\n",
    "\n",
    "    def __init__(self, name, age):\n",
    "        self.name = name\n",
    "        self.age = age\n",
    "\n",
    "person1 = Person(\"Alice\", 30)\n",
    "person2 = Person(\"Bob\", 25)\n",
    "\n",
    "print(person1.species)  # Homo sapiens\n",
    "print(person2.species)  # Homo sapiens\n",
    "\n"
   ]
  },
  {
   "cell_type": "markdown",
   "metadata": {},
   "source": [
    "#### Можно обращаться к атрибуту класса через имя класса:"
   ]
  },
  {
   "cell_type": "code",
   "execution_count": 8,
   "metadata": {},
   "outputs": [
    {
     "name": "stdout",
     "output_type": "stream",
     "text": [
      "Homo sapiens\n"
     ]
    }
   ],
   "source": [
    "print(Person.species)  "
   ]
  },
  {
   "cell_type": "markdown",
   "metadata": {},
   "source": [
    "### Изменение атрибутов\n",
    "\n",
    "- Изменение атрибута объекта влияет только на этот объект.\n",
    "- Изменение атрибута класса влияет на всех объектов, если они не имеют собственного атрибута с таким же именем.\n",
    "\n",
    "**Пример изменения атрибута класса:**"
   ]
  },
  {
   "cell_type": "code",
   "execution_count": 9,
   "metadata": {},
   "outputs": [
    {
     "name": "stdout",
     "output_type": "stream",
     "text": [
      "not Homo sapiens\n",
      "not Homo sapiens\n"
     ]
    }
   ],
   "source": [
    "Person.species = \"not Homo sapiens\"\n",
    "print(person1.species)  \n",
    "print(person2.species) "
   ]
  },
  {
   "cell_type": "markdown",
   "metadata": {},
   "source": [
    "### Примеры создания методов внутри класса"
   ]
  },
  {
   "cell_type": "code",
   "execution_count": null,
   "metadata": {},
   "outputs": [],
   "source": [
    "class Person:\n",
    "    species = \"Homo sapiens\"  # Атрибут класса\n",
    "\n",
    "    def __init__(self, name, age):\n",
    "        self.name = name      # Атрибут объекта\n",
    "        self.age = age        # Атрибут объекта\n",
    "\n",
    "    def greet(self):\n",
    "        print(f\"Привет, {self.name}!\")\n",
    "\n",
    "    def have_birthday(self):\n",
    "        self.age += 1\n",
    "        print(f\"{self.name} отпраздновал(а) день рождения! Теперь ему(ей) {self.age} лет.\")\n",
    "\n",
    "    @classmethod\n",
    "    def change_species(cls, new_species):\n",
    "        cls.species = new_species\n",
    "\n",
    "    @staticmethod\n",
    "    def is_adult(age):\n",
    "        return age >= 18"
   ]
  },
  {
   "cell_type": "markdown",
   "metadata": {},
   "source": [
    "- **`def greet(self):`** — метод, который выводит приветствие.\n",
    "- **`def have_birthday(self):`** — метод, который увеличивает возраст на 1.\n",
    "- **`@classmethod`** и **`def change_species(cls, new_species):`** — метод класса для изменения атрибута класса.\n",
    "- **`@staticmethod`** и **`def is_adult(age):`** — статический метод, проверяющий совершеннолетие.\n",
    "\n",
    "### Использование методов"
   ]
  },
  {
   "cell_type": "code",
   "execution_count": null,
   "metadata": {},
   "outputs": [],
   "source": [
    "person1 = Person(\"Alice\", 24)\n",
    "person1.greet()  \n",
    "person1.have_birthday() \n",
    "\n",
    "print(Person.species)  \n",
    "Person.change_species(\"Homo neanderthalensis\")\n",
    "print(Person.species)  \n",
    "print(Person.is_adult(17))  "
   ]
  },
  {
   "cell_type": "markdown",
   "metadata": {},
   "source": [
    "## 5. Приватные атрибуты и методы\n",
    "\n",
    "### Приватные атрибуты\n",
    "\n",
    "В Python приватные атрибуты и методы обозначаются двумя подчеркиваниями `__` перед именем. Они используются для индикации того, что атрибут или метод не предназначен для внешнего использования.\n",
    "\n",
    "**Пример:**"
   ]
  },
  {
   "cell_type": "code",
   "execution_count": 10,
   "metadata": {},
   "outputs": [],
   "source": [
    "class Person:\n",
    "    def __init__(self, name, age):\n",
    "        self.__name = name  # Приватный атрибут\n",
    "        self.__age = age    # Приватный атрибут"
   ]
  },
  {
   "cell_type": "markdown",
   "metadata": {},
   "source": [
    "### Доступ к приватным атрибутам\n",
    "\n",
    "Прямой доступ к приватным атрибутам из-за преднамеренного изменения имени невозможен:"
   ]
  },
  {
   "cell_type": "code",
   "execution_count": 11,
   "metadata": {},
   "outputs": [
    {
     "ename": "AttributeError",
     "evalue": "'Person' object has no attribute '__name'",
     "output_type": "error",
     "traceback": [
      "\u001b[1;31m---------------------------------------------------------------------------\u001b[0m",
      "\u001b[1;31mAttributeError\u001b[0m                            Traceback (most recent call last)",
      "Cell \u001b[1;32mIn[11], line 2\u001b[0m\n\u001b[0;32m      1\u001b[0m person \u001b[38;5;241m=\u001b[39m Person(\u001b[38;5;124m\"\u001b[39m\u001b[38;5;124mAlice\u001b[39m\u001b[38;5;124m\"\u001b[39m, \u001b[38;5;241m24\u001b[39m)\n\u001b[1;32m----> 2\u001b[0m \u001b[38;5;28mprint\u001b[39m(\u001b[43mperson\u001b[49m\u001b[38;5;241;43m.\u001b[39;49m\u001b[43m__name\u001b[49m)  \u001b[38;5;66;03m# AttributeError\u001b[39;00m\n",
      "\u001b[1;31mAttributeError\u001b[0m: 'Person' object has no attribute '__name'"
     ]
    }
   ],
   "source": [
    "person = Person(\"Alice\", 24)\n",
    "print(person.__name)  # AttributeError"
   ]
  },
  {
   "cell_type": "markdown",
   "metadata": {},
   "source": [
    "### Обход ограничения (не рекомендуется)\n",
    "\n",
    "Python использует манглинг имен для приватных атрибутов. Имя атрибута изменяется на `_ClassName__attribute`:"
   ]
  },
  {
   "cell_type": "code",
   "execution_count": 12,
   "metadata": {},
   "outputs": [
    {
     "name": "stdout",
     "output_type": "stream",
     "text": [
      "Alice\n"
     ]
    }
   ],
   "source": [
    "print(person._Person__name)  # Alice"
   ]
  },
  {
   "cell_type": "markdown",
   "metadata": {},
   "source": [
    "**Важно:** Несмотря на возможность доступа к приватным атрибутам таким способом, делать это не рекомендуется. Лучше использовать методы для доступа к ним.\n",
    "\n",
    "### Приватные методы\n",
    "\n",
    "Аналогично приватным атрибутам, методы можно сделать приватными, добавив `__` перед именем."
   ]
  },
  {
   "cell_type": "code",
   "execution_count": 13,
   "metadata": {},
   "outputs": [],
   "source": [
    "class Person:\n",
    "    def __init__(self, name, age):\n",
    "        self.__name = name\n",
    "        self.__age = age\n",
    "\n",
    "    def __display_info(self):\n",
    "        print(f\"Name: {self.__name}, Age: {self.__age}\")"
   ]
  },
  {
   "cell_type": "markdown",
   "metadata": {},
   "source": [
    "Попытка вызвать приватный метод извне:"
   ]
  },
  {
   "cell_type": "code",
   "execution_count": 14,
   "metadata": {},
   "outputs": [
    {
     "ename": "AttributeError",
     "evalue": "'Person' object has no attribute '__display_info'",
     "output_type": "error",
     "traceback": [
      "\u001b[1;31m---------------------------------------------------------------------------\u001b[0m",
      "\u001b[1;31mAttributeError\u001b[0m                            Traceback (most recent call last)",
      "Cell \u001b[1;32mIn[14], line 2\u001b[0m\n\u001b[0;32m      1\u001b[0m person \u001b[38;5;241m=\u001b[39m Person(\u001b[38;5;124m\"\u001b[39m\u001b[38;5;124mAlice\u001b[39m\u001b[38;5;124m\"\u001b[39m, \u001b[38;5;241m24\u001b[39m)\n\u001b[1;32m----> 2\u001b[0m \u001b[43mperson\u001b[49m\u001b[38;5;241;43m.\u001b[39;49m\u001b[43m__display_info\u001b[49m()  \u001b[38;5;66;03m# AttributeError\u001b[39;00m\n",
      "\u001b[1;31mAttributeError\u001b[0m: 'Person' object has no attribute '__display_info'"
     ]
    }
   ],
   "source": [
    "person = Person(\"Alice\", 24)\n",
    "person.__display_info()  # AttributeError"
   ]
  },
  {
   "cell_type": "markdown",
   "metadata": {},
   "source": [
    "## 6. атрибут `__qualname__`\n",
    "\n",
    "Атрибут `__qualname__` (qualified name) возвращает полное имя класса или функции, включая пространство имен.\n",
    "\n",
    "**Пример:**"
   ]
  },
  {
   "cell_type": "code",
   "execution_count": 15,
   "metadata": {},
   "outputs": [
    {
     "name": "stdout",
     "output_type": "stream",
     "text": [
      "Person\n"
     ]
    }
   ],
   "source": [
    "print(Person.__qualname__) "
   ]
  },
  {
   "cell_type": "markdown",
   "metadata": {},
   "source": [
    "Для вложенных классов или функций `__qualname__` будет включать имена внешних классов или функций.\n",
    "\n",
    "**Пример с вложенным классом:**"
   ]
  },
  {
   "cell_type": "code",
   "execution_count": 16,
   "metadata": {},
   "outputs": [
    {
     "name": "stdout",
     "output_type": "stream",
     "text": [
      "OuterClass.InnerClass\n"
     ]
    }
   ],
   "source": [
    "class OuterClass:\n",
    "    class InnerClass:\n",
    "        pass\n",
    "\n",
    "print(OuterClass.InnerClass.__qualname__) "
   ]
  },
  {
   "cell_type": "markdown",
   "metadata": {},
   "source": [
    "# Задания для закрепления материала"
   ]
  },
  {
   "cell_type": "markdown",
   "metadata": {},
   "source": [
    "В следующих заданиях мы будем работать с классом `BankAccount`, представляющим банковский счет. Каждое задание будет постепенно усложнять функциональность класса.\n",
    "\n",
    "# Задание 1: Создание класса `BankAccount`\n",
    "\n",
    "**Описание**: Создайте класс `BankAccount`, который содержит атрибуты `account_number` (номер счета) и `balance` (баланс). Реализуйте метод `__init__`, который инициализирует эти атрибуты."
   ]
  },
  {
   "cell_type": "markdown",
   "metadata": {},
   "source": [
    "# Задание 2: Создание объекта счета\n",
    "\n",
    "**Описание**: Создайте объект `account1` класса `BankAccount` с номером счета `123456` и балансом `1000`."
   ]
  },
  {
   "cell_type": "markdown",
   "metadata": {},
   "source": [
    "# Задание 3: Вывод информации о счете\n",
    "\n",
    "**Описание**: Выведите на экран номер счета и баланс объекта `account1`."
   ]
  },
  {
   "cell_type": "markdown",
   "metadata": {},
   "source": [
    "# Задание 4: Метод для депозита\n",
    "\n",
    "**Описание**: Добавьте в класс `BankAccount` метод `deposit(amount)`, который увеличивает баланс на заданную сумму `amount`."
   ]
  },
  {
   "cell_type": "markdown",
   "metadata": {},
   "source": [
    "# Задание 5: Метод для снятия средств\n",
    "\n",
    "**Описание**: Добавьте в класс `BankAccount` метод `withdraw(amount)`, который уменьшает баланс на сумму `amount` при условии, что на счете достаточно средств."
   ]
  },
  {
   "cell_type": "markdown",
   "metadata": {},
   "source": [
    "# Задание 6: Проверка методов `deposit` и `withdraw`\n",
    "\n",
    "**Описание**: Попробуйте внести `500` на счет `account1`, затем снять `200`. Выведите баланс после каждой операции."
   ]
  },
  {
   "cell_type": "code",
   "execution_count": 39,
   "metadata": {},
   "outputs": [
    {
     "name": "stdout",
     "output_type": "stream",
     "text": [
      "Номер счёта: 123456\n",
      "Баланс: 1000\n",
      "Баланс: 1500\n",
      "Баланс: 1300\n"
     ]
    }
   ],
   "source": [
    "class BankAccount:\n",
    "    \n",
    "    def __init__(self, account_number, balance):\n",
    "        self.account_number = account_number\n",
    "        self.balance = balance\n",
    "\n",
    "    #Metod\n",
    "    def deposit(self, amount):\n",
    "        self.balance += amount\n",
    "\n",
    "    def withdraw(self, amount):\n",
    "        self.balance -= amount\n",
    "\n",
    "account1 = BankAccount(account_number=123456, balance=1000)\n",
    "print('Номер счёта:',account1.account_number)\n",
    "print('Баланс:',account1.balance)\n",
    "account1.deposit(500)\n",
    "print('Баланс:',account1.balance)\n",
    "account1.withdraw(200)\n",
    "print('Баланс:',account1.balance)"
   ]
  },
  {
   "cell_type": "markdown",
   "metadata": {},
   "source": [
    "# Задание 7: Приватный атрибут `__balance`\n",
    "\n",
    "**Описание**: Сделайте атрибут `balance` приватным."
   ]
  },
  {
   "cell_type": "markdown",
   "metadata": {},
   "source": [
    "# Задание 8: Методы для получения и установки баланса\n",
    "\n",
    "**Описание**: Добавьте методы `get_balance()` для получения текущего баланса и `set_balance(amount)` для установки нового баланса."
   ]
  },
  {
   "cell_type": "markdown",
   "metadata": {},
   "source": [
    "# Задание 9: Обновление методов `deposit` и `withdraw`\n",
    "\n",
    "**Описание**: Обновите методы `deposit` и `withdraw`, чтобы они использовали приватный атрибут `__balance`."
   ]
  },
  {
   "cell_type": "markdown",
   "metadata": {},
   "source": [
    "# Задание 10: Проверка доступа к приватному атрибуту\n",
    "\n",
    "**Описание**: Попробуйте напрямую получить доступ к `account1.__balance` и посмотрите, что произойдет."
   ]
  },
  {
   "cell_type": "code",
   "execution_count": 40,
   "metadata": {},
   "outputs": [
    {
     "name": "stdout",
     "output_type": "stream",
     "text": [
      "1000\n",
      "2000\n"
     ]
    },
    {
     "ename": "AttributeError",
     "evalue": "'BankAccount' object has no attribute '__balance'",
     "output_type": "error",
     "traceback": [
      "\u001b[31m---------------------------------------------------------------------------\u001b[39m",
      "\u001b[31mAttributeError\u001b[39m                            Traceback (most recent call last)",
      "\u001b[36mCell\u001b[39m\u001b[36m \u001b[39m\u001b[32mIn[40]\u001b[39m\u001b[32m, line 26\u001b[39m\n\u001b[32m     23\u001b[39m account1.set_balance(\u001b[32m2000\u001b[39m)\n\u001b[32m     24\u001b[39m \u001b[38;5;28mprint\u001b[39m(account1.get_balance())\n\u001b[32m---> \u001b[39m\u001b[32m26\u001b[39m \u001b[38;5;28mprint\u001b[39m(\u001b[33m'\u001b[39m\u001b[33mБаланс:\u001b[39m\u001b[33m'\u001b[39m,\u001b[43maccount1\u001b[49m\u001b[43m.\u001b[49m\u001b[43m__balance\u001b[49m)\n",
      "\u001b[31mAttributeError\u001b[39m: 'BankAccount' object has no attribute '__balance'"
     ]
    }
   ],
   "source": [
    "class BankAccount:\n",
    "    \n",
    "    def __init__(self, account_number, balance):\n",
    "        self.account_number = account_number\n",
    "        self.__balance = balance\n",
    "\n",
    "    #Metod\n",
    "    def deposit(self, amount):\n",
    "        self.__balance += amount\n",
    "\n",
    "    def withdraw(self, amount):\n",
    "        self.__balance -= amount\n",
    "\n",
    "    def get_balance(self):\n",
    "        return(self.__balance)\n",
    "    \n",
    "    def set_balance(self, amount):\n",
    "        self.__balance = amount\n",
    "\n",
    "account1 = BankAccount(account_number=123456, balance=1000)\n",
    "\n",
    "print(account1.get_balance())\n",
    "account1.set_balance(2000)\n",
    "print(account1.get_balance())\n",
    "\n",
    "print('Баланс:',account1.__balance)"
   ]
  },
  {
   "cell_type": "markdown",
   "metadata": {},
   "source": [
    "# Задание 11: Приватный метод для проверки баланса\n",
    "\n",
    "**Описание**: Добавьте в класс приватный метод `__can_withdraw(amount)`, который возвращает `True`, если можно снять `amount`, иначе `False`."
   ]
  },
  {
   "cell_type": "markdown",
   "metadata": {},
   "source": [
    "# Задание 12: Использование приватного метода в `withdraw`\n",
    "\n",
    "**Описание**: Обновите метод `withdraw`, чтобы он использовал приватный метод `__can_withdraw(amount)`."
   ]
  },
  {
   "cell_type": "markdown",
   "metadata": {},
   "source": [
    "# Задание 13: Строковое представление объекта\n",
    "\n",
    "**Описание**: Добавьте метод `__str__`, который возвращает строку с информацией о счете."
   ]
  },
  {
   "cell_type": "markdown",
   "metadata": {},
   "source": [
    "# Задание 14: Атрибут класса `bank_name`\n",
    "\n",
    "**Описание**: Добавьте атрибут класса `bank_name` с названием банка. У всех счетов этот атрибут должен быть одинаковым."
   ]
  },
  {
   "cell_type": "markdown",
   "metadata": {},
   "source": [
    "# Задание 15: Вывод информации о банке\n",
    "\n",
    "**Описание**: Выведите название банка, используя объект `account1` и класс `BankAccount`."
   ]
  },
  {
   "cell_type": "code",
   "execution_count": 41,
   "metadata": {},
   "outputs": [
    {
     "name": "stdout",
     "output_type": "stream",
     "text": [
      "2000\n",
      "------------------------\n",
      "1800\n",
      "------------------------\n",
      "Error\n",
      "1800\n",
      "------------------------\n",
      "Номер счёта: 123456\n",
      "Баланс: 1800\n",
      "------------------------\n",
      "LetiBank\n"
     ]
    }
   ],
   "source": [
    "class BankAccount:\n",
    "    \n",
    "    bank_name = 'LetiBank'\n",
    "\n",
    "    def __init__(self, account_number, balance):\n",
    "        self.account_number = account_number\n",
    "        self.__balance = balance\n",
    "\n",
    "    #Metod\n",
    "    def deposit(self, amount):\n",
    "        self.__balance += amount\n",
    "\n",
    "    def withdraw(self, amount):\n",
    "        if self.__can_winthdraw(amount):\n",
    "            self.__balance -= amount\n",
    "        else:\n",
    "            print('Error')\n",
    "\n",
    "    def get_balance(self):\n",
    "        return(self.__balance)\n",
    "    \n",
    "    def set_balance(self, amount):\n",
    "        self.__balance = amount\n",
    "    \n",
    "    def __can_winthdraw(self, amount):\n",
    "        if amount > self.__balance: \n",
    "            return False\n",
    "        else:\n",
    "            return True\n",
    "    \n",
    "    def __str__(self):\n",
    "        return f'Номер счёта: {self.account_number}\\nБаланс: {self.__balance}'\n",
    "\n",
    "account1 = BankAccount(account_number=123456, balance=1000)\n",
    "\n",
    "account1.set_balance(2000)\n",
    "print(account1.get_balance())\n",
    "\n",
    "print('------------------------')\n",
    "account1.withdraw(200)\n",
    "print(account1.get_balance())\n",
    "\n",
    "print('------------------------')\n",
    "account1.withdraw(2000)\n",
    "print(account1.get_balance())\n",
    "\n",
    "print('------------------------')\n",
    "print(account1.__str__())\n",
    "\n",
    "print('------------------------')\n",
    "print(account1.bank_name)\n",
    "\n"
   ]
  }
 ],
 "metadata": {
  "kernelspec": {
   "display_name": "Python 3",
   "language": "python",
   "name": "python3"
  },
  "language_info": {
   "codemirror_mode": {
    "name": "ipython",
    "version": 3
   },
   "file_extension": ".py",
   "mimetype": "text/x-python",
   "name": "python",
   "nbconvert_exporter": "python",
   "pygments_lexer": "ipython3",
   "version": "3.12.6"
  }
 },
 "nbformat": 4,
 "nbformat_minor": 2
}
