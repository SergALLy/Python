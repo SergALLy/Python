{
 "cells": [
  {
   "cell_type": "markdown",
   "metadata": {},
   "source": [
    "# Урок 4: Работа с модулем NumPy\n",
    "Добро пожаловать на четвёртый урок по программированию на Python! Сегодня мы познакомимсся с библиотекой **NumPy**.\n",
    "**NumPy** — это библиотека для языка Python, которая предоставляет удобные и быстрые способы работы с многомерными массивами и матрицами, а также содержит большое количество математических функций для работы с этими массивами. NumPy часто используется в научных вычислениях, анализе данных и машинном обучении."
   ]
  },
  {
   "cell_type": "markdown",
   "metadata": {},
   "source": [
    "# 1. Установка NumPy\n",
    "\n",
    "Для начала работы с NumPy необходимо установить его, если он ещё не установлен. Для этого используйте команду:"
   ]
  },
  {
   "cell_type": "code",
   "execution_count": 2,
   "metadata": {},
   "outputs": [
    {
     "name": "stdout",
     "output_type": "stream",
     "text": [
      "Defaulting to user installation because normal site-packages is not writeable\n",
      "Requirement already satisfied: numpy in c:\\users\\worker\\appdata\\roaming\\python\\python310\\site-packages (1.23.3)\n",
      "Note: you may need to restart the kernel to use updated packages.\n"
     ]
    },
    {
     "name": "stderr",
     "output_type": "stream",
     "text": [
      "\n",
      "[notice] A new release of pip is available: 24.0 -> 24.2\n",
      "[notice] To update, run: python.exe -m pip install --upgrade pip\n"
     ]
    }
   ],
   "source": [
    "%pip install numpy"
   ]
  },
  {
   "cell_type": "markdown",
   "metadata": {},
   "source": [
    "### После установки необходимо перезапустить ядро или просто закрыть-открыть VSCode."
   ]
  },
  {
   "cell_type": "markdown",
   "metadata": {},
   "source": [
    "# 2. Импорт библиотеки NumPy\n",
    "\n",
    "После установки можно импортировать NumPy в программу:"
   ]
  },
  {
   "cell_type": "code",
   "execution_count": 1,
   "metadata": {},
   "outputs": [],
   "source": [
    "import numpy as np"
   ]
  },
  {
   "cell_type": "markdown",
   "metadata": {},
   "source": [
    "Здесь `np` — это общепринятое сокращение, чтобы не писать длинное `numpy` в каждой строке кода."
   ]
  },
  {
   "cell_type": "markdown",
   "metadata": {},
   "source": [
    "# 3. Основные возможности и функции NumPy\n",
    "\n",
    "## 3.1. Основным объектом NumPy является **многомерный массив** — `ndarray` (n-dimensional array). Он отличается от стандартных списков Python тем, что:\n",
    "\n",
    "- Все элементы имеют **одинаковый тип данных** (обычно числа).\n",
    "- Он позволяет выполнять **векторные операции**, то есть операции над всеми элементами массива одновременно, что значительно ускоряет вычисления.\n",
    "## Пример создания массивов"
   ]
  },
  {
   "cell_type": "code",
   "execution_count": null,
   "metadata": {},
   "outputs": [],
   "source": [
    "import numpy as np\n",
    "\n",
    "# Одномерный массив (из списка)\n",
    "arr1 = np.array([1, 2, 3, 4, 5])\n",
    "print(arr1)\n",
    "# Двумерный массив (матрица)\n",
    "arr2 = np.array([[1, 2, 3], [4, 5, 6]])\n",
    "print(arr2)\n",
    "# Из кортежа\n",
    "b = np.array((4, 5, 6))\n",
    "print(b)  # [4 5 6]\n",
    "\n",
    "\n"
   ]
  },
  {
   "cell_type": "markdown",
   "metadata": {},
   "source": [
    "## Важные функции для создания массивов:\n",
    "\n",
    "- **`np.zeros(shape, dtype=float)`**: Создаёт массив, заполненный нулями.\n",
    "\n",
    "  ```python\n",
    "  zeros_array = np.zeros((2, 3))\n",
    "  print(zeros_array)\n",
    "  # [[0. 0. 0.]\n",
    "  #  [0. 0. 0.]]\n",
    "  ```\n",
    "\n",
    "- **`np.ones(shape, dtype=float)`**: Создаёт массив, заполненный единицами.\n",
    "\n",
    "  ```python\n",
    "  ones_array = np.ones((3, 2))\n",
    "  print(ones_array)\n",
    "  # [[1. 1.]\n",
    "  #  [1. 1.]\n",
    "  #  [1. 1.]]\n",
    "  ```\n",
    "\n",
    "- **`np.full(shape, fill_value, dtype=None)`**: Создаёт массив, заполненный заданным значением.\n",
    "\n",
    "  ```python\n",
    "  full_array = np.full((2, 2), 7)\n",
    "  print(full_array)\n",
    "  # [[7 7]\n",
    "  #  [7 7]]\n",
    "  ```\n",
    "\n",
    "- **`np.eye(N, M=None, k=0, dtype=float)`**: Создаёт единичную матрицу (двумерный массив с единицами на главной диагонали).\n",
    "\n",
    "  ```python\n",
    "  identity_matrix = np.eye(3)\n",
    "  print(identity_matrix)\n",
    "  # [[1. 0. 0.]\n",
    "  #  [0. 1. 0.]\n",
    "  #  [0. 0. 1.]]\n",
    "  ```\n",
    "\n",
    "- **`np.arange(start, stop, step, dtype=None)`**: Аналогично встроенной функции `range()`, но возвращает массив.\n",
    "\n",
    "  ```python\n",
    "  arr = np.arange(0, 10, 2)\n",
    "  print(arr)  # [0 2 4 6 8]\n",
    "  ```\n",
    "\n",
    "- **`np.linspace(start, stop, num, endpoint=True, retstep=False, dtype=None)`**: Возвращает равномерно распределённые числа на заданном интервале.\n",
    "\n",
    "  ```python\n",
    "  linspace_arr = np.linspace(0, 1, 5)\n",
    "  print(linspace_arr)  # [0.   0.25 0.5  0.75 1.  ]\n",
    "  ```\n",
    "\n",
    "### Параметры функций\n",
    "\n",
    "- **`shape`**: Кортеж или список, определяющий размерность массива.\n",
    "- **`dtype`**: Тип данных элементов массива (например, `int`, `float`, `complex`).\n",
    "- **`start`**: Начальное значение последовательности.\n",
    "- **`stop`**: Конечное значение последовательности (в `arange` не включается, в `linspace` по умолчанию включается).\n",
    "- **`step`**: Шаг последовательности.\n",
    "### Пример:"
   ]
  },
  {
   "cell_type": "code",
   "execution_count": null,
   "metadata": {},
   "outputs": [],
   "source": [
    "import numpy as np\n",
    "\n",
    "zeros_arr = np.zeros((3, 3))  # Массив из нулей 3x3\n",
    "ones_arr = np.ones((2, 4))    # Массив из единиц 2x4\n",
    "range_arr = np.arange(0, 10, 2)  # Чётные числа от 0 до 10\n",
    "linspace_arr = np.linspace(0, 1, 5)  # 5 значений от 0 до 1\n",
    "\n",
    "print(zeros_arr)\n",
    "print(ones_arr)\n",
    "print(range_arr)\n",
    "print(linspace_arr)"
   ]
  },
  {
   "cell_type": "markdown",
   "metadata": {},
   "source": [
    "## Типы данных в NumPy\n",
    "\n",
    "NumPy поддерживает различные типы данных:\n",
    "\n",
    "- **`int`**: Целые числа (`int8`, `int16`, `int32`, `int64`).\n",
    "- **`float`**: Числа с плавающей точкой (`float16`, `float32`, `float64`).\n",
    "- **`complex`**: Комплексные числа (`complex64`, `complex128`).\n",
    "- **`bool`**: Логический тип данных (`True` или `False`).\n",
    "- **`string`** и **`unicode`**: Строковые типы данных.\n",
    "\n",
    "### Задание типа данных\n",
    "\n",
    "При создании массива можно явно указать тип данных с помощью параметра `dtype`:"
   ]
  },
  {
   "cell_type": "code",
   "execution_count": null,
   "metadata": {},
   "outputs": [],
   "source": [
    "arr = np.array([1, 2, 3], dtype=np.float32)\n",
    "print(arr.dtype)  # float32"
   ]
  },
  {
   "cell_type": "markdown",
   "metadata": {},
   "source": [
    "## 3.2. Индексация и срезы\n",
    "\n",
    "NumPy позволяет легко получать доступ к элементам массива или его частям с помощью индексации и срезов.\n",
    "\n",
    "### Пример индексации:"
   ]
  },
  {
   "cell_type": "code",
   "execution_count": null,
   "metadata": {},
   "outputs": [],
   "source": [
    "arr = np.array([10, 20, 30, 40, 50])\n",
    "\n",
    "# Получение элемента по индексу\n",
    "print(arr[0])  # 10\n",
    "print(arr[3])  # 40"
   ]
  },
  {
   "cell_type": "markdown",
   "metadata": {},
   "source": [
    "### Пример срезов:"
   ]
  },
  {
   "cell_type": "code",
   "execution_count": null,
   "metadata": {},
   "outputs": [],
   "source": [
    "arr = np.array([1, 2, 3, 4, 5, 6, 7])\n",
    "\n",
    "# Получаем элементы с 2-го по 4-й (индексы 1, 2, 3)\n",
    "print(arr[1:4])  # [2, 3, 4]\n",
    "\n",
    "# Получаем элементы с 3-го до конца\n",
    "print(arr[2:])  # [3, 4, 5, 6, 7]"
   ]
  },
  {
   "cell_type": "markdown",
   "metadata": {},
   "source": [
    "### Логическая индексация\n",
    "\n",
    "Можно использовать логические условия для выборки элементов массива."
   ]
  },
  {
   "cell_type": "code",
   "execution_count": null,
   "metadata": {},
   "outputs": [],
   "source": [
    "arr = np.array([1, 2, 3, 4, 5])\n",
    "\n",
    "# Выбрать элементы больше 3\n",
    "condition = arr > 3\n",
    "print(condition)   # [False False False  True  True]\n",
    "print(arr[condition])  # [4 5]"
   ]
  },
  {
   "cell_type": "markdown",
   "metadata": {},
   "source": [
    "## 3.3. Изменение формы массива\n",
    "\n",
    "\n",
    "### Функция `reshape()`\n",
    "\n",
    "Метод **`reshape()`** позволяет изменить форму массива без изменения его данных.\n",
    "\n",
    "```python\n",
    "arr = np.arange(6)\n",
    "print(arr)  # [0 1 2 3 4 5]\n",
    "\n",
    "reshaped_arr = arr.reshape((2, 3))\n",
    "print(reshaped_arr)\n",
    "# [[0 1 2]\n",
    "#  [3 4 5]]\n",
    "```\n",
    "\n",
    "### Параметры функции `reshape()`\n",
    "\n",
    "- **`newshape`**: Новая форма массива, заданная кортежем. Произведение размеров должно совпадать с числом элементов в массиве.\n",
    "\n",
    "### Пример:"
   ]
  },
  {
   "cell_type": "code",
   "execution_count": null,
   "metadata": {},
   "outputs": [],
   "source": [
    "arr = np.array([1, 2, 3, 4, 5, 6])\n",
    "\n",
    "# Превращаем одномерный массив в двумерный массив 2x3\n",
    "reshaped_arr = arr.reshape(2, 3)\n",
    "\n",
    "print(reshaped_arr)"
   ]
  },
  {
   "cell_type": "markdown",
   "metadata": {},
   "source": [
    "## 3.4. Математические операции\n",
    "\n",
    "NumPy поддерживает арифметические операции над массивами поэлементно.\n"
   ]
  },
  {
   "cell_type": "code",
   "execution_count": null,
   "metadata": {},
   "outputs": [],
   "source": [
    "arr1 = np.array([1, 2, 3])\n",
    "arr2 = np.array([4, 5, 6])\n",
    "\n",
    "# Сложение массивов\n",
    "print(arr1 + arr2)  # [5 7 9]\n",
    "\n",
    "# Умножение массива на число\n",
    "print(arr1 * 2)  # [2 4 6]\n",
    "\n",
    "# Возведение массива в степень\n",
    "print(arr1 ** 2)  # [1 4 9]"
   ]
  },
  {
   "cell_type": "markdown",
   "metadata": {},
   "source": [
    "### Универсальные функции (ufunc)\n",
    "\n",
    "NumPy предоставляет большое количество математических функций, применяемых поэлементно.\n",
    "\n",
    "\n",
    "\n",
    "### Параметры функций\n",
    "\n",
    "- **`np.sin(x)`**: Синус каждого элемента массива `x`.\n",
    "- **`np.cos(x)`**: Косинус каждого элемента массива `x`.\n",
    "- **`np.exp(x)`**: Экспонента каждого элемента массива `x`.\n",
    "- **`np.sqrt(x)`**: Квадратный корень каждого элемента массива `x`.\n",
    "- **`np.log(x)`**: Натуральный логарифм каждого элемента массива `x`."
   ]
  },
  {
   "cell_type": "code",
   "execution_count": null,
   "metadata": {},
   "outputs": [],
   "source": [
    "arr = np.array([0, np.pi / 2, np.pi])\n",
    "\n",
    "print(np.sin(arr))  # [0.000000e+00 1.000000e+00 1.224646e-16]\n",
    "print(np.cos(arr))  # [ 1.000000e+00  6.123234e-17 -1.000000e+00]\n",
    "print(np.exp(arr))  # [ 1.          4.81047738 23.14069263]"
   ]
  },
  {
   "cell_type": "markdown",
   "metadata": {},
   "source": [
    "## 3.5. Операции с матрицами\n",
    "\n",
    "NumPy предоставляет функции для выполнения матричных операций.\n",
    "\n",
    "### Пример умножения матриц:"
   ]
  },
  {
   "cell_type": "code",
   "execution_count": null,
   "metadata": {},
   "outputs": [],
   "source": [
    "A = np.array([[1, 2], [3, 4]])\n",
    "B = np.array([[5, 6], [7, 8]])\n",
    "\n",
    "# Матричное умножение\n",
    "C = np.dot(A, B)\n",
    "print(C)"
   ]
  },
  {
   "cell_type": "markdown",
   "metadata": {},
   "source": [
    "## 3.6. Статистические функции\n",
    "\n",
    "NumPy содержит много встроенных статистических функций.\n",
    "\n",
    "\n",
    "### Основные функции\n",
    "\n",
    "- **`np.min(a, axis=None)`**: Минимальное значение массива `a`.\n",
    "- **`np.max(a, axis=None)`**: Максимальное значение массива `a`.\n",
    "- **`np.mean(a, axis=None)`**: Среднее значение элементов массива `a`.\n",
    "- **`np.median(a, axis=None)`**: Медиана элементов массива `a`.\n",
    "- **`np.std(a, axis=None)`**: Стандартное отклонение элементов массива `a`.\n",
    "- **`np.var(a, axis=None)`**: Дисперсия элементов массива `a`.\n",
    "- **`np.sum(a, axis=None)`**: Сумма элементов массива `a`.\n",
    "\n"
   ]
  },
  {
   "cell_type": "markdown",
   "metadata": {},
   "source": [
    "### Параметр `axis`\n",
    "\n",
    "- **`axis=0`**: Операция выполняется по столбцам.\n",
    "- **`axis=1`**: Операция выполняется по строкам.\n",
    "### Пример:"
   ]
  },
  {
   "cell_type": "code",
   "execution_count": null,
   "metadata": {},
   "outputs": [],
   "source": [
    "arr = np.array([1, 2, 3, 4, 5])\n",
    "\n",
    "# Среднее значение\n",
    "print(np.mean(arr))  # 3.0\n",
    "\n",
    "# Стандартное отклонение\n",
    "print(np.std(arr))  # 1.414\n",
    "\n",
    "# Максимум и минимум\n",
    "print(np.max(arr))  # 5\n",
    "print(np.min(arr))  # 1\n",
    "\n",
    "\n",
    "arr1 = np.array([[1, 2], [3, 4]])\n",
    "print(np.sum(arr1, axis=0))  # [4 6]\n",
    "print(np.sum(arr1, axis=1))  # [3 7]"
   ]
  },
  {
   "cell_type": "markdown",
   "metadata": {},
   "source": [
    "## 3.7. Генерация случайных чисел\n",
    "\n",
    "\n",
    "- **`np.random.rand(d0, d1, ..., dn)`**: Генерирует массив заданной формы, заполненный случайными числами из равномерного распределения на интервале [0, 1).\n",
    "\n",
    "```python\n",
    "random_arr = np.random.rand(3, 2)\n",
    "print(random_arr)\n",
    "```\n",
    "\n",
    "- **`np.random.randn(d0, d1, ..., dn)`**: Генерирует массив заданной формы, заполненный случайными числами из стандартного нормального распределения.\n",
    "\n",
    "```python\n",
    "normal_arr = np.random.randn(3, 3)\n",
    "print(normal_arr)\n",
    "```\n",
    "\n",
    "- **`np.random.randint(low, high=None, size=None, dtype=int)`**: Возвращает случайные целые числа из заданного интервала.\n",
    "\n",
    "```python\n",
    "int_arr = np.random.randint(1, 10, size=(2, 2))\n",
    "print(int_arr)\n",
    "```\n",
    "\n",
    "### Параметры функций\n",
    "\n",
    "- **`low`**: Нижняя граница (включительно).\n",
    "- **`high`**: Верхняя граница (исключительно).\n",
    "- **`size`**: Размер выходного массива.\n",
    "- **`d0, d1, ..., dn`**: Размерности выходного массива.\n",
    "\n",
    "### Пример:"
   ]
  },
  {
   "cell_type": "code",
   "execution_count": 2,
   "metadata": {},
   "outputs": [
    {
     "name": "stdout",
     "output_type": "stream",
     "text": [
      "[[0.96378206 0.87177143 0.98229712]\n",
      " [0.43556971 0.5656304  0.68631937]\n",
      " [0.65288572 0.09160212 0.392808  ]]\n",
      "[[7 7 2]\n",
      " [7 1 7]]\n",
      "[[-0.01256177 -0.51337175 -0.59110316]\n",
      " [ 0.02422629  0.89622877 -0.49134698]\n",
      " [-0.38665931 -0.42791214  2.46081699]]\n"
     ]
    }
   ],
   "source": [
    "random_arr = np.random.rand(3, 3)\n",
    "print(random_arr)\n",
    "\n",
    "random_int_arr = np.random.randint(1, 10, size=(2, 3))\n",
    "print(random_int_arr)\n",
    "\n",
    "normal_arr = np.random.randn(3, 3)\n",
    "print(normal_arr)"
   ]
  },
  {
   "cell_type": "markdown",
   "metadata": {},
   "source": [
    "## Линейная алгебра\n",
    "\n",
    "NumPy содержит модуль `numpy.linalg` для выполнения операций линейной алгебры.\n",
    "\n",
    "\n",
    "### Основные функции\n",
    "\n",
    "\n",
    "- **`np.dot(a, b)`**: Матричное умножение массивов `a` и `b`."
   ]
  },
  {
   "cell_type": "code",
   "execution_count": null,
   "metadata": {},
   "outputs": [],
   "source": [
    "a = np.array([[1, 2], [3, 4]])\n",
    "b = np.array([[5, 6], [7, 8]])\n",
    "  \n",
    "print(np.dot(a, b))\n",
    "# [[19 22]\n",
    "#  [43 50]]"
   ]
  },
  {
   "cell_type": "markdown",
   "metadata": {},
   "source": [
    "- **`np.transpose(a)`** или `a.T`: Транспонирование массива `a`."
   ]
  },
  {
   "cell_type": "code",
   "execution_count": null,
   "metadata": {},
   "outputs": [],
   "source": [
    "print(a.T)\n",
    "# [[1 3]\n",
    "#  [2 4]]"
   ]
  },
  {
   "cell_type": "markdown",
   "metadata": {},
   "source": [
    "- **`np.linalg.inv(a)`**: Обратная матрица для массива `a`."
   ]
  },
  {
   "cell_type": "code",
   "execution_count": null,
   "metadata": {},
   "outputs": [],
   "source": [
    "inv_a = np.linalg.inv(a)\n",
    "print(inv_a)\n",
    "# [[-2.   1. ]\n",
    "#  [ 1.5 -0.5]]"
   ]
  },
  {
   "cell_type": "markdown",
   "metadata": {},
   "source": [
    "- **`np.linalg.det(a)`**: Детерминант массива `a`."
   ]
  },
  {
   "cell_type": "code",
   "execution_count": null,
   "metadata": {},
   "outputs": [],
   "source": [
    "\n",
    "det_a = np.linalg.det(a)\n",
    "print(det_a)  # -2.0000000000000004"
   ]
  },
  {
   "cell_type": "markdown",
   "metadata": {},
   "source": [
    "- **`np.linalg.eig(a)`**: Собственные значения и собственные векторы массива `a`."
   ]
  },
  {
   "cell_type": "code",
   "execution_count": null,
   "metadata": {},
   "outputs": [],
   "source": [
    "eigenvalues, eigenvectors = np.linalg.eig(a)\n",
    "print(\"Собственные значения:\", eigenvalues)\n",
    "print(\"Собственные векторы:\", eigenvectors)"
   ]
  },
  {
   "cell_type": "markdown",
   "metadata": {},
   "source": [
    "#### Параметры функций\n",
    "\n",
    "- **`a`, `b`**: Входные массивы (матрицы).\n",
    "- **`axis`**: Ось, по которой выполняется операция."
   ]
  },
  {
   "cell_type": "markdown",
   "metadata": {},
   "source": [
    "# 4. Полезные функции и методы\n",
    "\n",
    "### Функция `np.where(condition, [x, y])`\n",
    "\n",
    "Возвращает элементы из `x`, где условие `condition` истинно, и элементы из `y` — где ложно."
   ]
  },
  {
   "cell_type": "code",
   "execution_count": null,
   "metadata": {},
   "outputs": [],
   "source": [
    "arr = np.array([1, 2, 3, 4, 5])\n",
    "\n",
    "result = np.where(arr > 3, arr, 0)\n",
    "print(result)  # [0 0 0 4 5]"
   ]
  },
  {
   "cell_type": "markdown",
   "metadata": {},
   "source": [
    "### Функция `np.concatenate((a1, a2, ...), axis=0)`\n",
    "\n",
    "Объединяет массивы вдоль указанной оси.\n"
   ]
  },
  {
   "cell_type": "code",
   "execution_count": null,
   "metadata": {},
   "outputs": [],
   "source": [
    "a = np.array([1, 2])\n",
    "b = np.array([3, 4])\n",
    "\n",
    "concat_arr = np.concatenate((a, b))\n",
    "print(concat_arr)  # [1 2 3 4]"
   ]
  },
  {
   "cell_type": "markdown",
   "metadata": {},
   "source": [
    "### Функция `np.unique(ar, return_counts=False)`\n",
    "\n",
    "Находит уникальные элементы массива.\n",
    "Если установить `return_counts=True`, то функция также вернёт количество вхождений каждого элемента."
   ]
  },
  {
   "cell_type": "code",
   "execution_count": null,
   "metadata": {},
   "outputs": [],
   "source": [
    "arr = np.array([1, 2, 2, 3, 3, 3])\n",
    "\n",
    "unique_elements = np.unique(arr)\n",
    "print(unique_elements)  # [1 2 3]"
   ]
  },
  {
   "cell_type": "markdown",
   "metadata": {},
   "source": [
    "### Функция `np.triu(m,k)`\n",
    "\n",
    "Функция numpy.triu (Triangle Upper) возвращает верхний треугольник двумерного массива или матрицы. Это означает, что она сохраняет элементы на главной диагонали и выше, а элементы ниже главной диагонали заменяет на нули (или на другое заданное значение).\n",
    "### Параметры\n",
    "\n",
    "- **`m`**: Входной массив или матрица, для которой нужно получить верхний треугольник.\n",
    "\n",
    "- **`k`**: - Диагональ, относительно которой определяется верхний треугольник.\n",
    "  - По умолчанию `k=0`, что означает главную диагональ.\n",
    "  - `k > 0`: диагональ выше главной.\n",
    "  - `k < 0`: диагональ ниже главной.\n"
   ]
  },
  {
   "cell_type": "code",
   "execution_count": 3,
   "metadata": {},
   "outputs": [
    {
     "name": "stdout",
     "output_type": "stream",
     "text": [
      "Оригинальная матрица:\n",
      "[[ 1  2  3  4]\n",
      " [ 5  6  7  8]\n",
      " [ 9 10 11 12]\n",
      " [13 14 15 16]]\n",
      "\n",
      "Верхний треугольник матрицы:\n",
      "[[ 1  2  3  4]\n",
      " [ 0  6  7  8]\n",
      " [ 0  0 11 12]\n",
      " [ 0  0  0 16]]\n"
     ]
    }
   ],
   "source": [
    "a = np.array([[1, 2, 3, 4],\n",
    "              [5, 6, 7, 8],\n",
    "              [9, 10, 11, 12],\n",
    "              [13, 14, 15, 16]])\n",
    "\n",
    "# Получаем верхний треугольник\n",
    "upper_triangle = np.triu(a)\n",
    "\n",
    "print(\"Оригинальная матрица:\")\n",
    "print(a)\n",
    "\n",
    "print(\"\\nВерхний треугольник матрицы:\")\n",
    "print(upper_triangle)"
   ]
  },
  {
   "cell_type": "markdown",
   "metadata": {},
   "source": [
    "\n",
    "- **Документация NumPy**: [https://numpy.org/doc/](https://numpy.org/doc/)"
   ]
  },
  {
   "cell_type": "markdown",
   "metadata": {},
   "source": [
    "# Задания для закрепления материала"
   ]
  },
  {
   "cell_type": "markdown",
   "metadata": {},
   "source": [
    "# Задание №1. Нормализация массива с фильтрацией\n",
    "**Описание**: Создайте массив случайных чисел размером 5x5. Затем отфильтруйте числа, которые больше среднего значения этого массива, и нормализуйте их так, чтобы сумма оставшихся элементов равнялась 1.\n"
   ]
  },
  {
   "cell_type": "code",
   "execution_count": null,
   "metadata": {},
   "outputs": [],
   "source": [
    "# TODO"
   ]
  },
  {
   "cell_type": "markdown",
   "metadata": {},
   "source": [
    "# Задание №2. Нахождение максимума в каждом ряду\n",
    "**Описание**: Создайте двумерный массив размером 5x5 с произвольными числами. Пройдитесь по каждому ряду и найдите максимальное значение. Если максимальное значение больше 10, замените все элементы этого ряда на 1."
   ]
  },
  {
   "cell_type": "code",
   "execution_count": null,
   "metadata": {},
   "outputs": [],
   "source": [
    "# TODO"
   ]
  },
  {
   "cell_type": "markdown",
   "metadata": {},
   "source": [
    "# Задание №3. Создание симметричной матрицы\n",
    "**Описание**: Создайте случайную матрицу 4x4 и преобразуйте её в симметричную (где элемент [i, j] равен элементу [j, i]). Если элемент на диагонали меньше 0, замените его на 0."
   ]
  },
  {
   "cell_type": "code",
   "execution_count": null,
   "metadata": {},
   "outputs": [],
   "source": [
    "# TODO"
   ]
  },
  {
   "cell_type": "markdown",
   "metadata": {},
   "source": [
    "# Задание №4. Кумулятивная сумма с проверкой\n",
    "**Описание**: Создайте массив из 10 случайных чисел. Рассчитайте кумулятивную сумму. Если на каком-либо шаге кумулятивная сумма превышает 50, прекратите вычисления и выведите позицию, на которой произошло превышение."
   ]
  },
  {
   "cell_type": "code",
   "execution_count": null,
   "metadata": {},
   "outputs": [],
   "source": [
    "# TODO"
   ]
  },
  {
   "cell_type": "markdown",
   "metadata": {},
   "source": [
    "# Задание №5. Создание единичной матрицы с модификацией\n",
    "**Описание**: Создайте единичную матрицу размером 5x5. Если элемент на главной диагонали является нечётным числом, замените его на 2."
   ]
  },
  {
   "cell_type": "code",
   "execution_count": null,
   "metadata": {},
   "outputs": [],
   "source": [
    "# TODO"
   ]
  },
  {
   "cell_type": "markdown",
   "metadata": {},
   "source": [
    "# Задание №6. Матричное умножение с проверкой\n",
    "**Описание**: Создайте две случайные матрицы 3x3 и выполните их матричное умножение. Если сумма любого столбца в результирующей матрице больше 15, замените все элементы этого столбца на -1."
   ]
  },
  {
   "cell_type": "code",
   "execution_count": null,
   "metadata": {},
   "outputs": [],
   "source": [
    "# TODO"
   ]
  },
  {
   "cell_type": "markdown",
   "metadata": {},
   "source": [
    "# Задание №7. Нахождение уникальных значений с фильтрацией\n",
    "**Описание**: Создайте массив случайных чисел. Найдите уникальные элементы. Если количество уникальных элементов больше 10, удалите все числа, которые больше 50."
   ]
  },
  {
   "cell_type": "code",
   "execution_count": null,
   "metadata": {},
   "outputs": [],
   "source": [
    "# TODO"
   ]
  },
  {
   "cell_type": "markdown",
   "metadata": {},
   "source": [
    "# Задание №8. Модификация массива на основе медианы\n",
    "**Описание**: Создайте массив случайных чисел размером 1x10. Найдите медиану массива. Если число больше медианы, умножьте его на 2, если меньше — поделите на 2."
   ]
  },
  {
   "cell_type": "code",
   "execution_count": null,
   "metadata": {},
   "outputs": [],
   "source": [
    "# TODO"
   ]
  },
  {
   "cell_type": "markdown",
   "metadata": {},
   "source": [
    "# Задание №9. Отбор элементов с фильтрацией и умножением\n",
    "**Описание**: Создайте двумерный массив размером 5x5. Отберите все элементы, которые являются чётными и больше среднего значения массива, и умножьте их на 3."
   ]
  },
  {
   "cell_type": "code",
   "execution_count": null,
   "metadata": {},
   "outputs": [],
   "source": [
    "# TODO"
   ]
  },
  {
   "cell_type": "markdown",
   "metadata": {},
   "source": [
    "# Задание №10. Поэлементное сложение с условиями\n",
    "**Описание**: Создайте два одномерных массива по 10 элементов каждый. Выполните поэлементное сложение. Если сумма элементов на каком-то шаге превышает 10, замените этот элемент на 0."
   ]
  },
  {
   "cell_type": "code",
   "execution_count": null,
   "metadata": {},
   "outputs": [],
   "source": [
    "# TODO"
   ]
  },
  {
   "cell_type": "markdown",
   "metadata": {},
   "source": [
    "# Задание №11.  Сортировка и фильтрация массива\n",
    "**Описание**: Создайте массив случайных чисел. Отсортируйте его по возрастанию. Затем найдите все элементы, которые меньше среднего значения массива, и замените их на 0."
   ]
  },
  {
   "cell_type": "code",
   "execution_count": null,
   "metadata": {},
   "outputs": [],
   "source": [
    "# TODO"
   ]
  },
  {
   "cell_type": "markdown",
   "metadata": {},
   "source": [
    "# Задание №12.  Транспонирование с модификацией\n",
    "**Описание**: Создайте двумерный массив 3x3. Транспонируйте его и замените все элементы, которые больше 5, на их логарифмы."
   ]
  },
  {
   "cell_type": "code",
   "execution_count": null,
   "metadata": {},
   "outputs": [],
   "source": [
    "# TODO"
   ]
  },
  {
   "cell_type": "markdown",
   "metadata": {},
   "source": [
    "# Задание №13.  Обратная матрица с проверкой\n",
    "**Описание**: Создайте случайную матрицу 3x3. Найдите её обратную матрицу. Если сумма какого-либо ряда в обратной матрице больше 10, умножьте этот ряд на 2."
   ]
  },
  {
   "cell_type": "code",
   "execution_count": null,
   "metadata": {},
   "outputs": [],
   "source": [
    "# TODO"
   ]
  },
  {
   "cell_type": "markdown",
   "metadata": {},
   "source": [
    "# Задание №14. Перемешивание с модификацией\n",
    "**Описание**: Создайте массив из 10 чисел. Перемешайте элементы массива случайным образом. Если в новом массиве есть числа больше 5, уменьшите их на 3."
   ]
  },
  {
   "cell_type": "code",
   "execution_count": null,
   "metadata": {},
   "outputs": [],
   "source": [
    "# TODO"
   ]
  },
  {
   "cell_type": "markdown",
   "metadata": {},
   "source": [
    "# Задание №15.  Цикл с вложенным условием\n",
    "**Описание**: Создайте двумерный массив 4x4. Для каждого элемента массива выполните следующее: если элемент чётный, возведите его в квадрат, если нечётный — умножьте на 2."
   ]
  },
  {
   "cell_type": "code",
   "execution_count": null,
   "metadata": {},
   "outputs": [],
   "source": [
    "# TODO"
   ]
  }
 ],
 "metadata": {
  "kernelspec": {
   "display_name": "Python 3",
   "language": "python",
   "name": "python3"
  },
  "language_info": {
   "codemirror_mode": {
    "name": "ipython",
    "version": 3
   },
   "file_extension": ".py",
   "mimetype": "text/x-python",
   "name": "python",
   "nbconvert_exporter": "python",
   "pygments_lexer": "ipython3",
   "version": "3.10.7"
  }
 },
 "nbformat": 4,
 "nbformat_minor": 2
}
