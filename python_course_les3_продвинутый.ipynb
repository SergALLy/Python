{
 "cells": [
  {
   "cell_type": "markdown",
   "metadata": {},
   "source": [
    "# Урок по работе с модулями в Python\n",
    "\n",
    "## Введение\n",
    "\n",
    "В этом уроке мы подробно рассмотрим следующие темы:\n",
    "\n",
    "1. **Работа с модулями в Python**:\n",
    "   - Понятие модулей и их роль в Python.\n",
    "   - Импорт встроенных модулей (например, `math`).\n",
    "   - Использование функций и констант из модулей.\n",
    "   - Различные способы импорта модулей.\n",
    "   - Другие полезные модули.\n"
   ]
  },
  {
   "cell_type": "markdown",
   "metadata": {},
   "source": [
    "\n",
    "\n",
    "## 1.1. Что такое модуль в Python?\n",
    "\n",
    "**Модуль** в Python — это файл с расширением `.py`, который содержит определения функций, классов и переменных. Модули позволяют организовывать код в логические блоки, которые можно повторно использовать в различных программах.\n",
    "\n",
    "### Преимущества использования модулей:\n",
    "\n",
    "- **Повторное использование кода**: Один и тот же модуль можно использовать в нескольких программах.\n",
    "- **Организация кода**: Разделение кода на модули улучшает читаемость и структуру программы.\n",
    "- **Избежание конфликтов имен**: Модули создают своё пространство имён, что помогает избежать конфликтов между именами функций и переменных.\n",
    "\n",
    "## 1.2. Импорт модулей\n",
    "\n",
    "Чтобы использовать функции и переменные из модуля, его нужно **импортировать**.\n",
    "\n",
    "### Синтаксис импорта модуля:\n",
    "\n",
    "```python\n",
    "import имя_модуля\n",
    "```\n",
    "\n",
    "После импорта можно использовать функции и переменные из модуля, обращаясь к ним через точку:\n",
    "\n",
    "```python\n",
    "имя_модуля.имя_функции(аргументы)\n",
    "```\n",
    "\n",
    "## 1.3. Пример - Модуль `math`\n",
    "\n",
    "Модуль `math` — это встроенный модуль Python, который предоставляет доступ к математическим функциям и константам.\n",
    "\n",
    "### Как импортировать модуль `math`:"
   ]
  },
  {
   "cell_type": "code",
   "execution_count": 1,
   "metadata": {},
   "outputs": [],
   "source": [
    "import math"
   ]
  },
  {
   "cell_type": "markdown",
   "metadata": {},
   "source": [
    "### Пример использования модуля `math`\n",
    "\n",
    "**Задача**: Вычислить длину гипотенузы прямоугольного треугольника с катетами длиной 3 и 4.\n",
    "\n",
    "**Решение**:\n"
   ]
  },
  {
   "cell_type": "code",
   "execution_count": null,
   "metadata": {},
   "outputs": [],
   "source": [
    "import math\n",
    "\n",
    "a = 3\n",
    "b = 4\n",
    "\n",
    "c = math.sqrt(a**2 + b**2)\n",
    "print(f\"Длина гипотенузы: {c}\")  # Вывод: Длина гипотенузы: 5.0"
   ]
  },
  {
   "cell_type": "markdown",
   "metadata": {},
   "source": [
    "**Пояснение**:\n",
    "\n",
    "- Используем теорему Пифагора: c² = a² + b².\n",
    "- Возводим `a` и `b` в квадрат и суммируем.\n",
    "- Находим квадратный корень из суммы с помощью `math.sqrt()`.\n",
    "\n",
    "## 1.4. Различные способы импорта модулей\n",
    "\n",
    "### 1.4.1. Импорт всего модуля\n",
    "\n",
    "Как мы уже видели:\n",
    "\n",
    "```python\n",
    "import math\n",
    "```\n",
    "\n",
    "Доступ к функциям и константам через префикс `math.`.\n",
    "\n",
    "### 1.4.2. Импорт отдельных функций\n",
    "\n",
    "Можно импортировать только необходимые функции:\n"
   ]
  },
  {
   "cell_type": "code",
   "execution_count": null,
   "metadata": {},
   "outputs": [],
   "source": [
    "from math import sqrt, pi\n",
    "\n",
    "result = sqrt(16)\n",
    "print(result)  # Вывод: 4.0\n",
    "\n",
    "print(pi)  # Вывод: 3.141592653589793"
   ]
  },
  {
   "cell_type": "markdown",
   "metadata": {},
   "source": [
    "**Преимущество**: Не нужно писать префикс `math.` перед именем функции.\n",
    "\n",
    "### 1.4.3. Импорт с переименованием\n",
    "\n",
    "Можно переименовать модуль или функцию при импорте:\n",
    "\n",
    "- Переименование модуля:\n"
   ]
  },
  {
   "cell_type": "code",
   "execution_count": null,
   "metadata": {},
   "outputs": [],
   "source": [
    "import math as m\n",
    "\n",
    "result = m.sqrt(25)\n",
    "print(result)  # Вывод: 5.0"
   ]
  },
  {
   "cell_type": "markdown",
   "metadata": {},
   "source": [
    "**Преимущество**: Не нужно писать полный префикс `math.` перед именем функции, `m.` написать намного быстрее. Удобно, когда в коде много раз нужно использовать функции какого-либо модуля.\n",
    "\n",
    "- Переименование функции:\n",
    "\n",
    "\n"
   ]
  },
  {
   "cell_type": "code",
   "execution_count": null,
   "metadata": {},
   "outputs": [],
   "source": [
    "from math import sqrt as s\n",
    "\n",
    "result = s(36)\n",
    "print(result)  # Вывод: 6.0"
   ]
  },
  {
   "cell_type": "markdown",
   "metadata": {},
   "source": [
    "\n",
    "### 1.4.4. Импорт всех функций из модуля\n",
    "\n",
    "**Внимание**: Этот способ не рекомендуется, так как может привести к конфликту имён.\n",
    "\n",
    "```python\n",
    "from math import *\n",
    "\n",
    "print(sin(pi / 2))  # Вывод: 1.0\n",
    "```\n",
    "\n",
    "**Недостаток**: В пространство имён текущей программы попадают все имена из модуля `math`, что может перекрыть существующие имена."
   ]
  },
  {
   "cell_type": "markdown",
   "metadata": {},
   "source": [
    "## 2. Полезные встроенные модули \n",
    "\n",
    "## 2.1. Модуль `math`\n",
    "\n",
    "Модуль `math` предоставляет математические функции для работы с числами с плавающей точкой.\n",
    "\n",
    "### Основные функции:\n",
    "\n",
    "- **`math.sqrt(x)`**: Возвращает квадратный корень из `x`.\n",
    "- **`math.pow(x, y)`**: Возводит число `x` в степень `y`.\n",
    "- **`math.exp(x)`**: Возвращает экспоненту `e**x`.\n",
    "- **`math.log(x, base)`**: Логарифм числа `x` по основанию `base`. Если `base` не указано, вычисляет натуральный логарифм.\n",
    "- **`math.sin(x)`**, **`math.cos(x)`**, **`math.tan(x)`**: Тригонометрические функции (угол в радианах).\n",
    "- **`math.factorial(x)`**: Возвращает факториал числа `x` (целое неотрицательное число).\n",
    "\n",
    "### Константы:\n",
    "\n",
    "- **`math.pi`**: Число π (3.1415...).\n",
    "- **`math.e`**: Основание натурального логарифма (2.7182...)."
   ]
  },
  {
   "cell_type": "code",
   "execution_count": null,
   "metadata": {},
   "outputs": [],
   "source": [
    "import math\n",
    "\n",
    "print(math.sqrt(16))        # 4.0\n",
    "print(math.sin(math.pi / 2))  # 1.0\n",
    "print(math.factorial(5))    # 120"
   ]
  },
  {
   "cell_type": "markdown",
   "metadata": {},
   "source": [
    "## 2.2 Модуль `random`\n",
    "\n",
    "Модуль `random` используется для генерации случайных чисел и выполнения случайных операций.\n",
    "\n",
    "### Основные функции:\n",
    "\n",
    "- **`random.random()`**: Возвращает случайное число с плавающей точкой от 0.0 до 1.0.\n",
    "- **`random.randint(a, b)`**: Возвращает случайное целое число `N`, где `a <= N <= b`.\n",
    "- **`random.choice(sequence)`**: Возвращает случайный элемент из непустой последовательности.\n",
    "- **`random.shuffle(sequence)`**: Перемешивает последовательность на месте.\n",
    "- **`random.sample(sequence, k)`**: Возвращает список из `k` уникальных элементов, выбранных из последовательности.\n",
    "\n",
    "### Пример использования:"
   ]
  },
  {
   "cell_type": "code",
   "execution_count": null,
   "metadata": {},
   "outputs": [],
   "source": [
    "import random\n",
    "\n",
    "print(random.random())             # Например, 0.6394267984578837\n",
    "print(random.randint(1, 10))       # Например, 7\n",
    "print(random.choice(['a', 'b', 'c']))  # Например, 'b'\n",
    "\n",
    "numbers = [1, 2, 3, 4, 5]\n",
    "random.shuffle(numbers)\n",
    "print(numbers)  # Например, [3, 1, 5, 2, 4]"
   ]
  },
  {
   "cell_type": "markdown",
   "metadata": {},
   "source": [
    "## 2.3. Модуль `datetime`\n",
    "\n",
    "Модуль `datetime` используется для работы с датой и временем.\n",
    "\n",
    "### Основные классы и функции:\n",
    "\n",
    "- **`datetime.datetime.now()`**: Возвращает текущие дату и время.\n",
    "- **`datetime.datetime.strptime(date_string, format)`**: Преобразует строку в объект `datetime` по заданному формату.\n",
    "- **`datetime.datetime.strftime(format)`**: Преобразует объект `datetime` в строку по заданному формату.\n",
    "- **`datetime.timedelta`**: Разница между двумя датами или временем.\n",
    "\n",
    "### Пример использования:"
   ]
  },
  {
   "cell_type": "code",
   "execution_count": null,
   "metadata": {},
   "outputs": [],
   "source": [
    "import datetime\n",
    "\n",
    "now = datetime.datetime.now()\n",
    "print(now)  # Например, 2023-10-01 12:34:56.789123\n",
    "\n",
    "formatted_date = now.strftime(\"%d.%m.%Y\")\n",
    "print(formatted_date)  # Например, 01.10.2023\n",
    "\n",
    "# Добавление 5 дней к текущей дате\n",
    "future_date = now + datetime.timedelta(days=5)\n",
    "print(future_date)"
   ]
  },
  {
   "cell_type": "markdown",
   "metadata": {},
   "source": [
    "## 2.4. Модуль `os`\n",
    "\n",
    "Модуль `os` предоставляет функции для взаимодействия с операционной системой.\n",
    "\n",
    "### Основные функции:\n",
    "\n",
    "- **`os.getcwd()`**: Возвращает текущую рабочую директорию.\n",
    "- **`os.listdir(path)`**: Возвращает список файлов и директорий в указанном пути.\n",
    "- **`os.mkdir(path)`**: Создаёт новую директорию по указанному пути.\n",
    "- **`os.remove(path)`**: Удаляет файл по указанному пути.\n",
    "- **`os.rename(src, dst)`**: Переименовывает файл или директорию.\n",
    "- **`os.path.join(path, *paths)`**: Объединяет компоненты пути.\n",
    "\n",
    "### Пример использования:"
   ]
  },
  {
   "cell_type": "code",
   "execution_count": null,
   "metadata": {},
   "outputs": [],
   "source": [
    "import os\n",
    "\n",
    "current_dir = os.getcwd()\n",
    "print(\"Текущая директория:\", current_dir)\n",
    "\n",
    "files = os.listdir('.')\n",
    "print(\"Файлы и директории в текущей директории:\", files)\n",
    "\n",
    "# Создание новой директории\n",
    "os.mkdir('new_folder')"
   ]
  },
  {
   "cell_type": "markdown",
   "metadata": {},
   "source": [
    "## 2.5. Модуль `sys`\n",
    "\n",
    "Модуль `sys` предоставляет доступ к некоторым переменным и функциям, взаимодействующим с интерпретатором Python.\n",
    "\n",
    "### Основные функции и переменные:\n",
    "\n",
    "- **`sys.argv`**: Список аргументов командной строки.\n",
    "- **`sys.exit([arg])`**: Завершает работу программы, optionally passing a status code.\n",
    "- **`sys.path`**: Список путей поиска модулей.\n",
    "- **`sys.platform`**: Информация о платформе, на которой запущен интерпретатор.\n",
    "- **`sys.version`**: Информация о версии Python.\n",
    "\n",
    "### Пример использования:"
   ]
  },
  {
   "cell_type": "code",
   "execution_count": null,
   "metadata": {},
   "outputs": [],
   "source": [
    "import sys\n",
    "\n",
    "print(\"Аргументы командной строки:\", sys.argv)\n",
    "print(\"Версия Python:\", sys.version)\n",
    "print(\"Платформа:\", sys.platform)"
   ]
  },
  {
   "cell_type": "markdown",
   "metadata": {},
   "source": [
    "## 2.6. Модуль `time`\n",
    "\n",
    "Модуль `time` предоставляет функции для работы с временем.\n",
    "\n",
    "### Основные функции:\n",
    "\n",
    "- **`time.time()`**: Возвращает текущее время в секундах с начала эпохи (обычно с 1 января 1970 года).\n",
    "- **`time.sleep(seconds)`**: Приостанавливает выполнение программы на указанное количество секунд.\n",
    "- **`time.localtime([secs])`**: Преобразует время в формате секунд в структуру `struct_time` местного времени.\n",
    "- **`time.strftime(format[, t])`**: Преобразует структуру времени в строку по заданному формату.\n",
    "\n",
    "### Пример использования:"
   ]
  },
  {
   "cell_type": "code",
   "execution_count": null,
   "metadata": {},
   "outputs": [],
   "source": [
    "import time\n",
    "\n",
    "current_time = time.time()\n",
    "print(\"Текущее время в секундах с начала эпохи:\", current_time)\n",
    "\n",
    "# Пауза на 2 секунды\n",
    "print(\"Ожидание 2 секунды...\")\n",
    "time.sleep(2)\n",
    "print(\"Продолжаем выполнение\")\n",
    "\n",
    "# Форматирование текущего времени\n",
    "formatted_time = time.strftime(\"%H:%M:%S\", time.localtime())\n",
    "print(\"Текущее время:\", formatted_time)"
   ]
  },
  {
   "cell_type": "markdown",
   "metadata": {},
   "source": [
    "## 2.7. Модуль `re`\n",
    "\n",
    "Модуль `re` предоставляет функции для работы с регулярными выражениями.\n",
    "\n",
    "### Основные функции:\n",
    "\n",
    "- **`re.match(pattern, string)`**: Проверяет, соответствует ли начало строки шаблону.\n",
    "- **`re.search(pattern, string)`**: Ищет первое совпадение шаблона в строке.\n",
    "- **`re.findall(pattern, string)`**: Находит все совпадения шаблона в строке и возвращает их в виде списка.\n",
    "- **`re.sub(pattern, repl, string)`**: Заменяет все совпадения шаблона в строке на `repl`.\n",
    "\n",
    "### Пример использования:"
   ]
  },
  {
   "cell_type": "code",
   "execution_count": 1,
   "metadata": {},
   "outputs": [
    {
     "name": "stdout",
     "output_type": "stream",
     "text": [
      "Найдено: Python\n",
      "Гласные буквы: ['э', 'о', 'а', 'е', 'а', 'е', 'ы', 'я', 'ы', 'о', 'а', 'и', 'о', 'а', 'и', 'я']\n",
      "Изменённый текст: Python---это-замечательный-язык-программирования.\n"
     ]
    }
   ],
   "source": [
    "import re\n",
    "\n",
    "text = \"Python - это замечательный язык программирования.\"\n",
    "\n",
    "# Поиск слова \"Python\"\n",
    "match = re.search(r\"Python\", text)\n",
    "if match:\n",
    "    print(\"Найдено:\", match.group())\n",
    "\n",
    "# Поиск всех гласных букв\n",
    "vowels = re.findall(r\"[аеёиоуыэюя]\", text, re.IGNORECASE)\n",
    "print(\"Гласные буквы:\", vowels)\n",
    "\n",
    "# Замена всех пробелов на тире\n",
    "new_text = re.sub(r\"\\s\", \"-\", text)\n",
    "print(\"Изменённый текст:\", new_text)"
   ]
  },
  {
   "cell_type": "markdown",
   "metadata": {},
   "source": [
    "## 2.8. Модуль `itertools`\n",
    "\n",
    "Модуль `itertools` предоставляет различные итераторы для эффективного перебора данных.\n",
    "\n",
    "### Основные функции:\n",
    "\n",
    "- **`itertools.count(start=0, step=1)`**: Бесконечный итератор, возвращающий числа, начиная с `start`, с шагом `step`.\n",
    "- **`itertools.cycle(iterable)`**: Бесконечно повторяет элементы `iterable`.\n",
    "- **`itertools.repeat(object, times)`**: Повторяет объект `object` `times` раз.\n",
    "- **`itertools.permutations(iterable, r=None)`**: Возвращает все возможные перестановки элементов.\n",
    "- **`itertools.combinations(iterable, r)`**: Возвращает все возможные комбинации `r` элементов.\n",
    "\n",
    "### Пример использования:\n"
   ]
  },
  {
   "cell_type": "code",
   "execution_count": null,
   "metadata": {},
   "outputs": [],
   "source": [
    "import itertools\n",
    "\n",
    "# Перестановки\n",
    "for p in itertools.permutations([1, 2, 3]):\n",
    "    print(p)\n",
    "\n",
    "# Комбинации\n",
    "for c in itertools.combinations([1, 2, 3, 4], 2):\n",
    "    print(c)"
   ]
  },
  {
   "cell_type": "markdown",
   "metadata": {},
   "source": [
    "## 2.9. Модуль `statistics`\n",
    "\n",
    "Модуль `statistics` предоставляет функции для статистических вычислений с числовыми данными.\n",
    "\n",
    "### Основные функции:\n",
    "\n",
    "- **`statistics.mean(data)`**: Среднее арифметическое.\n",
    "- **`statistics.median(data)`**: Медиана данных.\n",
    "- **`statistics.mode(data)`**: Мода (наиболее часто встречающееся значение).\n",
    "- **`statistics.stdev(data)`**: Стандартное отклонение.\n",
    "\n",
    "### Пример использования:"
   ]
  },
  {
   "cell_type": "code",
   "execution_count": null,
   "metadata": {},
   "outputs": [],
   "source": [
    "import statistics\n",
    "\n",
    "data = [1, 2, 2, 3, 4]\n",
    "\n",
    "print(\"Среднее:\", statistics.mean(data))        # 2.4\n",
    "print(\"Медиана:\", statistics.median(data))      # 2\n",
    "print(\"Мода:\", statistics.mode(data))           # 2\n",
    "print(\"Стандартное отклонение:\", statistics.stdev(data))"
   ]
  },
  {
   "cell_type": "markdown",
   "metadata": {},
   "source": [
    "# Задания для закрепления материала"
   ]
  },
  {
   "cell_type": "markdown",
   "metadata": {},
   "source": [
    "Код пишется в ячейках где видите строчку \n",
    "\n",
    "```python\n",
    "#TODO\n",
    "```\n",
    "Сам комментарий удаляем и пишем решение"
   ]
  },
  {
   "cell_type": "markdown",
   "metadata": {},
   "source": [
    "## Задание 1: Анализ текстового файла\n",
    "\n",
    "- **Модуль**: `re`, `statistics`\n",
    "- **Описание**: Прочитайте текстовый файл `text.txt` и найдите частоту каждого слова. Выведите 5 самых часто встречающихся слов и их количество.\n",
    "- **Подсказка**: Используйте `re.findall()`, словари для подсчёта частот, `sorted()`. Текстовый файл с текстом создайте сами\n"
   ]
  },
  {
   "cell_type": "code",
   "execution_count": 20,
   "metadata": {},
   "outputs": [
    {
     "name": "stdout",
     "output_type": "stream",
     "text": [
      "the: 14 раз\n",
      "i: 13 раз\n",
      "to: 12 раз\n",
      "and: 12 раз\n",
      "my: 11 раз\n"
     ]
    }
   ],
   "source": [
    "import re\n",
    "\n",
    "file = open('text.txt','r')\n",
    "text = file.read()\n",
    "\n",
    "text = re.sub(r'[^\\w\\s]', '', text.lower()) \n",
    "words = set([word for word in text.split() if word])\n",
    "\n",
    "dic = {i: len(re.findall(f'{i} ',text)) for i in words}\n",
    "l = sorted(dic.items(),key = lambda item: item[1],reverse=True)\n",
    "\n",
    "for i in range(5):\n",
    "    print(f'{l[i][0]}: {l[i][1]} раз')\n",
    "\n"
   ]
  },
  {
   "cell_type": "markdown",
   "metadata": {},
   "source": [
    "## Задание 2: Создание резервной копии файлов\n",
    "\n",
    "- **Модуль**: `os`, `datetime`, `shutil`\n",
    "- **Описание**: Создайте резервную копию всех файлов из директории `source` в директорию `backup_YYYYMMDD_HHMMSS`, где `YYYYMMDD_HHMMSS` — текущая дата и время.\n",
    "- **Подсказка**: Используйте `os.listdir()`, `os.mkdir()`, `shutil.copy()`, `datetime.datetime.now()`."
   ]
  },
  {
   "cell_type": "code",
   "execution_count": null,
   "metadata": {},
   "outputs": [
    {
     "data": {
      "text/plain": [
       "'backup_20251005_225049'"
      ]
     },
     "execution_count": 134,
     "metadata": {},
     "output_type": "execute_result"
    }
   ],
   "source": [
    "import datetime as dt\n",
    "import shutil as sh\n",
    "\n",
    "dir = 'source'\n",
    "\n",
    "b = dt.datetime.now().strftime('%Y%m%d_%H%M%S')\n",
    "sh.copytree(dir,'backup_'+b)\n"
   ]
  },
  {
   "cell_type": "markdown",
   "metadata": {},
   "source": [
    "## Задание 3: Игра \"Кости\"\n",
    "\n",
    "- **Модуль**: `random`, `time`\n",
    "- **Описание**: Создайте игру, в которой пользователь и компьютер бросают по два кубика (числа от 1 до 6). Побеждает тот, у кого сумма больше. Выведите результат игры.\n",
    "- **Подсказка**: Используйте `random.randint()`, условие `if`."
   ]
  },
  {
   "cell_type": "code",
   "execution_count": 55,
   "metadata": {},
   "outputs": [
    {
     "name": "stdout",
     "output_type": "stream",
     "text": [
      "Неизвестная команда\n",
      "Проигрыш!\n",
      "\tПК: 11 очков\n",
      "\tВы: 4 очков\n"
     ]
    }
   ],
   "source": [
    "from random import randint\n",
    "\n",
    "s = input('Введите s для старта или q для выхода')\n",
    "while (s!='q'):\n",
    "    if s!='s':\n",
    "        print('Неизвестная команда')\n",
    "    else:\n",
    "        pc = randint(1,6) + randint(1,6)\n",
    "        hum = randint(1,6) + randint(1,6)\n",
    "        if pc > hum: print(f'Проигрыш!\\n\\tПК: {pc} очков\\n\\tВы: {hum} очков')\n",
    "        elif pc == hum: print(f'Ничья!\\n\\tПК: {pc} очков\\n\\tВы: {hum} очков')\n",
    "        else: print(f'Победа!\\n\\tПК: {pc} очков\\n\\tВы: {hum} очков')\n",
    "    s = input('Введите s для старта или q для выхода')\n"
   ]
  },
  {
   "cell_type": "markdown",
   "metadata": {},
   "source": [
    "## Задание 4: Таймер с точностью до миллисекунд\n",
    "\n",
    "- **Модуль**: `time`\n",
    "- **Описание**: Создайте таймер, который замеряет время выполнения блока кода (на ваше усмотрение) и выводит результат в миллисекундах.\n",
    "- **Подсказка**: Используйте `time.perf_counter()`."
   ]
  },
  {
   "cell_type": "code",
   "execution_count": 56,
   "metadata": {},
   "outputs": [
    {
     "name": "stdout",
     "output_type": "stream",
     "text": [
      "Время выполнения программы: 5000 мс\n"
     ]
    }
   ],
   "source": [
    "from time import perf_counter, sleep\n",
    "st = perf_counter()\n",
    "sleep(5)\n",
    "print(f'Время выполнения программы: {int((perf_counter()-st)*1000)} мс')"
   ]
  },
  {
   "cell_type": "markdown",
   "metadata": {},
   "source": [
    "## Задание 5: Генерация паролей с заданными условиями\n",
    "\n",
    "- **Модуль**: `random`, `string`\n",
    "- **Описание**: Сгенерируйте пароль длиной 12 символов, содержащий как минимум одну заглавную букву, одну строчную букву, одну цифру и один специальный символ.\n",
    "- **Подсказка**: Используйте `random.choice()`, циклы, условия."
   ]
  },
  {
   "cell_type": "code",
   "execution_count": 57,
   "metadata": {},
   "outputs": [
    {
     "name": "stdout",
     "output_type": "stream",
     "text": [
      "2HZjI3SqQlk№\n",
      "12\n"
     ]
    }
   ],
   "source": [
    "\n",
    "import random as rd\n",
    "\n",
    "w = 'qwertyuiopasdfghjklzxcvbnm'\n",
    "w_u = w.upper()\n",
    "n = '0123456789'\n",
    "s = r'/?.,><\";:\\|=+-_)([]}{*&^%$#№@!`~})' + r\"'\"\n",
    "\n",
    "i = randint(1,12-3)\n",
    "j = randint(1,12-2-i)\n",
    "k = randint(1,12-1-i-j)\n",
    "z = 12-i-j-k\n",
    "pas = [rd.choice(w) for _ in range(i)]\n",
    "pas+=[rd.choice(w_u) for _ in range(j)]\n",
    "pas+=[rd.choice(n) for _ in range(k)]\n",
    "pas+=[rd.choice(s) for _ in range(z)]\n",
    "\n",
    "rd.shuffle(pas)\n",
    "password = ''.join(pas)\n",
    "print(password)\n",
    "print(len(password))\n",
    "\n"
   ]
  },
  {
   "cell_type": "markdown",
   "metadata": {},
   "source": [
    "## Задание 6: Сортировка файлов по размеру\n",
    "\n",
    "- **Модуль**: `os`\n",
    "- **Описание**: Выведите список файлов в текущей директории, отсортированный по размеру файла (от большего к меньшему).\n",
    "- **Подсказка**: Используйте `os.listdir()`, `os.path.getsize()`, `sorted()`."
   ]
  },
  {
   "cell_type": "code",
   "execution_count": null,
   "metadata": {},
   "outputs": [
    {
     "name": "stdout",
     "output_type": "stream",
     "text": [
      "proger.gif: 1623152 бит\n",
      ".venv\\bin\\python.exe: 102480 бит\n",
      ".venv\\bin\\python3.10.exe: 102480 бит\n",
      ".venv\\bin\\python3.exe: 102480 бит\n",
      ".venv\\bin\\python3w.exe: 100944 бит\n",
      ".venv\\bin\\pythonw.exe: 100944 бит\n",
      "python_course_les2_продвинутый.ipynb: 80557 бит\n",
      "python_course_les2_базовый.ipynb: 71894 бит\n",
      "python_course_les1.ipynb: 57201 бит\n",
      "python_course_les5_basic.ipynb: 50917 бит\n",
      "python_course_les5_advanced.ipynb: 48639 бит\n",
      "python_course_les3_продвинутый.ipynb: 44080 бит\n",
      "python_course_les4_basic.ipynb: 42733 бит\n",
      "python_course_les3_базовый.ipynb: 37833 бит\n",
      "python_course_les4_advanced_1.ipynb: 35684 бит\n",
      "python_course_les6_advanced.ipynb: 35214 бит\n",
      "python_course_les6_basic.ipynb: 34387 бит\n",
      ".git\\objects\\cc\\98770b57608fa237d35b4544979ef784ad1ebd: 19958 бит\n",
      ".git\\objects\\29\\7cc8704b8191a0ee226bec6e13dc4b50d3643a: 17243 бит\n",
      ".git\\objects\\fb\\dd94006bea40c18140f29139b6c98fbc169dfd: 13969 бит\n",
      ".git\\objects\\e9\\09398d82aee79e221204868c6a24330f3fd2bf: 13903 бит\n",
      ".git\\objects\\0a\\c3d96d15771cf71f1ca6f282ea5c2f5f004bb9: 11912 бит\n",
      ".git\\objects\\4f\\05ea2e313393a3cd45d48a76293081b1683946: 11740 бит\n",
      ".git\\objects\\c6\\de84d1c9044bc0ef6ec3f4b7ee719239955eb1: 11739 бит\n",
      ".git\\objects\\33\\028d9d5ae7ae11bfcd21396803b1d4eb7ee73a: 10092 бит\n",
      ".git\\objects\\d0\\6b4151b1ffc3d1a5053e625c057f26e4b18716: 9917 бит\n",
      ".venv\\bin\\Activate.ps1: 9033 бит\n",
      ".git\\objects\\a5\\2fa6c52219460098ddeeda5bc5d8d0df98b141: 8984 бит\n",
      ".git\\objects\\a0\\6d591c1343359546b513510d31edc7f650b4d3: 8529 бит\n",
      ".git\\objects\\4c\\03411c64191800fa38a342d35abe4adeb00367: 8376 бит\n",
      ".git\\objects\\e1\\4757779d601696852f58755466e79b629a4dec: 8002 бит\n",
      ".git\\objects\\4f\\f525832091719d91914468a4e53aaac7b56cec: 7148 бит\n",
      ".git\\hooks\\pre-rebase.sample: 4898 бит\n",
      ".git\\hooks\\fsmonitor-watchman.sample: 4726 бит\n",
      ".git\\hooks\\update.sample: 3650 бит\n",
      ".git\\hooks\\push-to-checkout.sample: 2783 бит\n",
      ".git\\hooks\\sendemail-validate.sample: 2308 бит\n",
      ".venv\\bin\\activate: 2018 бит\n",
      ".git\\hooks\\pre-commit.sample: 1649 бит\n",
      ".git\\hooks\\prepare-commit-msg.sample: 1492 бит\n",
      ".git\\hooks\\pre-push.sample: 1374 бит\n",
      ".git\\index: 1302 бит\n",
      "text.txt: 1299 бит\n",
      "README.md: 984 бит\n",
      ".git\\logs\\HEAD: 960 бит\n",
      ".git\\logs\\refs\\heads\\main: 960 бит\n",
      ".git\\hooks\\commit-msg.sample: 896 бит\n",
      ".git\\logs\\refs\\remotes\\origin\\main: 863 бит\n",
      ".git\\objects\\2c\\acf1a5f3ed288797c67b9cb5b975db264a19e6: 819 бит\n",
      ".git\\objects\\c5\\81493b4597f34c9a1926293034d8945e20dbf6: 817 бит\n",
      ".git\\hooks\\pre-receive.sample: 544 бит\n",
      ".git\\hooks\\applypatch-msg.sample: 478 бит\n",
      ".git\\objects\\52\\3c395cc93da8f5974974392b07b8f5f9727a5b: 454 бит\n",
      ".git\\objects\\0c\\a251ebb01d0f0c2837a3693d89e1887a4d9a2f: 453 бит\n",
      ".git\\hooks\\pre-applypatch.sample: 424 бит\n",
      ".git\\objects\\00\\eb1b81805f5d04b9b84988d4847f489d5212bf: 419 бит\n",
      ".git\\hooks\\pre-merge-commit.sample: 416 бит\n",
      ".git\\objects\\0e\\40efeffb650a0ed4862b0c5589751edf3ab34d: 354 бит\n",
      ".git\\config: 297 бит\n",
      ".git\\objects\\2b\\83ec5ca07765dd096c77d140ad024668790f88: 282 бит\n",
      ".git\\objects\\f5\\9aadb6aa0857ea44f71153351da27e36e0640f: 282 бит\n",
      ".git\\objects\\46\\dde6acb12f18be842303affc48f00a5dbdbb91: 249 бит\n",
      ".git\\info\\exclude: 240 бит\n",
      ".git\\objects\\0e\\fb3974f4c634ca489cbe732f3e612744adf942: 220 бит\n",
      ".git\\objects\\6a\\a12adea54dfb332caf029ac73c864bd64108f1: 216 бит\n",
      ".git\\objects\\20\\2df3308686030cb785d9a3361cee9c845d0c5c: 190 бит\n",
      ".git\\hooks\\post-update.sample: 189 бит\n",
      ".git\\objects\\a2\\3856bdc931c9d62daf09acc883519bbf80087c: 170 бит\n",
      ".git\\objects\\dc\\6e0df218a07b09e82bf0d6845fbbad6ed117f2: 170 бит\n",
      ".git\\objects\\ef\\3a129685ce6762666870e3346656a5004ef9ed: 167 бит\n",
      ".git\\objects\\04\\7c75c738f73bc26a57a29bc13bb9e4c2629b93: 166 бит\n",
      ".git\\objects\\a8\\759879fccc9ff9a47fc38e33c5b6d24f8e4815: 152 бит\n",
      ".git\\objects\\1b\\efad87a9b61b89876411d5bf4543d238014d08: 102 бит\n",
      ".venv\\pyvenv.cfg: 97 бит\n",
      ".git\\FETCH_HEAD: 94 бит\n",
      ".git\\description: 73 бит\n",
      ".gitignore: 52 бит\n",
      ".git\\objects\\02\\52e546f924932621db6a47a3158b428c2f8b67: 42 бит\n",
      ".git\\ORIG_HEAD: 41 бит\n",
      ".git\\refs\\heads\\main: 41 бит\n",
      ".git\\refs\\remotes\\origin\\main: 41 бит\n",
      ".git\\objects\\62\\e6c475d18a5e2b48363e4fc093c11e612f0668: 36 бит\n",
      ".git\\HEAD: 21 бит\n",
      ".git\\objects\\e6\\9de29bb2d1d6434b8b29ae775ad8c2e48c5391: 15 бит\n",
      ".git\\COMMIT_EDITMSG: 12 бит\n",
      "backup_20251005_225049\\t2.py: 12 бит\n",
      "source\\t2.py: 12 бит\n",
      "backup_20251005_225049\\t1.txt: 3 бит\n",
      "source\\t1.txt: 3 бит\n",
      ".venv\\.gitignore: 1 бит\n",
      "test1.txt: 0 бит\n",
      "test2.txt: 0 бит\n",
      "backup_20251005_225049\\data2025.txt: 0 бит\n",
      "backup_20251005_225049\\data_12.txt: 0 бит\n",
      "backup_20251005_225049\\data_2025.txt: 0 бит\n",
      "backup_20251005_225049\\data_2025_09_10.txt: 0 бит\n",
      "backup_20251005_225049\\t3.c: 0 бит\n",
      "source\\data2025.txt: 0 бит\n",
      "source\\data_12.txt: 0 бит\n",
      "source\\data_2025.txt: 0 бит\n",
      "source\\data_2025_09_10.txt: 0 бит\n",
      "source\\t3.c: 0 бит\n",
      "backup_20251005_225049\\test\\data_12.txt: 0 бит\n",
      "backup_20251005_225049\\test\\data_2021.txt: 0 бит\n",
      "backup_20251005_225049\\test\\data_2021_12_12.txt: 0 бит\n",
      "source\\test\\data_12.txt: 0 бит\n",
      "source\\test\\data_2021.txt: 0 бит\n",
      "source\\test\\data_2021_12_12.txt: 0 бит\n"
     ]
    }
   ],
   "source": [
    "import os\n",
    "\n",
    "def find_all_files():\n",
    "    f = os.listdir()\n",
    "    files = []\n",
    "\n",
    "    for i in f:\n",
    "        if os.path.isfile(i): files.append(str(i))\n",
    "        else:\n",
    "            f+= [ i + '\\\\' + j for j in os.listdir(i)]\n",
    "    return files\n",
    "\n",
    "\n",
    "#f = os.listdir()\n",
    "f = find_all_files()\n",
    "l = {i: os.path.getsize(i) for i in f}\n",
    "\n",
    "l = sorted(l.items(),key = lambda item: item[1],reverse=True)\n",
    "for i in l:\n",
    "    print(f'{i[0]}: {i[1]} байт')\n"
   ]
  },
  {
   "cell_type": "markdown",
   "metadata": {},
   "source": [
    "## Задание 7: Поиск файлов по регулярному выражению\n",
    "\n",
    "- **Модуль**: `os`, `re`\n",
    "- **Описание**: В указанной пользователем директории найдите все файлы, имена которых соответствуют шаблону `data_YYYY.txt`, где `YYYY` — год.\n",
    "- **Подсказка**: Используйте `os.listdir()`, `re.match()`."
   ]
  },
  {
   "cell_type": "code",
   "execution_count": 139,
   "metadata": {},
   "outputs": [
    {
     "name": "stdout",
     "output_type": "stream",
     "text": [
      "Все файлы в директории source\\:\n",
      "data2025.txt\n",
      "data_12.txt\n",
      "data_2025.txt\n",
      "data_2025_09_10.txt\n",
      "t1.txt\n",
      "t2.py\n",
      "t3.c\n",
      "test\\data_12.txt\n",
      "test\\data_2021.txt\n",
      "test\\data_2021_12_12.txt\n",
      "---------------------------------\n",
      "Файлы удовлетворяющие условию data_YYYY.txt:\n",
      "data_2025.txt\n",
      "test\\data_2021.txt\n"
     ]
    }
   ],
   "source": [
    "import os, re\n",
    "\n",
    "def find_all_files(dir = os.getcwd()+'\\\\'):\n",
    "    f = os.listdir(dir)\n",
    "    files = []\n",
    "\n",
    "    for i in f:\n",
    "\n",
    "        if os.path.isfile(dir + i): files.append(str(i))\n",
    "        else:\n",
    "           f+= [ i + '\\\\' + j for j in os.listdir(dir + i)]\n",
    "    return files\n",
    "\n",
    "dir = 'source\\\\'\n",
    "\n",
    "f = find_all_files(dir)\n",
    "print(f'Все файлы в директории {dir}:')\n",
    "print(*f, sep = '\\n')\n",
    "files = []\n",
    "for i in f:\n",
    "    if re.match('.*data_[0-9]{4}.txt$',i): files.append(i)\n",
    "print('---------------------------------')\n",
    "print('Файлы удовлетворяющие условию data_YYYY.txt:')\n",
    "print(*files, sep = '\\n')"
   ]
  },
  {
   "cell_type": "markdown",
   "metadata": {},
   "source": [
    "## Задание 8: Вывод календаря на месяц\n",
    "\n",
    "- **Модуль**: `calendar`, `datetime`\n",
    "- **Описание**: Запросите у пользователя месяц и год, затем выведите календарь на этот месяц.\n",
    "- **Подсказка**: Используйте `calendar.month()`, `print()`."
   ]
  },
  {
   "cell_type": "code",
   "execution_count": 10,
   "metadata": {},
   "outputs": [
    {
     "name": "stdout",
     "output_type": "stream",
     "text": [
      "    October 2025\n",
      "Mo Tu We Th Fr Sa Su\n",
      "       1  2  3  4  5\n",
      " 6  7  8  9 10 11 12\n",
      "13 14 15 16 17 18 19\n",
      "20 21 22 23 24 25 26\n",
      "27 28 29 30 31\n",
      "\n"
     ]
    }
   ],
   "source": [
    "from calendar import month\n",
    "\n",
    "months = ['январь','февраль','март','апрель','май','июнь','июль','август','сентябрь','октябрь','ноябрь','декабрь']\n",
    "y=''\n",
    "flag = 1\n",
    "while flag:\n",
    "    y = input('Ввевдите год')\n",
    "    if (y.isdigit()):\n",
    "        y = int(y)\n",
    "        flag = 0\n",
    "    else: \n",
    "        print('Неверные вход')\n",
    "m=''\n",
    "flag = 1\n",
    "while flag:\n",
    "    m = input('Ввевдите месяц').lower()\n",
    "    if m in months:\n",
    "        m  = months.index(m)+1\n",
    "        flag = 0\n",
    "    elif m.isdigit():\n",
    "        m = int(m)\n",
    "        if 1<=m<=12: flag = 0\n",
    "    if flag == 1: print('Неверные вход')\n",
    "\n",
    "a = month(y,m)\n",
    "\n",
    "print(a)\n"
   ]
  },
  {
   "cell_type": "markdown",
   "metadata": {},
   "source": [
    "## Задание 9: Время\n",
    "\n",
    "- **Модуль**: `datetime`, `time`\n",
    "- **Описание**: Создайте программу, которая каждую минуту выводит текущее время в формате `HH:MM:SS`.\n",
    "- **Подсказка**: Используйте цикл `while`, `time.sleep(60)`."
   ]
  },
  {
   "cell_type": "code",
   "execution_count": 1,
   "metadata": {},
   "outputs": [
    {
     "name": "stdout",
     "output_type": "stream",
     "text": [
      "15:44:29\n",
      "15:45:29\n",
      "15:46:29\n",
      "15:47:29\n",
      "15:48:29\n"
     ]
    }
   ],
   "source": [
    "import datetime as dt\n",
    "import time\n",
    "i = 0\n",
    "t = 5\n",
    "while (i < t):\n",
    "    time.sleep(60)\n",
    "    date = dt.datetime.now()\n",
    "    date = dt.datetime.strftime(date, '%H:%M:%S')\n",
    "    print(date)\n",
    "    i+=1\n",
    "    \n"
   ]
  },
  {
   "cell_type": "markdown",
   "metadata": {},
   "source": [
    "## Задание 10: Генерация всех возможных комбинаций\n",
    "\n",
    "- **Модуль**: `itertools`\n",
    "- **Описание**: Для списка `[1, 2, 3, 4]` выведите все возможные перестановки длиной 2.\n",
    "- **Подсказка**: Используйте `itertools.permutations()`."
   ]
  },
  {
   "cell_type": "code",
   "execution_count": 2,
   "metadata": {},
   "outputs": [
    {
     "name": "stdout",
     "output_type": "stream",
     "text": [
      "(1, 2)\n",
      "(1, 3)\n",
      "(1, 4)\n",
      "(2, 1)\n",
      "(2, 3)\n",
      "(2, 4)\n",
      "(3, 1)\n",
      "(3, 2)\n",
      "(3, 4)\n",
      "(4, 1)\n",
      "(4, 2)\n",
      "(4, 3)\n"
     ]
    }
   ],
   "source": [
    "import itertools\n",
    "a = [1,2,3,4]\n",
    "for c in itertools.permutations(a, 2):\n",
    "    print(c)\n",
    "\n"
   ]
  },
  {
   "cell_type": "markdown",
   "metadata": {},
   "source": [
    "## Задание 11: Подсчёт частоты слов\n",
    "\n",
    "- **Модуль**: `re`, `collections`\n",
    "- **Описание**: Прочитайте текстовый файл и подсчитайте, сколько раз каждое слово встречается в тексте. Выведите 5 самых часто встречающихся слов.\n",
    "- **Подсказка**: Используйте `re.findall()` и `collections.Counter()`."
   ]
  },
  {
   "cell_type": "code",
   "execution_count": 19,
   "metadata": {},
   "outputs": [
    {
     "name": "stdout",
     "output_type": "stream",
     "text": [
      "the: 14 раз\n",
      "i: 13 раз\n",
      "to: 12 раз\n",
      "and: 12 раз\n",
      "my: 11 раз\n"
     ]
    }
   ],
   "source": [
    "import re\n",
    "import collections as col\n",
    "\n",
    "file = open('text.txt','r')\n",
    "text = file.read()\n",
    "\n",
    "text = re.sub(r'[^\\w\\s]', '', text.lower()) \n",
    "text = [word for word in text.split() if word]\n",
    "words = col.Counter(text)\n",
    "\n",
    "l = sorted(words.items(),key = lambda item: item[1],reverse=True)\n",
    "\n",
    "for i in range(5):\n",
    "    print(f'{l[i][0]}: {l[i][1]} раз')\n",
    "\n"
   ]
  },
  {
   "cell_type": "markdown",
   "metadata": {},
   "source": [
    "## Задание 12: Вывод таблицы синусов и косинусов\n",
    "\n",
    "- **Модуль**: `math`\n",
    "- **Описание**: Выведите таблицу значений синуса и косинуса для углов от 0 до 360 градусов с шагом 30 градусов.\n",
    "- **Подсказка**: Используйте цикл `for`, `math.radians()`, `math.sin()`, `math.cos()`."
   ]
  },
  {
   "cell_type": "code",
   "execution_count": 45,
   "metadata": {},
   "outputs": [
    {
     "name": "stdout",
     "output_type": "stream",
     "text": [
      "  x |  cos |  sin\n",
      " 0  | 1.000| 0.000\n",
      " 30 | 0.866| 0.500\n",
      " 60 | 0.500| 0.866\n",
      " 90 | 0.000| 1.000\n",
      "120 |-0.500| 0.866\n",
      "150 |-0.866| 0.500\n",
      "180 |-1.000| 0.000\n",
      "210 |-0.866|-0.500\n",
      "240 |-0.500|-0.866\n",
      "270 |-0.000|-1.000\n",
      "300 | 0.500|-0.866\n",
      "330 | 0.866|-0.500\n",
      "360 | 1.000|-0.000\n"
     ]
    }
   ],
   "source": [
    "import math\n",
    "# math.cos(math.radians(i))\n",
    "p = [[i for i in range(0,361,30)], [math.sin(math.radians(i)) for i in range(0,361,30)], [math.cos(math.radians(i)) for i in range(0,361,30)]]\n",
    "p = [ (i, math.cos(math.radians(i)), math.sin(math.radians(i)))  for i in range(0,361,30)]\n",
    "print('  x |  cos |  sin')\n",
    "for i in p:\n",
    "    print(f'{i[0]:^4d}|{i[1]: .3f}|{i[2]: .3f}')\n",
    "\n"
   ]
  },
  {
   "cell_type": "markdown",
   "metadata": {},
   "source": [
    "## Задание 13: Генерация всех возможных пар\n",
    "\n",
    "- **Модуль**: `itertools`\n",
    "- **Описание**: Даны списки `['A', 'B', 'C']` и `[1, 2, 3]`. Сгенерируйте и выведите все возможные пары (например, `('A', 1)`).\n",
    "- **Подсказка**: Используйте `itertools.product()`."
   ]
  },
  {
   "cell_type": "code",
   "execution_count": 26,
   "metadata": {},
   "outputs": [
    {
     "name": "stdout",
     "output_type": "stream",
     "text": [
      "('A', 1)\n",
      "('A', 2)\n",
      "('A', 3)\n",
      "('B', 1)\n",
      "('B', 2)\n",
      "('B', 3)\n",
      "('C', 1)\n",
      "('C', 2)\n",
      "('C', 3)\n"
     ]
    }
   ],
   "source": [
    "import itertools as it\n",
    "\n",
    "a = ['A', 'B', 'C']\n",
    "n = [1, 2 , 3]\n",
    "w = list(it.product(a, n))\n",
    "print(*w, sep = '\\n')"
   ]
  },
  {
   "cell_type": "markdown",
   "metadata": {},
   "source": [
    "## Задание 14: Создание списка уникальных слов\n",
    "\n",
    "- **Модуль**: `re`\n",
    "- **Описание**: Прочитайте текст из файла и создайте список всех уникальных слов в тексте.\n",
    "- **Подсказка**: Используйте `re.findall()`, множества. Текстовый файл с текстом создайте самостоятельно "
   ]
  },
  {
   "cell_type": "code",
   "execution_count": 20,
   "metadata": {},
   "outputs": [
    {
     "name": "stdout",
     "output_type": "stream",
     "text": [
      "on; swimming; ready; for; even; during; balance; family; sum; activity; \n",
      "fresh; to; of; were; spending; assignments; trip; camping; spend; in; \n",
      "summer; traveled; new; so; fun; resting; notes; we; excited; day; \n",
      "grateful; completing; cities; break; take; also; return; few; at; from; \n",
      "spent; outdoors; start; pool; national; school; several; addition; with; hours; \n",
      "variety; physical; air; would; parks; sure; wellprepared; road; be; first; \n",
      "relaxation; am; academic; it; a; welcome; decided; returned; upcoming; catch; \n",
      "reviewing; played; made; highlights; this; museums; visited; amusement; up; and; \n",
      "how; my; most; i; including; work; was; home; enjoy; time; \n",
      "that; went; some; year; friends; use; football; despite; attractions; have; \n",
      "the; one; all; productivity; going; behind; each; fallen; tourist; feeling; \n",
      "lot; opportunity; vacation; had; great; "
     ]
    }
   ],
   "source": [
    "import re\n",
    "\n",
    "file = open('text.txt','r')\n",
    "text = file.read()\n",
    "\n",
    "text = re.sub(r'[^\\w\\s]', '', text.lower()) \n",
    "text = [word for word in text.split() if word]\n",
    "words = set(text)\n",
    "k = 0\n",
    "for i in words:\n",
    "    print(i, end = '; ')\n",
    "    k+=1\n",
    "    if k % 10 == 0:\n",
    "        print() \n",
    "\n"
   ]
  },
  {
   "cell_type": "markdown",
   "metadata": {},
   "source": [
    "## Задание 15: Поиск файлов с определённым размером\n",
    "\n",
    "- **Модуль**: `os`\n",
    "- **Описание**: В текущей директории найдите все файлы размером более 1 МБ и выведите их имена и размеры.\n",
    "- **Подсказка**: Используйте `os.listdir()`, `os.path.getsize()`, условие `if`."
   ]
  },
  {
   "cell_type": "code",
   "execution_count": 31,
   "metadata": {},
   "outputs": [
    {
     "name": "stdout",
     "output_type": "stream",
     "text": [
      "proger.gif: 1.55 Мб\n"
     ]
    }
   ],
   "source": [
    "import os\n",
    "\n",
    "def find_all_files():\n",
    "    f = os.listdir()\n",
    "    files = []\n",
    "\n",
    "    for i in f:\n",
    "        if os.path.isfile(i): files.append(str(i))\n",
    "        else:\n",
    "            f+= [ i + '\\\\' + j for j in os.listdir(i)]\n",
    "    return files\n",
    "\n",
    "f = find_all_files()\n",
    "l = {i: os.path.getsize(i)/(1024**2) for i in f if (os.path.getsize(i)/(1024**2)) >= 1}\n",
    "\n",
    "l = sorted(l.items(),key = lambda item: item[1],reverse=True)\n",
    "for i in l:\n",
    "    print(f'{i[0]}: {i[1]:.2f} Мб')"
   ]
  },
  {
   "cell_type": "code",
   "execution_count": null,
   "metadata": {},
   "outputs": [],
   "source": []
  }
 ],
 "metadata": {
  "kernelspec": {
   "display_name": "Python 3",
   "language": "python",
   "name": "python3"
  },
  "language_info": {
   "codemirror_mode": {
    "name": "ipython",
    "version": 3
   },
   "file_extension": ".py",
   "mimetype": "text/x-python",
   "name": "python",
   "nbconvert_exporter": "python",
   "pygments_lexer": "ipython3",
   "version": "3.12.6"
  }
 },
 "nbformat": 4,
 "nbformat_minor": 2
}
