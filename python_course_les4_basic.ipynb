{
 "cells": [
  {
   "cell_type": "markdown",
   "metadata": {},
   "source": [
    "# Урок 4: Работа с модулем NumPy\n",
    "Добро пожаловать на четвёртый урок по программированию на Python! Сегодня мы познакомимсся с библиотекой **NumPy**.\n",
    "**NumPy** — это библиотека для языка Python, которая предоставляет удобные и быстрые способы работы с многомерными массивами и матрицами, а также содержит большое количество математических функций для работы с этими массивами. NumPy часто используется в научных вычислениях, анализе данных и машинном обучении."
   ]
  },
  {
   "cell_type": "markdown",
   "metadata": {},
   "source": [
    "# 1. Установка NumPy\n",
    "\n",
    "Для начала работы с NumPy необходимо установить его, если он ещё не установлен. Для этого используйте команду:"
   ]
  },
  {
   "cell_type": "code",
   "execution_count": 2,
   "metadata": {},
   "outputs": [
    {
     "name": "stdout",
     "output_type": "stream",
     "text": [
      "Defaulting to user installation because normal site-packages is not writeable\n",
      "Requirement already satisfied: numpy in c:\\users\\worker\\appdata\\roaming\\python\\python310\\site-packages (1.23.3)\n",
      "Note: you may need to restart the kernel to use updated packages.\n"
     ]
    },
    {
     "name": "stderr",
     "output_type": "stream",
     "text": [
      "\n",
      "[notice] A new release of pip is available: 24.0 -> 24.2\n",
      "[notice] To update, run: python.exe -m pip install --upgrade pip\n"
     ]
    }
   ],
   "source": [
    "%pip install numpy"
   ]
  },
  {
   "cell_type": "markdown",
   "metadata": {},
   "source": [
    "### После установки необходимо перезапустить ядро или просто закрыть-открыть VSCode."
   ]
  },
  {
   "cell_type": "markdown",
   "metadata": {},
   "source": [
    "# 2. Импорт библиотеки NumPy\n",
    "\n",
    "После установки можно импортировать NumPy в программу:"
   ]
  },
  {
   "cell_type": "code",
   "execution_count": 1,
   "metadata": {},
   "outputs": [],
   "source": [
    "import numpy as np"
   ]
  },
  {
   "cell_type": "markdown",
   "metadata": {},
   "source": [
    "Здесь `np` — это общепринятое сокращение, чтобы не писать длинное `numpy` в каждой строке кода."
   ]
  },
  {
   "cell_type": "markdown",
   "metadata": {},
   "source": [
    "# 3. Основные возможности и функции NumPy\n",
    "\n",
    "## 3.1. Основным объектом NumPy является **многомерный массив** — `ndarray` (n-dimensional array). Он отличается от стандартных списков Python тем, что:\n",
    "\n",
    "- Все элементы имеют **одинаковый тип данных** (обычно числа).\n",
    "- Он позволяет выполнять **векторные операции**, то есть операции над всеми элементами массива одновременно, что значительно ускоряет вычисления.\n",
    "## Пример создания массивов"
   ]
  },
  {
   "cell_type": "code",
   "execution_count": 2,
   "metadata": {},
   "outputs": [
    {
     "name": "stdout",
     "output_type": "stream",
     "text": [
      "[1 2 3 4 5]\n",
      "[[1 2 3]\n",
      " [4 5 6]]\n",
      "[4 5 6]\n"
     ]
    }
   ],
   "source": [
    "import numpy as np\n",
    "\n",
    "# Одномерный массив (из списка)\n",
    "arr1 = np.array([1, 2, 3, 4, 5])\n",
    "print(arr1)\n",
    "# Двумерный массив (матрица)\n",
    "arr2 = np.array([[1, 2, 3], [4, 5, 6]])\n",
    "print(arr2)\n",
    "# Из кортежа\n",
    "b = np.array((4, 5, 6))\n",
    "print(b)  # [4 5 6]\n",
    "\n",
    "\n"
   ]
  },
  {
   "cell_type": "markdown",
   "metadata": {},
   "source": [
    "## Важные функции для создания массивов:\n",
    "\n",
    "- **`np.zeros(shape, dtype=float)`**: Создаёт массив, заполненный нулями.\n",
    "\n",
    "  ```python\n",
    "  zeros_array = np.zeros((2, 3))\n",
    "  print(zeros_array)\n",
    "  # [[0. 0. 0.]\n",
    "  #  [0. 0. 0.]]\n",
    "  ```\n",
    "\n",
    "- **`np.ones(shape, dtype=float)`**: Создаёт массив, заполненный единицами.\n",
    "\n",
    "  ```python\n",
    "  ones_array = np.ones((3, 2))\n",
    "  print(ones_array)\n",
    "  # [[1. 1.]\n",
    "  #  [1. 1.]\n",
    "  #  [1. 1.]]\n",
    "  ```\n",
    "\n",
    "- **`np.full(shape, fill_value, dtype=None)`**: Создаёт массив, заполненный заданным значением.\n",
    "\n",
    "  ```python\n",
    "  full_array = np.full((2, 2), 7)\n",
    "  print(full_array)\n",
    "  # [[7 7]\n",
    "  #  [7 7]]\n",
    "  ```\n",
    "\n",
    "- **`np.eye(N, M=None, k=0, dtype=float)`**: Создаёт единичную матрицу (двумерный массив с единицами на главной диагонали).\n",
    "\n",
    "  ```python\n",
    "  identity_matrix = np.eye(3)\n",
    "  print(identity_matrix)\n",
    "  # [[1. 0. 0.]\n",
    "  #  [0. 1. 0.]\n",
    "  #  [0. 0. 1.]]\n",
    "  ```\n",
    "\n",
    "- **`np.arange(start, stop, step, dtype=None)`**: Аналогично встроенной функции `range()`, но возвращает массив.\n",
    "\n",
    "  ```python\n",
    "  arr = np.arange(0, 10, 2)\n",
    "  print(arr)  # [0 2 4 6 8]\n",
    "  ```\n",
    "\n",
    "- **`np.linspace(start, stop, num, endpoint=True, retstep=False, dtype=None)`**: Возвращает равномерно распределённые числа на заданном интервале.\n",
    "\n",
    "  ```python\n",
    "  linspace_arr = np.linspace(0, 1, 5)\n",
    "  print(linspace_arr)  # [0.   0.25 0.5  0.75 1.  ]\n",
    "  ```\n",
    "\n",
    "### Параметры функций\n",
    "\n",
    "- **`shape`**: Кортеж или список, определяющий размерность массива.\n",
    "- **`dtype`**: Тип данных элементов массива (например, `int`, `float`, `complex`).\n",
    "- **`start`**: Начальное значение последовательности.\n",
    "- **`stop`**: Конечное значение последовательности (в `arange` не включается, в `linspace` по умолчанию включается).\n",
    "- **`step`**: Шаг последовательности.\n",
    "### Пример:"
   ]
  },
  {
   "cell_type": "code",
   "execution_count": 51,
   "metadata": {},
   "outputs": [
    {
     "name": "stdout",
     "output_type": "stream",
     "text": [
      "[[0. 0. 0.]\n",
      " [0. 0. 0.]\n",
      " [0. 0. 0.]]\n",
      "[[1. 1. 1. 1.]\n",
      " [1. 1. 1. 1.]]\n",
      "[0 2 4 6 8]\n",
      "[0.   0.25 0.5  0.75 1.  ]\n"
     ]
    }
   ],
   "source": [
    "import numpy as np\n",
    "\n",
    "zeros_arr = np.zeros((3, 3))  # Массив из нулей 3x3\n",
    "ones_arr = np.ones((2, 4))    # Массив из единиц 2x4\n",
    "range_arr = np.arange(0, 10, 2)  # Чётные числа от 0 до 10\n",
    "linspace_arr = np.linspace(0, 1, 5)  # 5 значений от 0 до 1\n",
    "\n",
    "print(zeros_arr)\n",
    "print(ones_arr)\n",
    "print(range_arr)\n",
    "print(linspace_arr)"
   ]
  },
  {
   "cell_type": "markdown",
   "metadata": {},
   "source": [
    "## Типы данных в NumPy\n",
    "\n",
    "NumPy поддерживает различные типы данных:\n",
    "\n",
    "- **`int`**: Целые числа (`int8`, `int16`, `int32`, `int64`).\n",
    "- **`float`**: Числа с плавающей точкой (`float16`, `float32`, `float64`).\n",
    "- **`complex`**: Комплексные числа (`complex64`, `complex128`).\n",
    "- **`bool`**: Логический тип данных (`True` или `False`).\n",
    "- **`string`** и **`unicode`**: Строковые типы данных.\n",
    "\n",
    "### Задание типа данных\n",
    "\n",
    "При создании массива можно явно указать тип данных с помощью параметра `dtype`:"
   ]
  },
  {
   "cell_type": "code",
   "execution_count": null,
   "metadata": {},
   "outputs": [],
   "source": [
    "arr = np.array([1, 2, 3], dtype=np.float32)\n",
    "print(arr.dtype)  # float32"
   ]
  },
  {
   "cell_type": "markdown",
   "metadata": {},
   "source": [
    "## 3.2. Индексация и срезы\n",
    "\n",
    "NumPy позволяет легко получать доступ к элементам массива или его частям с помощью индексации и срезов.\n",
    "\n",
    "### Пример индексации:"
   ]
  },
  {
   "cell_type": "code",
   "execution_count": null,
   "metadata": {},
   "outputs": [],
   "source": [
    "arr = np.array([10, 20, 30, 40, 50])\n",
    "\n",
    "# Получение элемента по индексу\n",
    "print(arr[0])  # 10\n",
    "print(arr[3])  # 40"
   ]
  },
  {
   "cell_type": "markdown",
   "metadata": {},
   "source": [
    "### Пример срезов:"
   ]
  },
  {
   "cell_type": "code",
   "execution_count": null,
   "metadata": {},
   "outputs": [],
   "source": [
    "arr = np.array([1, 2, 3, 4, 5, 6, 7])\n",
    "\n",
    "# Получаем элементы с 2-го по 4-й (индексы 1, 2, 3)\n",
    "print(arr[1:4])  # [2, 3, 4]\n",
    "\n",
    "# Получаем элементы с 3-го до конца\n",
    "print(arr[2:])  # [3, 4, 5, 6, 7]"
   ]
  },
  {
   "cell_type": "markdown",
   "metadata": {},
   "source": [
    "### Логическая индексация\n",
    "\n",
    "Можно использовать логические условия для выборки элементов массива."
   ]
  },
  {
   "cell_type": "code",
   "execution_count": null,
   "metadata": {},
   "outputs": [],
   "source": [
    "arr = np.array([1, 2, 3, 4, 5])\n",
    "\n",
    "# Выбрать элементы больше 3\n",
    "condition = arr > 3\n",
    "print(condition)   # [False False False  True  True]\n",
    "print(arr[condition])  # [4 5]"
   ]
  },
  {
   "cell_type": "markdown",
   "metadata": {},
   "source": [
    "## 3.3. Изменение формы массива\n",
    "\n",
    "\n",
    "### Функция `reshape()`\n",
    "\n",
    "Метод **`reshape()`** позволяет изменить форму массива без изменения его данных.\n",
    "\n",
    "```python\n",
    "arr = np.arange(6)\n",
    "print(arr)  # [0 1 2 3 4 5]\n",
    "\n",
    "reshaped_arr = arr.reshape((2, 3))\n",
    "print(reshaped_arr)\n",
    "# [[0 1 2]\n",
    "#  [3 4 5]]\n",
    "```\n",
    "\n",
    "### Параметры функции `reshape()`\n",
    "\n",
    "- **`newshape`**: Новая форма массива, заданная кортежем. Произведение размеров должно совпадать с числом элементов в массиве.\n",
    "\n",
    "### Пример:"
   ]
  },
  {
   "cell_type": "code",
   "execution_count": null,
   "metadata": {},
   "outputs": [],
   "source": [
    "arr = np.array([1, 2, 3, 4, 5, 6])\n",
    "\n",
    "# Превращаем одномерный массив в двумерный массив 2x3\n",
    "reshaped_arr = arr.reshape(2, 3)\n",
    "\n",
    "print(reshaped_arr)"
   ]
  },
  {
   "cell_type": "markdown",
   "metadata": {},
   "source": [
    "## 3.4. Математические операции\n",
    "\n",
    "NumPy поддерживает арифметические операции над массивами поэлементно.\n"
   ]
  },
  {
   "cell_type": "code",
   "execution_count": null,
   "metadata": {},
   "outputs": [],
   "source": [
    "arr1 = np.array([1, 2, 3])\n",
    "arr2 = np.array([4, 5, 6])\n",
    "\n",
    "# Сложение массивов\n",
    "print(arr1 + arr2)  # [5 7 9]\n",
    "\n",
    "# Умножение массива на число\n",
    "print(arr1 * 2)  # [2 4 6]\n",
    "\n",
    "# Возведение массива в степень\n",
    "print(arr1 ** 2)  # [1 4 9]"
   ]
  },
  {
   "cell_type": "markdown",
   "metadata": {},
   "source": [
    "### Универсальные функции (ufunc)\n",
    "\n",
    "NumPy предоставляет большое количество математических функций, применяемых поэлементно.\n",
    "\n",
    "\n",
    "\n",
    "### Параметры функций\n",
    "\n",
    "- **`np.sin(x)`**: Синус каждого элемента массива `x`.\n",
    "- **`np.cos(x)`**: Косинус каждого элемента массива `x`.\n",
    "- **`np.exp(x)`**: Экспонента каждого элемента массива `x`.\n",
    "- **`np.sqrt(x)`**: Квадратный корень каждого элемента массива `x`.\n",
    "- **`np.log(x)`**: Натуральный логарифм каждого элемента массива `x`."
   ]
  },
  {
   "cell_type": "code",
   "execution_count": null,
   "metadata": {},
   "outputs": [],
   "source": [
    "arr = np.array([0, np.pi / 2, np.pi])\n",
    "\n",
    "print(np.sin(arr))  # [0.000000e+00 1.000000e+00 1.224646e-16]\n",
    "print(np.cos(arr))  # [ 1.000000e+00  6.123234e-17 -1.000000e+00]\n",
    "print(np.exp(arr))  # [ 1.          4.81047738 23.14069263]"
   ]
  },
  {
   "cell_type": "markdown",
   "metadata": {},
   "source": [
    "## 3.5. Операции с матрицами\n",
    "\n",
    "NumPy предоставляет функции для выполнения матричных операций.\n",
    "\n",
    "### Пример умножения матриц:"
   ]
  },
  {
   "cell_type": "code",
   "execution_count": null,
   "metadata": {},
   "outputs": [],
   "source": [
    "A = np.array([[1, 2], [3, 4]])\n",
    "B = np.array([[5, 6], [7, 8]])\n",
    "\n",
    "# Матричное умножение\n",
    "C = np.dot(A, B)\n",
    "print(C)"
   ]
  },
  {
   "cell_type": "markdown",
   "metadata": {},
   "source": [
    "## 3.6. Статистические функции\n",
    "\n",
    "NumPy содержит много встроенных статистических функций.\n",
    "\n",
    "\n",
    "### Основные функции\n",
    "\n",
    "- **`np.min(a, axis=None)`**: Минимальное значение массива `a`.\n",
    "- **`np.max(a, axis=None)`**: Максимальное значение массива `a`.\n",
    "- **`np.mean(a, axis=None)`**: Среднее значение элементов массива `a`.\n",
    "- **`np.median(a, axis=None)`**: Медиана элементов массива `a`.\n",
    "- **`np.std(a, axis=None)`**: Стандартное отклонение элементов массива `a`.\n",
    "- **`np.var(a, axis=None)`**: Дисперсия элементов массива `a`.\n",
    "- **`np.sum(a, axis=None)`**: Сумма элементов массива `a`.\n",
    "\n"
   ]
  },
  {
   "cell_type": "markdown",
   "metadata": {},
   "source": [
    "### Параметр `axis`\n",
    "\n",
    "- **`axis=0`**: Операция выполняется по столбцам.\n",
    "- **`axis=1`**: Операция выполняется по строкам.\n",
    "### Пример:"
   ]
  },
  {
   "cell_type": "code",
   "execution_count": null,
   "metadata": {},
   "outputs": [],
   "source": [
    "arr = np.array([1, 2, 3, 4, 5])\n",
    "\n",
    "# Среднее значение\n",
    "print(np.mean(arr))  # 3.0\n",
    "\n",
    "# Стандартное отклонение\n",
    "print(np.std(arr))  # 1.414\n",
    "\n",
    "# Максимум и минимум\n",
    "print(np.max(arr))  # 5\n",
    "print(np.min(arr))  # 1\n",
    "\n",
    "\n",
    "arr1 = np.array([[1, 2], [3, 4]])\n",
    "print(np.sum(arr1, axis=0))  # [4 6]\n",
    "print(np.sum(arr1, axis=1))  # [3 7]"
   ]
  },
  {
   "cell_type": "markdown",
   "metadata": {},
   "source": [
    "## 3.7. Генерация случайных чисел\n",
    "\n",
    "\n",
    "- **`np.random.rand(d0, d1, ..., dn)`**: Генерирует массив заданной формы, заполненный случайными числами из равномерного распределения на интервале [0, 1).\n",
    "\n",
    "```python\n",
    "random_arr = np.random.rand(3, 2)\n",
    "print(random_arr)\n",
    "```\n",
    "\n",
    "- **`np.random.randn(d0, d1, ..., dn)`**: Генерирует массив заданной формы, заполненный случайными числами из стандартного нормального распределения.\n",
    "\n",
    "```python\n",
    "normal_arr = np.random.randn(3, 3)\n",
    "print(normal_arr)\n",
    "```\n",
    "\n",
    "- **`np.random.randint(low, high=None, size=None, dtype=int)`**: Возвращает случайные целые числа из заданного интервала.\n",
    "\n",
    "```python\n",
    "int_arr = np.random.randint(1, 10, size=(2, 2))\n",
    "print(int_arr)\n",
    "```\n",
    "\n",
    "### Параметры функций\n",
    "\n",
    "- **`low`**: Нижняя граница (включительно).\n",
    "- **`high`**: Верхняя граница (исключительно).\n",
    "- **`size`**: Размер выходного массива.\n",
    "- **`d0, d1, ..., dn`**: Размерности выходного массива.\n",
    "\n",
    "### Пример:"
   ]
  },
  {
   "cell_type": "code",
   "execution_count": 3,
   "metadata": {},
   "outputs": [
    {
     "name": "stdout",
     "output_type": "stream",
     "text": [
      "[[0.70955173 0.56753979 0.07881106]\n",
      " [0.221642   0.93480598 0.70655663]\n",
      " [0.79121971 0.40487305 0.97785112]]\n",
      "[[4 8 7]\n",
      " [8 6 2]]\n",
      "[[-0.57141165  1.6980575   0.58449901]\n",
      " [ 0.38504758  0.40432412  0.93357419]\n",
      " [ 0.73086272  0.61757235 -0.58753044]]\n"
     ]
    }
   ],
   "source": [
    "random_arr = np.random.rand(3, 3)\n",
    "print(random_arr)\n",
    "\n",
    "random_int_arr = np.random.randint(1, 10, size=(2, 3))\n",
    "print(random_int_arr)\n",
    "\n",
    "normal_arr = np.random.randn(3, 3)\n",
    "print(normal_arr)"
   ]
  },
  {
   "cell_type": "markdown",
   "metadata": {},
   "source": [
    "## Линейная алгебра\n",
    "\n",
    "NumPy содержит модуль `numpy.linalg` для выполнения операций линейной алгебры.\n",
    "\n",
    "\n",
    "### Основные функции\n",
    "\n",
    "\n",
    "- **`np.dot(a, b)`**: Матричное умножение массивов `a` и `b`."
   ]
  },
  {
   "cell_type": "code",
   "execution_count": null,
   "metadata": {},
   "outputs": [],
   "source": [
    "a = np.array([[1, 2], [3, 4]])\n",
    "b = np.array([[5, 6], [7, 8]])\n",
    "  \n",
    "print(np.dot(a, b))\n",
    "# [[19 22]\n",
    "#  [43 50]]"
   ]
  },
  {
   "cell_type": "markdown",
   "metadata": {},
   "source": [
    "- **`np.transpose(a)`** или `a.T`: Транспонирование массива `a`."
   ]
  },
  {
   "cell_type": "code",
   "execution_count": null,
   "metadata": {},
   "outputs": [],
   "source": [
    "print(a.T)\n",
    "# [[1 3]\n",
    "#  [2 4]]"
   ]
  },
  {
   "cell_type": "markdown",
   "metadata": {},
   "source": [
    "- **`np.linalg.inv(a)`**: Обратная матрица для массива `a`."
   ]
  },
  {
   "cell_type": "code",
   "execution_count": null,
   "metadata": {},
   "outputs": [],
   "source": [
    "inv_a = np.linalg.inv(a)\n",
    "print(inv_a)\n",
    "# [[-2.   1. ]\n",
    "#  [ 1.5 -0.5]]"
   ]
  },
  {
   "cell_type": "markdown",
   "metadata": {},
   "source": [
    "- **`np.linalg.det(a)`**: Детерминант массива `a`."
   ]
  },
  {
   "cell_type": "code",
   "execution_count": null,
   "metadata": {},
   "outputs": [],
   "source": [
    "\n",
    "det_a = np.linalg.det(a)\n",
    "print(det_a)  # -2.0000000000000004"
   ]
  },
  {
   "cell_type": "markdown",
   "metadata": {},
   "source": [
    "- **`np.linalg.eig(a)`**: Собственные значения и собственные векторы массива `a`."
   ]
  },
  {
   "cell_type": "code",
   "execution_count": 18,
   "metadata": {},
   "outputs": [
    {
     "name": "stdout",
     "output_type": "stream",
     "text": [
      "Собственные значения: [ 9.36722315 -0.70755601 -1.65966714]\n",
      "Собственные векторы: [[-0.64751489 -0.79726288 -0.42924834]\n",
      " [-0.48163609  0.57604544 -0.35142838]\n",
      " [-0.59055156 -0.18039833  0.83201199]]\n"
     ]
    }
   ],
   "source": [
    "eigenvalues, eigenvectors = np.linalg.eig(a)\n",
    "print(\"Собственные значения:\", eigenvalues)\n",
    "print(\"Собственные векторы:\", eigenvectors)"
   ]
  },
  {
   "cell_type": "markdown",
   "metadata": {},
   "source": [
    "#### Параметры функций\n",
    "\n",
    "- **`a`, `b`**: Входные массивы (матрицы).\n",
    "- **`axis`**: Ось, по которой выполняется операция."
   ]
  },
  {
   "cell_type": "markdown",
   "metadata": {},
   "source": [
    "# 4. Полезные функции и методы\n",
    "\n",
    "### Функция `np.where(condition, [x, y])`\n",
    "\n",
    "Возвращает элементы из `x`, где условие `condition` истинно, и элементы из `y` — где ложно."
   ]
  },
  {
   "cell_type": "code",
   "execution_count": null,
   "metadata": {},
   "outputs": [],
   "source": [
    "arr = np.array([1, 2, 3, 4, 5])\n",
    "\n",
    "result = np.where(arr > 3, arr, 0)\n",
    "print(result)  # [0 0 0 4 5]"
   ]
  },
  {
   "cell_type": "markdown",
   "metadata": {},
   "source": [
    "### Функция `np.concatenate((a1, a2, ...), axis=0)`\n",
    "\n",
    "Объединяет массивы вдоль указанной оси.\n"
   ]
  },
  {
   "cell_type": "code",
   "execution_count": null,
   "metadata": {},
   "outputs": [],
   "source": [
    "a = np.array([1, 2])\n",
    "b = np.array([3, 4])\n",
    "\n",
    "concat_arr = np.concatenate((a, b))\n",
    "print(concat_arr)  # [1 2 3 4]"
   ]
  },
  {
   "cell_type": "markdown",
   "metadata": {},
   "source": [
    "### Функция `np.unique(ar, return_counts=False)`\n",
    "\n",
    "Находит уникальные элементы массива.\n",
    "Если установить `return_counts=True`, то функция также вернёт количество вхождений каждого элемента."
   ]
  },
  {
   "cell_type": "code",
   "execution_count": null,
   "metadata": {},
   "outputs": [],
   "source": [
    "arr = np.array([1, 2, 2, 3, 3, 3])\n",
    "\n",
    "unique_elements = np.unique(arr)\n",
    "print(unique_elements)  # [1 2 3]"
   ]
  },
  {
   "cell_type": "markdown",
   "metadata": {},
   "source": [
    "### Функция `np.triu(m,k)`\n",
    "\n",
    "Функция numpy.triu (Triangle Upper) возвращает верхний треугольник двумерного массива или матрицы. Это означает, что она сохраняет элементы на главной диагонали и выше, а элементы ниже главной диагонали заменяет на нули (или на другое заданное значение).\n",
    "### Параметры\n",
    "\n",
    "- **`m`**: Входной массив или матрица, для которой нужно получить верхний треугольник.\n",
    "\n",
    "- **`k`**: - Диагональ, относительно которой определяется верхний треугольник.\n",
    "  - По умолчанию `k=0`, что означает главную диагональ.\n",
    "  - `k > 0`: диагональ выше главной.\n",
    "  - `k < 0`: диагональ ниже главной.\n"
   ]
  },
  {
   "cell_type": "code",
   "execution_count": 3,
   "metadata": {},
   "outputs": [
    {
     "name": "stdout",
     "output_type": "stream",
     "text": [
      "Оригинальная матрица:\n",
      "[[ 1  2  3  4]\n",
      " [ 5  6  7  8]\n",
      " [ 9 10 11 12]\n",
      " [13 14 15 16]]\n",
      "\n",
      "Верхний треугольник матрицы:\n",
      "[[ 1  2  3  4]\n",
      " [ 0  6  7  8]\n",
      " [ 0  0 11 12]\n",
      " [ 0  0  0 16]]\n"
     ]
    }
   ],
   "source": [
    "a = np.array([[1, 2, 3, 4],\n",
    "              [5, 6, 7, 8],\n",
    "              [9, 10, 11, 12],\n",
    "              [13, 14, 15, 16]])\n",
    "\n",
    "# Получаем верхний треугольник\n",
    "upper_triangle = np.triu(a)\n",
    "\n",
    "print(\"Оригинальная матрица:\")\n",
    "print(a)\n",
    "\n",
    "print(\"\\nВерхний треугольник матрицы:\")\n",
    "print(upper_triangle)"
   ]
  },
  {
   "cell_type": "markdown",
   "metadata": {},
   "source": [
    "\n",
    "- **Документация NumPy**: [https://numpy.org/doc/](https://numpy.org/doc/)"
   ]
  },
  {
   "cell_type": "markdown",
   "metadata": {},
   "source": [
    "# Задания для закрепления материала"
   ]
  },
  {
   "cell_type": "markdown",
   "metadata": {},
   "source": [
    "# Задание №1.  **Нахождение максимального элемента**\n",
    "**Описание**: Создайте случайный одномерный массив из 10 элементов и найдите максимальное значение.  \n",
    "**Подсказка**: Используйте `np.random.rand()` и `np.max()`."
   ]
  },
  {
   "cell_type": "code",
   "execution_count": 5,
   "metadata": {},
   "outputs": [
    {
     "name": "stdout",
     "output_type": "stream",
     "text": [
      "Исходный массив: [0.70795157 0.78961419 0.03725983 0.61931413 0.77997826 0.4518458\n",
      " 0.62504199 0.81706608 0.91150493 0.63162403]\n",
      "Максимальное значение: 0.9115049303560041\n"
     ]
    }
   ],
   "source": [
    "import numpy as np\n",
    "\n",
    "a = np.random.rand(10)\n",
    "print('Исходный массив:', a)\n",
    "print('Максимальное значение:', np.max(a))"
   ]
  },
  {
   "cell_type": "markdown",
   "metadata": {},
   "source": [
    "# Задание №2. **Обратная матрица**\n",
    "**Описание**: Создайте квадратную матрицу 3x3 и найдите её обратную матрицу.  \n",
    "**Подсказка**: Используйте `np.linalg.inv()`.\n"
   ]
  },
  {
   "cell_type": "code",
   "execution_count": 12,
   "metadata": {},
   "outputs": [
    {
     "name": "stdout",
     "output_type": "stream",
     "text": [
      "Исходная матрица:\n",
      "[[6 1 4]\n",
      " [6 9 1]\n",
      " [8 9 8]]\n",
      "Обратная матрица:\n",
      "[[ 0.23684211  0.10526316 -0.13157895]\n",
      " [-0.15037594  0.06015038  0.06766917]\n",
      " [-0.06766917 -0.17293233  0.18045113]]\n"
     ]
    }
   ],
   "source": [
    "import numpy as np\n",
    "\n",
    "a = np.random.randint(1, 10, size = (3,3))\n",
    "print('Исходная матрица:')\n",
    "print(a)\n",
    "print('Обратная матрица:')\n",
    "print( np.linalg.inv(a)) \n",
    "\n"
   ]
  },
  {
   "cell_type": "markdown",
   "metadata": {},
   "source": [
    "# Задание №3. **Матричное умножение**\n",
    "**Описание**: Создайте две матрицы 2x2 и выполните их матричное умножение.  \n",
    "**Подсказка**: Используйте функцию `np.dot()`."
   ]
  },
  {
   "cell_type": "code",
   "execution_count": 14,
   "metadata": {},
   "outputs": [
    {
     "name": "stdout",
     "output_type": "stream",
     "text": [
      "Матрица A:\n",
      "[[1 9]\n",
      " [9 3]]\n",
      "Матрица B:\n",
      "[[5 5]\n",
      " [2 1]]\n",
      "A x B:\n",
      "[[23 14]\n",
      " [51 48]]\n"
     ]
    }
   ],
   "source": [
    "import numpy as np\n",
    "\n",
    "a = np.random.randint(1, 10, size = (2,2))\n",
    "b = np.random.randint(1, 10, size = (2,2))\n",
    "\n",
    "print('Матрица A:')\n",
    "print(a)\n",
    "print('Матрица B:')\n",
    "print(b)\n",
    "print('A x B:')\n",
    "print(np.dot(a,b))"
   ]
  },
  {
   "cell_type": "markdown",
   "metadata": {},
   "source": [
    "# Задание №4. **Нахождение собственных значений**\n",
    "**Описание**: Создайте матрицу 3x3 и найдите её собственные значения.  \n",
    "**Подсказка**: Используйте функцию `np.linalg.eig()`."
   ]
  },
  {
   "cell_type": "code",
   "execution_count": 19,
   "metadata": {},
   "outputs": [
    {
     "name": "stdout",
     "output_type": "stream",
     "text": [
      "Исходная матрица:\n",
      "[[6 9 6]\n",
      " [6 6 2]\n",
      " [4 2 2]]\n",
      "Собственные числа:\n",
      "15.188382766488473 -2.668667478405733 1.4802847119172748\n"
     ]
    }
   ],
   "source": [
    "import numpy as np\n",
    "\n",
    "a = np.random.randint(1, 10, size = (3,3))\n",
    "print('Исходная матрица:')\n",
    "print(a)\n",
    "print('Собственные числа:')\n",
    "l,_ = np.linalg.eig(a)\n",
    "print(*l) "
   ]
  },
  {
   "cell_type": "markdown",
   "metadata": {},
   "source": [
    "# Задание №5. **Умножение матриц на вектор**\n",
    "**Описание**: Создайте матрицу 3x3 и вектор из 3 элементов, выполните их умножение.  \n",
    "**Подсказка**: Используйте `np.dot()`."
   ]
  },
  {
   "cell_type": "code",
   "execution_count": 23,
   "metadata": {},
   "outputs": [
    {
     "name": "stdout",
     "output_type": "stream",
     "text": [
      "Матрица A:\n",
      "[[9 5 2]\n",
      " [8 2 3]\n",
      " [9 8 8]]\n",
      "Вектор B:\n",
      "[4 2 3]\n",
      "A x B:\n",
      "[52 45 76]\n"
     ]
    }
   ],
   "source": [
    "import numpy as np\n",
    "\n",
    "a = np.random.randint(1, 10, size = (3,3))\n",
    "b = np.random.randint(1, 10, size = (3))\n",
    "\n",
    "print('Матрица A:')\n",
    "print(a)\n",
    "print('Вектор B:')\n",
    "print(b)\n",
    "print('A x B:')\n",
    "print(np.dot(a,b))"
   ]
  },
  {
   "cell_type": "markdown",
   "metadata": {},
   "source": [
    "# Задание №6. **Сумма элементов по строкам и столбцам**\n",
    "**Описание**: Создайте случайную матрицу 4x4 и найдите сумму элементов каждой строки и каждого столбца.  \n",
    "**Подсказка**: Используйте `np.sum()` с параметром `axis`."
   ]
  },
  {
   "cell_type": "code",
   "execution_count": 25,
   "metadata": {},
   "outputs": [
    {
     "name": "stdout",
     "output_type": "stream",
     "text": [
      "Матрица A:\n",
      "[[6 9 6 1]\n",
      " [4 1 5 8]\n",
      " [9 2 6 8]\n",
      " [4 4 9 2]]\n",
      "Сумма в каждой строке\n",
      "[22 18 25 19]\n",
      "Сумма в каждом столбце\n",
      "[23 16 26 19]\n"
     ]
    }
   ],
   "source": [
    "import numpy as np\n",
    "\n",
    "a = np.random.randint(1, 10, size = (4,4))\n",
    "\n",
    "print('Матрица A:')\n",
    "print(a)\n",
    "print('Сумма в каждой строке')\n",
    "print(np.sum(a, axis = 1))\n",
    "print('Сумма в каждом столбце')\n",
    "print(np.sum(a, axis = 0))"
   ]
  },
  {
   "cell_type": "markdown",
   "metadata": {},
   "source": [
    "# Задание №7. **Медиана каждой строки матрицы**\n",
    "**Описание**: Создайте случайную матрицу 5x5 и найдите медиану каждого ряда (строки).  \n",
    "**Подсказка**: Используйте `np.median()` с параметром `axis`."
   ]
  },
  {
   "cell_type": "code",
   "execution_count": 41,
   "metadata": {},
   "outputs": [
    {
     "name": "stdout",
     "output_type": "stream",
     "text": [
      "Матрица A:\n",
      "[[8 4 6 7 5]\n",
      " [7 5 5 5 3]\n",
      " [7 8 9 2 1]\n",
      " [7 4 9 5 4]\n",
      " [9 6 5 9 3]]\n",
      "Медиана в каждой строке\n",
      "[6. 5. 7. 5. 6.]\n"
     ]
    }
   ],
   "source": [
    "import numpy as np\n",
    "\n",
    "a = np.random.randint(1, 10, size = (5,5))\n",
    "\n",
    "print('Матрица A:')\n",
    "print(a)\n",
    "print('Медиана в каждой строке')\n",
    "print(np.median(a, axis = 1))\n"
   ]
  },
  {
   "cell_type": "markdown",
   "metadata": {},
   "source": [
    "# Задание №8. **Нахождение элементов по условию**\n",
    "**Описание**: Создайте массив из 10 элементов и найдите все элементы, которые больше среднего значения массива.  \n",
    "**Подсказка**: Используйте условие для массива."
   ]
  },
  {
   "cell_type": "code",
   "execution_count": 42,
   "metadata": {},
   "outputs": [
    {
     "name": "stdout",
     "output_type": "stream",
     "text": [
      "Массив:\n",
      "[8 4 2 4 4 1 3 7 9 5]\n",
      "Среднее значение 4.0\n",
      "Элементы больше сред знач:\n",
      "[8 7 9 5]\n"
     ]
    }
   ],
   "source": [
    "a = np.random.randint(1, 10, size = (10))\n",
    "\n",
    "print('Массив:')\n",
    "print(a)\n",
    "s = np.median(a)\n",
    "print('Среднее значение', s)\n",
    "print('Элементы больше сред знач:')\n",
    "print(a[a>s])\n"
   ]
  },
  {
   "cell_type": "markdown",
   "metadata": {},
   "source": [
    "# Задание №9. **Поэлементное умножение массивов**\n",
    "**Описание**: Создайте два массива одинакового размера и выполните их поэлементное умножение.  \n",
    "**Подсказка**: Используйте операцию умножения `*`."
   ]
  },
  {
   "cell_type": "code",
   "execution_count": 45,
   "metadata": {},
   "outputs": [
    {
     "name": "stdout",
     "output_type": "stream",
     "text": [
      "Массив A:\n",
      "[8 5 5]\n",
      "Массив B:\n",
      "[9 7 8]\n",
      "A * B:\n",
      "[72 35 40]\n"
     ]
    }
   ],
   "source": [
    "import numpy as np\n",
    "\n",
    "a = np.random.randint(1, 10, size = (3))\n",
    "b = np.random.randint(1, 10, size = (3))\n",
    "\n",
    "print('Массив A:')\n",
    "print(a)\n",
    "print('Массив B:')\n",
    "print(b)\n",
    "print('A * B:')\n",
    "print(a*b)"
   ]
  },
  {
   "cell_type": "markdown",
   "metadata": {},
   "source": [
    "# Задание №10. **Формирование матрицы треугольника**\n",
    "**Описание**: Создайте двумерный массив 5x5, где все элементы ниже главной диагонали равны 0.  \n",
    "**Подсказка**: Используйте функцию `np.triu()`."
   ]
  },
  {
   "cell_type": "code",
   "execution_count": 46,
   "metadata": {},
   "outputs": [
    {
     "name": "stdout",
     "output_type": "stream",
     "text": [
      "[[3 6 7]\n",
      " [0 6 7]\n",
      " [0 0 7]]\n"
     ]
    }
   ],
   "source": [
    "import numpy as np\n",
    "\n",
    "a = np.random.randint(1, 10, size = (3))\n",
    "b = np.triu(a)\n",
    "\n",
    "\n",
    "print(b)\n"
   ]
  },
  {
   "cell_type": "markdown",
   "metadata": {},
   "source": [
    "# Задание №11. **Сортировка массива**\n",
    "**Описание**: Создайте массив из 8 случайных чисел и отсортируйте его по возрастанию.  \n",
    "**Подсказка**: Используйте функцию `np.sort()`."
   ]
  },
  {
   "cell_type": "code",
   "execution_count": 47,
   "metadata": {},
   "outputs": [
    {
     "name": "stdout",
     "output_type": "stream",
     "text": [
      "Исходный массив: [3 2 7 7 4 1 8 8]\n",
      "Отсортированный массив: [1 2 3 4 7 7 8 8]\n"
     ]
    }
   ],
   "source": [
    "import numpy as np\n",
    "\n",
    "a = np.random.randint(1, 10, size = (8))\n",
    "print('Исходный массив:', a)\n",
    "b = np.sort(a)\n",
    "print('Отсортированный массив:', b)"
   ]
  },
  {
   "cell_type": "markdown",
   "metadata": {},
   "source": [
    "# Задание №12. **Генерация линейно распределённых чисел**\n",
    "**Описание**: Создайте массив из 10 чисел, равномерно распределённых между 0 и 1.  \n",
    "**Подсказка**: Используйте функцию `np.linspace()`."
   ]
  },
  {
   "cell_type": "code",
   "execution_count": 50,
   "metadata": {},
   "outputs": [
    {
     "name": "stdout",
     "output_type": "stream",
     "text": [
      "[0.         0.11111111 0.22222222 0.33333333 0.44444444 0.55555556\n",
      " 0.66666667 0.77777778 0.88888889 1.        ]\n"
     ]
    }
   ],
   "source": [
    "import numpy as np\n",
    "\n",
    "print(np.linspace(0,1,10))"
   ]
  },
  {
   "cell_type": "markdown",
   "metadata": {},
   "source": [
    "# Задание №13. **Генерация случайных целых чисел**\n",
    "**Описание**: Создайте случайный массив из 12 целых чисел от 1 до 100 и отсортируйте его по возрастанию.  \n",
    "**Подсказка**: Используйте `np.random.randint()` и `np.sort()`."
   ]
  },
  {
   "cell_type": "code",
   "execution_count": 52,
   "metadata": {},
   "outputs": [
    {
     "name": "stdout",
     "output_type": "stream",
     "text": [
      "Исходный массив: [26 33 84 88 33 21  9 60 15 55 13 24]\n",
      "Отсортированный массив: [ 9 13 15 21 24 26 33 33 55 60 84 88]\n"
     ]
    }
   ],
   "source": [
    "import numpy as np\n",
    "\n",
    "a = np.random.randint(1, 100, size = (12))\n",
    "print('Исходный массив:', a)\n",
    "b = np.sort(a)\n",
    "print('Отсортированный массив:', b)"
   ]
  },
  {
   "cell_type": "markdown",
   "metadata": {},
   "source": [
    "# Задание №14. **Сложение матриц поэлементно**\n",
    "**Описание**: Создайте две матрицы 3x3 и сложите их поэлементно.  \n",
    "**Подсказка**: Используйте операцию сложения `+`."
   ]
  },
  {
   "cell_type": "code",
   "execution_count": 56,
   "metadata": {},
   "outputs": [
    {
     "name": "stdout",
     "output_type": "stream",
     "text": [
      "[[10 10 10]\n",
      " [10 10 10]\n",
      " [10 10 10]]\n"
     ]
    }
   ],
   "source": [
    "import numpy as np\n",
    "\n",
    "a = np.array([[1, 2, 3], [4, 5, 6], [7, 8, 9]])\n",
    "b = np.array([[9, 8, 7], [6, 5, 4], [3, 2, 1]])\n",
    "\n",
    "print(a+b)"
   ]
  },
  {
   "cell_type": "markdown",
   "metadata": {},
   "source": [
    "# Задание №15. **Случайные числа с заданным распределением**\n",
    "**Описание**: Создайте массив из 10 случайных чисел с нормальным распределением.  \n",
    "**Подсказка**: Используйте `np.random.randn()`."
   ]
  },
  {
   "cell_type": "code",
   "execution_count": 59,
   "metadata": {},
   "outputs": [
    {
     "name": "stdout",
     "output_type": "stream",
     "text": [
      "[ 1.14572616  1.31197275 -0.46113743 -0.69181562  0.04245084 -1.89559071\n",
      "  1.34995362  0.96514597  0.61262279 -0.25647824]\n"
     ]
    }
   ],
   "source": [
    "import numpy as np\n",
    "print(np.random.randn(10))"
   ]
  }
 ],
 "metadata": {
  "kernelspec": {
   "display_name": "Python 3",
   "language": "python",
   "name": "python3"
  },
  "language_info": {
   "codemirror_mode": {
    "name": "ipython",
    "version": 3
   },
   "file_extension": ".py",
   "mimetype": "text/x-python",
   "name": "python",
   "nbconvert_exporter": "python",
   "pygments_lexer": "ipython3",
   "version": "3.12.6"
  }
 },
 "nbformat": 4,
 "nbformat_minor": 2
}
